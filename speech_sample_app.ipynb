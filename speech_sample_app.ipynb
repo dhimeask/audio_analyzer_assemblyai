{
 "cells": [
  {
   "cell_type": "code",
   "execution_count": 1,
   "id": "f125b255-11ea-4479-9c6f-b26983f57c4b",
   "metadata": {},
   "outputs": [
    {
     "data": {
      "application/javascript": [
       "(function(root) {\n",
       "  function now() {\n",
       "    return new Date();\n",
       "  }\n",
       "\n",
       "  var force = true;\n",
       "\n",
       "  if (typeof root._bokeh_onload_callbacks === \"undefined\" || force === true) {\n",
       "    root._bokeh_onload_callbacks = [];\n",
       "    root._bokeh_is_loading = undefined;\n",
       "  }\n",
       "\n",
       "  if (typeof (root._bokeh_timeout) === \"undefined\" || force === true) {\n",
       "    root._bokeh_timeout = Date.now() + 5000;\n",
       "    root._bokeh_failed_load = false;\n",
       "  }\n",
       "\n",
       "  function run_callbacks() {\n",
       "    try {\n",
       "      root._bokeh_onload_callbacks.forEach(function(callback) {\n",
       "        if (callback != null)\n",
       "          callback();\n",
       "      });\n",
       "    } finally {\n",
       "      delete root._bokeh_onload_callbacks\n",
       "    }\n",
       "    console.debug(\"Bokeh: all callbacks have finished\");\n",
       "  }\n",
       "\n",
       "  function load_libs(css_urls, js_urls, js_modules, callback) {\n",
       "    if (css_urls == null) css_urls = [];\n",
       "    if (js_urls == null) js_urls = [];\n",
       "    if (js_modules == null) js_modules = [];\n",
       "\n",
       "    root._bokeh_onload_callbacks.push(callback);\n",
       "    if (root._bokeh_is_loading > 0) {\n",
       "      console.debug(\"Bokeh: BokehJS is being loaded, scheduling callback at\", now());\n",
       "      return null;\n",
       "    }\n",
       "    if (js_urls.length === 0 && js_modules.length === 0) {\n",
       "      run_callbacks();\n",
       "      return null;\n",
       "    }\n",
       "    console.debug(\"Bokeh: BokehJS not loaded, scheduling load and callback at\", now());\n",
       "\n",
       "    function on_load() {\n",
       "      root._bokeh_is_loading--;\n",
       "      if (root._bokeh_is_loading === 0) {\n",
       "        console.debug(\"Bokeh: all BokehJS libraries/stylesheets loaded\");\n",
       "        run_callbacks()\n",
       "      }\n",
       "    }\n",
       "\n",
       "    function on_error() {\n",
       "      console.error(\"failed to load \" + url);\n",
       "    }\n",
       "\n",
       "    for (var i = 0; i < css_urls.length; i++) {\n",
       "      var url = css_urls[i];\n",
       "      const element = document.createElement(\"link\");\n",
       "      element.onload = on_load;\n",
       "      element.onerror = on_error;\n",
       "      element.rel = \"stylesheet\";\n",
       "      element.type = \"text/css\";\n",
       "      element.href = url;\n",
       "      console.debug(\"Bokeh: injecting link tag for BokehJS stylesheet: \", url);\n",
       "      document.body.appendChild(element);\n",
       "    }\n",
       "\n",
       "    var skip = [];\n",
       "    if (window.requirejs) {\n",
       "      window.requirejs.config({'packages': {}, 'paths': {'gridstack': 'https://cdn.jsdelivr.net/npm/gridstack@4.2.5/dist/gridstack-h5', 'notyf': 'https://cdn.jsdelivr.net/npm/notyf@3/notyf.min'}, 'shim': {'gridstack': {'exports': 'GridStack'}}});\n",
       "      require([\"gridstack\"], function(GridStack) {\n",
       "\twindow.GridStack = GridStack\n",
       "\ton_load()\n",
       "      })\n",
       "      require([\"notyf\"], function() {\n",
       "\ton_load()\n",
       "      })\n",
       "      root._bokeh_is_loading = css_urls.length + 2;\n",
       "    } else {\n",
       "      root._bokeh_is_loading = css_urls.length + js_urls.length + js_modules.length;\n",
       "    }    if (((window['GridStack'] !== undefined) && (!(window['GridStack'] instanceof HTMLElement))) || window.requirejs) {\n",
       "      var urls = ['https://cdn.jsdelivr.net/npm/gridstack@4.2.5/dist/gridstack-h5.js'];\n",
       "      for (var i = 0; i < urls.length; i++) {\n",
       "        skip.push(urls[i])\n",
       "      }\n",
       "    }    if (((window['Notyf'] !== undefined) && (!(window['Notyf'] instanceof HTMLElement))) || window.requirejs) {\n",
       "      var urls = ['https://cdn.jsdelivr.net/npm/notyf@3/notyf.min.js'];\n",
       "      for (var i = 0; i < urls.length; i++) {\n",
       "        skip.push(urls[i])\n",
       "      }\n",
       "    }    for (var i = 0; i < js_urls.length; i++) {\n",
       "      var url = js_urls[i];\n",
       "      if (skip.indexOf(url) >= 0) {\n",
       "\tif (!window.requirejs) {\n",
       "\t  on_load();\n",
       "\t}\n",
       "\tcontinue;\n",
       "      }\n",
       "      var element = document.createElement('script');\n",
       "      element.onload = on_load;\n",
       "      element.onerror = on_error;\n",
       "      element.async = false;\n",
       "      element.src = url;\n",
       "      console.debug(\"Bokeh: injecting script tag for BokehJS library: \", url);\n",
       "      document.head.appendChild(element);\n",
       "    }\n",
       "    for (var i = 0; i < js_modules.length; i++) {\n",
       "      var url = js_modules[i];\n",
       "      if (skip.indexOf(url) >= 0) {\n",
       "\tif (!window.requirejs) {\n",
       "\t  on_load();\n",
       "\t}\n",
       "\tcontinue;\n",
       "      }\n",
       "      var element = document.createElement('script');\n",
       "      element.onload = on_load;\n",
       "      element.onerror = on_error;\n",
       "      element.async = false;\n",
       "      element.src = url;\n",
       "      element.type = \"module\";\n",
       "      console.debug(\"Bokeh: injecting script tag for BokehJS library: \", url);\n",
       "      document.head.appendChild(element);\n",
       "    }\n",
       "    if (!js_urls.length && !js_modules.length) {\n",
       "      on_load()\n",
       "    }\n",
       "  };\n",
       "\n",
       "  function inject_raw_css(css) {\n",
       "    const element = document.createElement(\"style\");\n",
       "    element.appendChild(document.createTextNode(css));\n",
       "    document.body.appendChild(element);\n",
       "  }\n",
       "\n",
       "  var js_urls = [\"https://cdn.bokeh.org/bokeh/release/bokeh-2.4.3.min.js\", \"https://cdn.bokeh.org/bokeh/release/bokeh-gl-2.4.3.min.js\", \"https://cdn.bokeh.org/bokeh/release/bokeh-widgets-2.4.3.min.js\", \"https://cdn.bokeh.org/bokeh/release/bokeh-tables-2.4.3.min.js\", \"https://cdn.bokeh.org/bokeh/release/bokeh-mathjax-2.4.3.min.js\", \"https://cdn.jsdelivr.net/npm/notyf@3/notyf.min.js\", \"https://unpkg.com/@holoviz/panel@0.13.1/dist/panel.min.js\"];\n",
       "  var js_modules = [];\n",
       "  var css_urls = [\"https://cdn.jsdelivr.net/npm/notyf@3/notyf.min.css\", \"https://cdnjs.cloudflare.com/ajax/libs/font-awesome/5.15.1/css/all.min.css\", \"https://unpkg.com/@holoviz/panel@0.13.1/dist/css/debugger.css\", \"https://unpkg.com/@holoviz/panel@0.13.1/dist/css/alerts.css\", \"https://unpkg.com/@holoviz/panel@0.13.1/dist/css/card.css\", \"https://unpkg.com/@holoviz/panel@0.13.1/dist/css/widgets.css\", \"https://unpkg.com/@holoviz/panel@0.13.1/dist/css/markdown.css\", \"https://unpkg.com/@holoviz/panel@0.13.1/dist/css/json.css\", \"https://unpkg.com/@holoviz/panel@0.13.1/dist/css/loading.css\", \"https://unpkg.com/@holoviz/panel@0.13.1/dist/css/dataframe.css\"];\n",
       "  var inline_js = [    function(Bokeh) {\n",
       "      inject_raw_css(\"\\n    .bk.pn-loading.arcs:before {\\n      background-image: url(\\\"data:image/svg+xml;base64,PHN2ZyB4bWxucz0iaHR0cDovL3d3dy53My5vcmcvMjAwMC9zdmciIHhtbG5zOnhsaW5rPSJodHRwOi8vd3d3LnczLm9yZy8xOTk5L3hsaW5rIiBzdHlsZT0ibWFyZ2luOiBhdXRvOyBiYWNrZ3JvdW5kOiBub25lOyBkaXNwbGF5OiBibG9jazsgc2hhcGUtcmVuZGVyaW5nOiBhdXRvOyIgdmlld0JveD0iMCAwIDEwMCAxMDAiIHByZXNlcnZlQXNwZWN0UmF0aW89InhNaWRZTWlkIj4gIDxjaXJjbGUgY3g9IjUwIiBjeT0iNTAiIHI9IjMyIiBzdHJva2Utd2lkdGg9IjgiIHN0cm9rZT0iI2MzYzNjMyIgc3Ryb2tlLWRhc2hhcnJheT0iNTAuMjY1NDgyNDU3NDM2NjkgNTAuMjY1NDgyNDU3NDM2NjkiIGZpbGw9Im5vbmUiIHN0cm9rZS1saW5lY2FwPSJyb3VuZCI+ICAgIDxhbmltYXRlVHJhbnNmb3JtIGF0dHJpYnV0ZU5hbWU9InRyYW5zZm9ybSIgdHlwZT0icm90YXRlIiByZXBlYXRDb3VudD0iaW5kZWZpbml0ZSIgZHVyPSIxcyIga2V5VGltZXM9IjA7MSIgdmFsdWVzPSIwIDUwIDUwOzM2MCA1MCA1MCI+PC9hbmltYXRlVHJhbnNmb3JtPiAgPC9jaXJjbGU+PC9zdmc+\\\");\\n      background-size: auto calc(min(50%, 400px));\\n    }\\n    \");\n",
       "    },    function(Bokeh) {\n",
       "      Bokeh.set_log_level(\"info\");\n",
       "    },\n",
       "function(Bokeh) {} // ensure no trailing comma for IE\n",
       "  ];\n",
       "\n",
       "  function run_inline_js() {\n",
       "    if ((root.Bokeh !== undefined) || (force === true)) {\n",
       "      for (var i = 0; i < inline_js.length; i++) {\n",
       "        inline_js[i].call(root, root.Bokeh);\n",
       "      }} else if (Date.now() < root._bokeh_timeout) {\n",
       "      setTimeout(run_inline_js, 100);\n",
       "    } else if (!root._bokeh_failed_load) {\n",
       "      console.log(\"Bokeh: BokehJS failed to load within specified timeout.\");\n",
       "      root._bokeh_failed_load = true;\n",
       "    }\n",
       "  }\n",
       "\n",
       "  if (root._bokeh_is_loading === 0) {\n",
       "    console.debug(\"Bokeh: BokehJS loaded, going straight to plotting\");\n",
       "    run_inline_js();\n",
       "  } else {\n",
       "    load_libs(css_urls, js_urls, js_modules, function() {\n",
       "      console.debug(\"Bokeh: BokehJS plotting callback run at\", now());\n",
       "      run_inline_js();\n",
       "    });\n",
       "  }\n",
       "}(window));"
      ],
      "application/vnd.holoviews_load.v0+json": "(function(root) {\n  function now() {\n    return new Date();\n  }\n\n  var force = true;\n\n  if (typeof root._bokeh_onload_callbacks === \"undefined\" || force === true) {\n    root._bokeh_onload_callbacks = [];\n    root._bokeh_is_loading = undefined;\n  }\n\n  if (typeof (root._bokeh_timeout) === \"undefined\" || force === true) {\n    root._bokeh_timeout = Date.now() + 5000;\n    root._bokeh_failed_load = false;\n  }\n\n  function run_callbacks() {\n    try {\n      root._bokeh_onload_callbacks.forEach(function(callback) {\n        if (callback != null)\n          callback();\n      });\n    } finally {\n      delete root._bokeh_onload_callbacks\n    }\n    console.debug(\"Bokeh: all callbacks have finished\");\n  }\n\n  function load_libs(css_urls, js_urls, js_modules, callback) {\n    if (css_urls == null) css_urls = [];\n    if (js_urls == null) js_urls = [];\n    if (js_modules == null) js_modules = [];\n\n    root._bokeh_onload_callbacks.push(callback);\n    if (root._bokeh_is_loading > 0) {\n      console.debug(\"Bokeh: BokehJS is being loaded, scheduling callback at\", now());\n      return null;\n    }\n    if (js_urls.length === 0 && js_modules.length === 0) {\n      run_callbacks();\n      return null;\n    }\n    console.debug(\"Bokeh: BokehJS not loaded, scheduling load and callback at\", now());\n\n    function on_load() {\n      root._bokeh_is_loading--;\n      if (root._bokeh_is_loading === 0) {\n        console.debug(\"Bokeh: all BokehJS libraries/stylesheets loaded\");\n        run_callbacks()\n      }\n    }\n\n    function on_error() {\n      console.error(\"failed to load \" + url);\n    }\n\n    for (var i = 0; i < css_urls.length; i++) {\n      var url = css_urls[i];\n      const element = document.createElement(\"link\");\n      element.onload = on_load;\n      element.onerror = on_error;\n      element.rel = \"stylesheet\";\n      element.type = \"text/css\";\n      element.href = url;\n      console.debug(\"Bokeh: injecting link tag for BokehJS stylesheet: \", url);\n      document.body.appendChild(element);\n    }\n\n    var skip = [];\n    if (window.requirejs) {\n      window.requirejs.config({'packages': {}, 'paths': {'gridstack': 'https://cdn.jsdelivr.net/npm/gridstack@4.2.5/dist/gridstack-h5', 'notyf': 'https://cdn.jsdelivr.net/npm/notyf@3/notyf.min'}, 'shim': {'gridstack': {'exports': 'GridStack'}}});\n      require([\"gridstack\"], function(GridStack) {\n\twindow.GridStack = GridStack\n\ton_load()\n      })\n      require([\"notyf\"], function() {\n\ton_load()\n      })\n      root._bokeh_is_loading = css_urls.length + 2;\n    } else {\n      root._bokeh_is_loading = css_urls.length + js_urls.length + js_modules.length;\n    }    if (((window['GridStack'] !== undefined) && (!(window['GridStack'] instanceof HTMLElement))) || window.requirejs) {\n      var urls = ['https://cdn.jsdelivr.net/npm/gridstack@4.2.5/dist/gridstack-h5.js'];\n      for (var i = 0; i < urls.length; i++) {\n        skip.push(urls[i])\n      }\n    }    if (((window['Notyf'] !== undefined) && (!(window['Notyf'] instanceof HTMLElement))) || window.requirejs) {\n      var urls = ['https://cdn.jsdelivr.net/npm/notyf@3/notyf.min.js'];\n      for (var i = 0; i < urls.length; i++) {\n        skip.push(urls[i])\n      }\n    }    for (var i = 0; i < js_urls.length; i++) {\n      var url = js_urls[i];\n      if (skip.indexOf(url) >= 0) {\n\tif (!window.requirejs) {\n\t  on_load();\n\t}\n\tcontinue;\n      }\n      var element = document.createElement('script');\n      element.onload = on_load;\n      element.onerror = on_error;\n      element.async = false;\n      element.src = url;\n      console.debug(\"Bokeh: injecting script tag for BokehJS library: \", url);\n      document.head.appendChild(element);\n    }\n    for (var i = 0; i < js_modules.length; i++) {\n      var url = js_modules[i];\n      if (skip.indexOf(url) >= 0) {\n\tif (!window.requirejs) {\n\t  on_load();\n\t}\n\tcontinue;\n      }\n      var element = document.createElement('script');\n      element.onload = on_load;\n      element.onerror = on_error;\n      element.async = false;\n      element.src = url;\n      element.type = \"module\";\n      console.debug(\"Bokeh: injecting script tag for BokehJS library: \", url);\n      document.head.appendChild(element);\n    }\n    if (!js_urls.length && !js_modules.length) {\n      on_load()\n    }\n  };\n\n  function inject_raw_css(css) {\n    const element = document.createElement(\"style\");\n    element.appendChild(document.createTextNode(css));\n    document.body.appendChild(element);\n  }\n\n  var js_urls = [\"https://cdn.bokeh.org/bokeh/release/bokeh-2.4.3.min.js\", \"https://cdn.bokeh.org/bokeh/release/bokeh-gl-2.4.3.min.js\", \"https://cdn.bokeh.org/bokeh/release/bokeh-widgets-2.4.3.min.js\", \"https://cdn.bokeh.org/bokeh/release/bokeh-tables-2.4.3.min.js\", \"https://cdn.bokeh.org/bokeh/release/bokeh-mathjax-2.4.3.min.js\", \"https://cdn.jsdelivr.net/npm/notyf@3/notyf.min.js\", \"https://unpkg.com/@holoviz/panel@0.13.1/dist/panel.min.js\"];\n  var js_modules = [];\n  var css_urls = [\"https://cdn.jsdelivr.net/npm/notyf@3/notyf.min.css\", \"https://cdnjs.cloudflare.com/ajax/libs/font-awesome/5.15.1/css/all.min.css\", \"https://unpkg.com/@holoviz/panel@0.13.1/dist/css/debugger.css\", \"https://unpkg.com/@holoviz/panel@0.13.1/dist/css/alerts.css\", \"https://unpkg.com/@holoviz/panel@0.13.1/dist/css/card.css\", \"https://unpkg.com/@holoviz/panel@0.13.1/dist/css/widgets.css\", \"https://unpkg.com/@holoviz/panel@0.13.1/dist/css/markdown.css\", \"https://unpkg.com/@holoviz/panel@0.13.1/dist/css/json.css\", \"https://unpkg.com/@holoviz/panel@0.13.1/dist/css/loading.css\", \"https://unpkg.com/@holoviz/panel@0.13.1/dist/css/dataframe.css\"];\n  var inline_js = [    function(Bokeh) {\n      inject_raw_css(\"\\n    .bk.pn-loading.arcs:before {\\n      background-image: url(\\\"data:image/svg+xml;base64,PHN2ZyB4bWxucz0iaHR0cDovL3d3dy53My5vcmcvMjAwMC9zdmciIHhtbG5zOnhsaW5rPSJodHRwOi8vd3d3LnczLm9yZy8xOTk5L3hsaW5rIiBzdHlsZT0ibWFyZ2luOiBhdXRvOyBiYWNrZ3JvdW5kOiBub25lOyBkaXNwbGF5OiBibG9jazsgc2hhcGUtcmVuZGVyaW5nOiBhdXRvOyIgdmlld0JveD0iMCAwIDEwMCAxMDAiIHByZXNlcnZlQXNwZWN0UmF0aW89InhNaWRZTWlkIj4gIDxjaXJjbGUgY3g9IjUwIiBjeT0iNTAiIHI9IjMyIiBzdHJva2Utd2lkdGg9IjgiIHN0cm9rZT0iI2MzYzNjMyIgc3Ryb2tlLWRhc2hhcnJheT0iNTAuMjY1NDgyNDU3NDM2NjkgNTAuMjY1NDgyNDU3NDM2NjkiIGZpbGw9Im5vbmUiIHN0cm9rZS1saW5lY2FwPSJyb3VuZCI+ICAgIDxhbmltYXRlVHJhbnNmb3JtIGF0dHJpYnV0ZU5hbWU9InRyYW5zZm9ybSIgdHlwZT0icm90YXRlIiByZXBlYXRDb3VudD0iaW5kZWZpbml0ZSIgZHVyPSIxcyIga2V5VGltZXM9IjA7MSIgdmFsdWVzPSIwIDUwIDUwOzM2MCA1MCA1MCI+PC9hbmltYXRlVHJhbnNmb3JtPiAgPC9jaXJjbGU+PC9zdmc+\\\");\\n      background-size: auto calc(min(50%, 400px));\\n    }\\n    \");\n    },    function(Bokeh) {\n      Bokeh.set_log_level(\"info\");\n    },\nfunction(Bokeh) {} // ensure no trailing comma for IE\n  ];\n\n  function run_inline_js() {\n    if ((root.Bokeh !== undefined) || (force === true)) {\n      for (var i = 0; i < inline_js.length; i++) {\n        inline_js[i].call(root, root.Bokeh);\n      }} else if (Date.now() < root._bokeh_timeout) {\n      setTimeout(run_inline_js, 100);\n    } else if (!root._bokeh_failed_load) {\n      console.log(\"Bokeh: BokehJS failed to load within specified timeout.\");\n      root._bokeh_failed_load = true;\n    }\n  }\n\n  if (root._bokeh_is_loading === 0) {\n    console.debug(\"Bokeh: BokehJS loaded, going straight to plotting\");\n    run_inline_js();\n  } else {\n    load_libs(css_urls, js_urls, js_modules, function() {\n      console.debug(\"Bokeh: BokehJS plotting callback run at\", now());\n      run_inline_js();\n    });\n  }\n}(window));"
     },
     "metadata": {},
     "output_type": "display_data"
    },
    {
     "data": {
      "application/javascript": [
       "\n",
       "if ((window.PyViz === undefined) || (window.PyViz instanceof HTMLElement)) {\n",
       "  window.PyViz = {comms: {}, comm_status:{}, kernels:{}, receivers: {}, plot_index: []}\n",
       "}\n",
       "\n",
       "\n",
       "    function JupyterCommManager() {\n",
       "    }\n",
       "\n",
       "    JupyterCommManager.prototype.register_target = function(plot_id, comm_id, msg_handler) {\n",
       "      if (window.comm_manager || ((window.Jupyter !== undefined) && (Jupyter.notebook.kernel != null))) {\n",
       "        var comm_manager = window.comm_manager || Jupyter.notebook.kernel.comm_manager;\n",
       "        comm_manager.register_target(comm_id, function(comm) {\n",
       "          comm.on_msg(msg_handler);\n",
       "        });\n",
       "      } else if ((plot_id in window.PyViz.kernels) && (window.PyViz.kernels[plot_id])) {\n",
       "        window.PyViz.kernels[plot_id].registerCommTarget(comm_id, function(comm) {\n",
       "          comm.onMsg = msg_handler;\n",
       "        });\n",
       "      } else if (typeof google != 'undefined' && google.colab.kernel != null) {\n",
       "        google.colab.kernel.comms.registerTarget(comm_id, (comm) => {\n",
       "          var messages = comm.messages[Symbol.asyncIterator]();\n",
       "          function processIteratorResult(result) {\n",
       "            var message = result.value;\n",
       "            console.log(message)\n",
       "            var content = {data: message.data, comm_id};\n",
       "            var buffers = []\n",
       "            for (var buffer of message.buffers || []) {\n",
       "              buffers.push(new DataView(buffer))\n",
       "            }\n",
       "            var metadata = message.metadata || {};\n",
       "            var msg = {content, buffers, metadata}\n",
       "            msg_handler(msg);\n",
       "            return messages.next().then(processIteratorResult);\n",
       "          }\n",
       "          return messages.next().then(processIteratorResult);\n",
       "        })\n",
       "      }\n",
       "    }\n",
       "\n",
       "    JupyterCommManager.prototype.get_client_comm = function(plot_id, comm_id, msg_handler) {\n",
       "      if (comm_id in window.PyViz.comms) {\n",
       "        return window.PyViz.comms[comm_id];\n",
       "      } else if (window.comm_manager || ((window.Jupyter !== undefined) && (Jupyter.notebook.kernel != null))) {\n",
       "        var comm_manager = window.comm_manager || Jupyter.notebook.kernel.comm_manager;\n",
       "        var comm = comm_manager.new_comm(comm_id, {}, {}, {}, comm_id);\n",
       "        if (msg_handler) {\n",
       "          comm.on_msg(msg_handler);\n",
       "        }\n",
       "      } else if ((plot_id in window.PyViz.kernels) && (window.PyViz.kernels[plot_id])) {\n",
       "        var comm = window.PyViz.kernels[plot_id].connectToComm(comm_id);\n",
       "        comm.open();\n",
       "        if (msg_handler) {\n",
       "          comm.onMsg = msg_handler;\n",
       "        }\n",
       "      } else if (typeof google != 'undefined' && google.colab.kernel != null) {\n",
       "        var comm_promise = google.colab.kernel.comms.open(comm_id)\n",
       "        comm_promise.then((comm) => {\n",
       "          window.PyViz.comms[comm_id] = comm;\n",
       "          if (msg_handler) {\n",
       "            var messages = comm.messages[Symbol.asyncIterator]();\n",
       "            function processIteratorResult(result) {\n",
       "              var message = result.value;\n",
       "              var content = {data: message.data};\n",
       "              var metadata = message.metadata || {comm_id};\n",
       "              var msg = {content, metadata}\n",
       "              msg_handler(msg);\n",
       "              return messages.next().then(processIteratorResult);\n",
       "            }\n",
       "            return messages.next().then(processIteratorResult);\n",
       "          }\n",
       "        }) \n",
       "        var sendClosure = (data, metadata, buffers, disposeOnDone) => {\n",
       "          return comm_promise.then((comm) => {\n",
       "            comm.send(data, metadata, buffers, disposeOnDone);\n",
       "          });\n",
       "        };\n",
       "        var comm = {\n",
       "          send: sendClosure\n",
       "        };\n",
       "      }\n",
       "      window.PyViz.comms[comm_id] = comm;\n",
       "      return comm;\n",
       "    }\n",
       "    window.PyViz.comm_manager = new JupyterCommManager();\n",
       "    \n",
       "\n",
       "\n",
       "var JS_MIME_TYPE = 'application/javascript';\n",
       "var HTML_MIME_TYPE = 'text/html';\n",
       "var EXEC_MIME_TYPE = 'application/vnd.holoviews_exec.v0+json';\n",
       "var CLASS_NAME = 'output';\n",
       "\n",
       "/**\n",
       " * Render data to the DOM node\n",
       " */\n",
       "function render(props, node) {\n",
       "  var div = document.createElement(\"div\");\n",
       "  var script = document.createElement(\"script\");\n",
       "  node.appendChild(div);\n",
       "  node.appendChild(script);\n",
       "}\n",
       "\n",
       "/**\n",
       " * Handle when a new output is added\n",
       " */\n",
       "function handle_add_output(event, handle) {\n",
       "  var output_area = handle.output_area;\n",
       "  var output = handle.output;\n",
       "  if ((output.data == undefined) || (!output.data.hasOwnProperty(EXEC_MIME_TYPE))) {\n",
       "    return\n",
       "  }\n",
       "  var id = output.metadata[EXEC_MIME_TYPE][\"id\"];\n",
       "  var toinsert = output_area.element.find(\".\" + CLASS_NAME.split(' ')[0]);\n",
       "  if (id !== undefined) {\n",
       "    var nchildren = toinsert.length;\n",
       "    var html_node = toinsert[nchildren-1].children[0];\n",
       "    html_node.innerHTML = output.data[HTML_MIME_TYPE];\n",
       "    var scripts = [];\n",
       "    var nodelist = html_node.querySelectorAll(\"script\");\n",
       "    for (var i in nodelist) {\n",
       "      if (nodelist.hasOwnProperty(i)) {\n",
       "        scripts.push(nodelist[i])\n",
       "      }\n",
       "    }\n",
       "\n",
       "    scripts.forEach( function (oldScript) {\n",
       "      var newScript = document.createElement(\"script\");\n",
       "      var attrs = [];\n",
       "      var nodemap = oldScript.attributes;\n",
       "      for (var j in nodemap) {\n",
       "        if (nodemap.hasOwnProperty(j)) {\n",
       "          attrs.push(nodemap[j])\n",
       "        }\n",
       "      }\n",
       "      attrs.forEach(function(attr) { newScript.setAttribute(attr.name, attr.value) });\n",
       "      newScript.appendChild(document.createTextNode(oldScript.innerHTML));\n",
       "      oldScript.parentNode.replaceChild(newScript, oldScript);\n",
       "    });\n",
       "    if (JS_MIME_TYPE in output.data) {\n",
       "      toinsert[nchildren-1].children[1].textContent = output.data[JS_MIME_TYPE];\n",
       "    }\n",
       "    output_area._hv_plot_id = id;\n",
       "    if ((window.Bokeh !== undefined) && (id in Bokeh.index)) {\n",
       "      window.PyViz.plot_index[id] = Bokeh.index[id];\n",
       "    } else {\n",
       "      window.PyViz.plot_index[id] = null;\n",
       "    }\n",
       "  } else if (output.metadata[EXEC_MIME_TYPE][\"server_id\"] !== undefined) {\n",
       "    var bk_div = document.createElement(\"div\");\n",
       "    bk_div.innerHTML = output.data[HTML_MIME_TYPE];\n",
       "    var script_attrs = bk_div.children[0].attributes;\n",
       "    for (var i = 0; i < script_attrs.length; i++) {\n",
       "      toinsert[toinsert.length - 1].childNodes[1].setAttribute(script_attrs[i].name, script_attrs[i].value);\n",
       "    }\n",
       "    // store reference to server id on output_area\n",
       "    output_area._bokeh_server_id = output.metadata[EXEC_MIME_TYPE][\"server_id\"];\n",
       "  }\n",
       "}\n",
       "\n",
       "/**\n",
       " * Handle when an output is cleared or removed\n",
       " */\n",
       "function handle_clear_output(event, handle) {\n",
       "  var id = handle.cell.output_area._hv_plot_id;\n",
       "  var server_id = handle.cell.output_area._bokeh_server_id;\n",
       "  if (((id === undefined) || !(id in PyViz.plot_index)) && (server_id !== undefined)) { return; }\n",
       "  var comm = window.PyViz.comm_manager.get_client_comm(\"hv-extension-comm\", \"hv-extension-comm\", function () {});\n",
       "  if (server_id !== null) {\n",
       "    comm.send({event_type: 'server_delete', 'id': server_id});\n",
       "    return;\n",
       "  } else if (comm !== null) {\n",
       "    comm.send({event_type: 'delete', 'id': id});\n",
       "  }\n",
       "  delete PyViz.plot_index[id];\n",
       "  if ((window.Bokeh !== undefined) & (id in window.Bokeh.index)) {\n",
       "    var doc = window.Bokeh.index[id].model.document\n",
       "    doc.clear();\n",
       "    const i = window.Bokeh.documents.indexOf(doc);\n",
       "    if (i > -1) {\n",
       "      window.Bokeh.documents.splice(i, 1);\n",
       "    }\n",
       "  }\n",
       "}\n",
       "\n",
       "/**\n",
       " * Handle kernel restart event\n",
       " */\n",
       "function handle_kernel_cleanup(event, handle) {\n",
       "  delete PyViz.comms[\"hv-extension-comm\"];\n",
       "  window.PyViz.plot_index = {}\n",
       "}\n",
       "\n",
       "/**\n",
       " * Handle update_display_data messages\n",
       " */\n",
       "function handle_update_output(event, handle) {\n",
       "  handle_clear_output(event, {cell: {output_area: handle.output_area}})\n",
       "  handle_add_output(event, handle)\n",
       "}\n",
       "\n",
       "function register_renderer(events, OutputArea) {\n",
       "  function append_mime(data, metadata, element) {\n",
       "    // create a DOM node to render to\n",
       "    var toinsert = this.create_output_subarea(\n",
       "    metadata,\n",
       "    CLASS_NAME,\n",
       "    EXEC_MIME_TYPE\n",
       "    );\n",
       "    this.keyboard_manager.register_events(toinsert);\n",
       "    // Render to node\n",
       "    var props = {data: data, metadata: metadata[EXEC_MIME_TYPE]};\n",
       "    render(props, toinsert[0]);\n",
       "    element.append(toinsert);\n",
       "    return toinsert\n",
       "  }\n",
       "\n",
       "  events.on('output_added.OutputArea', handle_add_output);\n",
       "  events.on('output_updated.OutputArea', handle_update_output);\n",
       "  events.on('clear_output.CodeCell', handle_clear_output);\n",
       "  events.on('delete.Cell', handle_clear_output);\n",
       "  events.on('kernel_ready.Kernel', handle_kernel_cleanup);\n",
       "\n",
       "  OutputArea.prototype.register_mime_type(EXEC_MIME_TYPE, append_mime, {\n",
       "    safe: true,\n",
       "    index: 0\n",
       "  });\n",
       "}\n",
       "\n",
       "if (window.Jupyter !== undefined) {\n",
       "  try {\n",
       "    var events = require('base/js/events');\n",
       "    var OutputArea = require('notebook/js/outputarea').OutputArea;\n",
       "    if (OutputArea.prototype.mime_types().indexOf(EXEC_MIME_TYPE) == -1) {\n",
       "      register_renderer(events, OutputArea);\n",
       "    }\n",
       "  } catch(err) {\n",
       "  }\n",
       "}\n"
      ],
      "application/vnd.holoviews_load.v0+json": "\nif ((window.PyViz === undefined) || (window.PyViz instanceof HTMLElement)) {\n  window.PyViz = {comms: {}, comm_status:{}, kernels:{}, receivers: {}, plot_index: []}\n}\n\n\n    function JupyterCommManager() {\n    }\n\n    JupyterCommManager.prototype.register_target = function(plot_id, comm_id, msg_handler) {\n      if (window.comm_manager || ((window.Jupyter !== undefined) && (Jupyter.notebook.kernel != null))) {\n        var comm_manager = window.comm_manager || Jupyter.notebook.kernel.comm_manager;\n        comm_manager.register_target(comm_id, function(comm) {\n          comm.on_msg(msg_handler);\n        });\n      } else if ((plot_id in window.PyViz.kernels) && (window.PyViz.kernels[plot_id])) {\n        window.PyViz.kernels[plot_id].registerCommTarget(comm_id, function(comm) {\n          comm.onMsg = msg_handler;\n        });\n      } else if (typeof google != 'undefined' && google.colab.kernel != null) {\n        google.colab.kernel.comms.registerTarget(comm_id, (comm) => {\n          var messages = comm.messages[Symbol.asyncIterator]();\n          function processIteratorResult(result) {\n            var message = result.value;\n            console.log(message)\n            var content = {data: message.data, comm_id};\n            var buffers = []\n            for (var buffer of message.buffers || []) {\n              buffers.push(new DataView(buffer))\n            }\n            var metadata = message.metadata || {};\n            var msg = {content, buffers, metadata}\n            msg_handler(msg);\n            return messages.next().then(processIteratorResult);\n          }\n          return messages.next().then(processIteratorResult);\n        })\n      }\n    }\n\n    JupyterCommManager.prototype.get_client_comm = function(plot_id, comm_id, msg_handler) {\n      if (comm_id in window.PyViz.comms) {\n        return window.PyViz.comms[comm_id];\n      } else if (window.comm_manager || ((window.Jupyter !== undefined) && (Jupyter.notebook.kernel != null))) {\n        var comm_manager = window.comm_manager || Jupyter.notebook.kernel.comm_manager;\n        var comm = comm_manager.new_comm(comm_id, {}, {}, {}, comm_id);\n        if (msg_handler) {\n          comm.on_msg(msg_handler);\n        }\n      } else if ((plot_id in window.PyViz.kernels) && (window.PyViz.kernels[plot_id])) {\n        var comm = window.PyViz.kernels[plot_id].connectToComm(comm_id);\n        comm.open();\n        if (msg_handler) {\n          comm.onMsg = msg_handler;\n        }\n      } else if (typeof google != 'undefined' && google.colab.kernel != null) {\n        var comm_promise = google.colab.kernel.comms.open(comm_id)\n        comm_promise.then((comm) => {\n          window.PyViz.comms[comm_id] = comm;\n          if (msg_handler) {\n            var messages = comm.messages[Symbol.asyncIterator]();\n            function processIteratorResult(result) {\n              var message = result.value;\n              var content = {data: message.data};\n              var metadata = message.metadata || {comm_id};\n              var msg = {content, metadata}\n              msg_handler(msg);\n              return messages.next().then(processIteratorResult);\n            }\n            return messages.next().then(processIteratorResult);\n          }\n        }) \n        var sendClosure = (data, metadata, buffers, disposeOnDone) => {\n          return comm_promise.then((comm) => {\n            comm.send(data, metadata, buffers, disposeOnDone);\n          });\n        };\n        var comm = {\n          send: sendClosure\n        };\n      }\n      window.PyViz.comms[comm_id] = comm;\n      return comm;\n    }\n    window.PyViz.comm_manager = new JupyterCommManager();\n    \n\n\nvar JS_MIME_TYPE = 'application/javascript';\nvar HTML_MIME_TYPE = 'text/html';\nvar EXEC_MIME_TYPE = 'application/vnd.holoviews_exec.v0+json';\nvar CLASS_NAME = 'output';\n\n/**\n * Render data to the DOM node\n */\nfunction render(props, node) {\n  var div = document.createElement(\"div\");\n  var script = document.createElement(\"script\");\n  node.appendChild(div);\n  node.appendChild(script);\n}\n\n/**\n * Handle when a new output is added\n */\nfunction handle_add_output(event, handle) {\n  var output_area = handle.output_area;\n  var output = handle.output;\n  if ((output.data == undefined) || (!output.data.hasOwnProperty(EXEC_MIME_TYPE))) {\n    return\n  }\n  var id = output.metadata[EXEC_MIME_TYPE][\"id\"];\n  var toinsert = output_area.element.find(\".\" + CLASS_NAME.split(' ')[0]);\n  if (id !== undefined) {\n    var nchildren = toinsert.length;\n    var html_node = toinsert[nchildren-1].children[0];\n    html_node.innerHTML = output.data[HTML_MIME_TYPE];\n    var scripts = [];\n    var nodelist = html_node.querySelectorAll(\"script\");\n    for (var i in nodelist) {\n      if (nodelist.hasOwnProperty(i)) {\n        scripts.push(nodelist[i])\n      }\n    }\n\n    scripts.forEach( function (oldScript) {\n      var newScript = document.createElement(\"script\");\n      var attrs = [];\n      var nodemap = oldScript.attributes;\n      for (var j in nodemap) {\n        if (nodemap.hasOwnProperty(j)) {\n          attrs.push(nodemap[j])\n        }\n      }\n      attrs.forEach(function(attr) { newScript.setAttribute(attr.name, attr.value) });\n      newScript.appendChild(document.createTextNode(oldScript.innerHTML));\n      oldScript.parentNode.replaceChild(newScript, oldScript);\n    });\n    if (JS_MIME_TYPE in output.data) {\n      toinsert[nchildren-1].children[1].textContent = output.data[JS_MIME_TYPE];\n    }\n    output_area._hv_plot_id = id;\n    if ((window.Bokeh !== undefined) && (id in Bokeh.index)) {\n      window.PyViz.plot_index[id] = Bokeh.index[id];\n    } else {\n      window.PyViz.plot_index[id] = null;\n    }\n  } else if (output.metadata[EXEC_MIME_TYPE][\"server_id\"] !== undefined) {\n    var bk_div = document.createElement(\"div\");\n    bk_div.innerHTML = output.data[HTML_MIME_TYPE];\n    var script_attrs = bk_div.children[0].attributes;\n    for (var i = 0; i < script_attrs.length; i++) {\n      toinsert[toinsert.length - 1].childNodes[1].setAttribute(script_attrs[i].name, script_attrs[i].value);\n    }\n    // store reference to server id on output_area\n    output_area._bokeh_server_id = output.metadata[EXEC_MIME_TYPE][\"server_id\"];\n  }\n}\n\n/**\n * Handle when an output is cleared or removed\n */\nfunction handle_clear_output(event, handle) {\n  var id = handle.cell.output_area._hv_plot_id;\n  var server_id = handle.cell.output_area._bokeh_server_id;\n  if (((id === undefined) || !(id in PyViz.plot_index)) && (server_id !== undefined)) { return; }\n  var comm = window.PyViz.comm_manager.get_client_comm(\"hv-extension-comm\", \"hv-extension-comm\", function () {});\n  if (server_id !== null) {\n    comm.send({event_type: 'server_delete', 'id': server_id});\n    return;\n  } else if (comm !== null) {\n    comm.send({event_type: 'delete', 'id': id});\n  }\n  delete PyViz.plot_index[id];\n  if ((window.Bokeh !== undefined) & (id in window.Bokeh.index)) {\n    var doc = window.Bokeh.index[id].model.document\n    doc.clear();\n    const i = window.Bokeh.documents.indexOf(doc);\n    if (i > -1) {\n      window.Bokeh.documents.splice(i, 1);\n    }\n  }\n}\n\n/**\n * Handle kernel restart event\n */\nfunction handle_kernel_cleanup(event, handle) {\n  delete PyViz.comms[\"hv-extension-comm\"];\n  window.PyViz.plot_index = {}\n}\n\n/**\n * Handle update_display_data messages\n */\nfunction handle_update_output(event, handle) {\n  handle_clear_output(event, {cell: {output_area: handle.output_area}})\n  handle_add_output(event, handle)\n}\n\nfunction register_renderer(events, OutputArea) {\n  function append_mime(data, metadata, element) {\n    // create a DOM node to render to\n    var toinsert = this.create_output_subarea(\n    metadata,\n    CLASS_NAME,\n    EXEC_MIME_TYPE\n    );\n    this.keyboard_manager.register_events(toinsert);\n    // Render to node\n    var props = {data: data, metadata: metadata[EXEC_MIME_TYPE]};\n    render(props, toinsert[0]);\n    element.append(toinsert);\n    return toinsert\n  }\n\n  events.on('output_added.OutputArea', handle_add_output);\n  events.on('output_updated.OutputArea', handle_update_output);\n  events.on('clear_output.CodeCell', handle_clear_output);\n  events.on('delete.Cell', handle_clear_output);\n  events.on('kernel_ready.Kernel', handle_kernel_cleanup);\n\n  OutputArea.prototype.register_mime_type(EXEC_MIME_TYPE, append_mime, {\n    safe: true,\n    index: 0\n  });\n}\n\nif (window.Jupyter !== undefined) {\n  try {\n    var events = require('base/js/events');\n    var OutputArea = require('notebook/js/outputarea').OutputArea;\n    if (OutputArea.prototype.mime_types().indexOf(EXEC_MIME_TYPE) == -1) {\n      register_renderer(events, OutputArea);\n    }\n  } catch(err) {\n  }\n}\n"
     },
     "metadata": {},
     "output_type": "display_data"
    },
    {
     "data": {
      "text/html": [
       "<style>.bk-root, .bk-root .bk:before, .bk-root .bk:after {\n",
       "  font-family: var(--jp-ui-font-size1);\n",
       "  font-size: var(--jp-ui-font-size1);\n",
       "  color: var(--jp-ui-font-color1);\n",
       "}\n",
       "</style>"
      ]
     },
     "metadata": {},
     "output_type": "display_data"
    }
   ],
   "source": [
    "import requests\n",
    "from IPython.display import JSON\n",
    "import pandas as pd\n",
    "import numpy as np \n",
    "import time\n",
    "\n",
    "# Visualization\n",
    "from wordcloud import WordCloud, STOPWORDS\n",
    "import plotly.express as px\n",
    "\n",
    "# Panel/hvplot (holoviz)\n",
    "import panel as pn\n",
    "pn.extension()\n",
    "import param\n",
    "import hvplot.pandas\n",
    "\n",
    "# Others\n",
    "import pickle\n",
    "from io import StringIO"
   ]
  },
  {
   "cell_type": "code",
   "execution_count": 2,
   "id": "a727af37-4814-40b9-9b16-93a7ce5b7723",
   "metadata": {},
   "outputs": [],
   "source": [
    "# API secret\n",
    "from lib.api_secret import API_KEY"
   ]
  },
  {
   "cell_type": "markdown",
   "id": "b956013d-9d75-48ba-906e-ee4ce800f658",
   "metadata": {},
   "source": [
    "## Get audio transcription using AssemblyAI"
   ]
  },
  {
   "cell_type": "code",
   "execution_count": 81,
   "id": "685654b2-e4b9-49c1-be58-aee5bbd2cc65",
   "metadata": {
    "collapsed": true,
    "jupyter": {
     "outputs_hidden": true
    },
    "tags": []
   },
   "outputs": [
    {
     "name": "stdout",
     "output_type": "stream",
     "text": [
      "{'id': 'opjdpt5bfw-d4ed-42c6-aca5-dc222f523ff3', 'language_model': 'assemblyai_default', 'acoustic_model': 'assemblyai_default', 'language_code': 'en_us', 'status': 'queued', 'audio_url': 'https://github.com/thu-vu92/audio_analyzer_assemblyai/blob/main/Glass_Animals_-_Heat_Waves_(Official_Video).mp3?raw=true', 'text': None, 'words': None, 'utterances': None, 'confidence': None, 'audio_duration': None, 'punctuate': True, 'format_text': True, 'dual_channel': None, 'webhook_url': None, 'webhook_status_code': None, 'webhook_auth': False, 'webhook_auth_header_name': None, 'speed_boost': False, 'auto_highlights_result': None, 'auto_highlights': True, 'audio_start_from': None, 'audio_end_at': None, 'word_boost': [], 'boost_param': None, 'filter_profanity': False, 'redact_pii': False, 'redact_pii_audio': False, 'redact_pii_audio_quality': None, 'redact_pii_policies': None, 'redact_pii_sub': None, 'speaker_labels': False, 'content_safety': False, 'iab_categories': True, 'content_safety_labels': {}, 'iab_categories_result': {}, 'language_detection': False, 'custom_spelling': None, 'disfluencies': False, 'sentiment_analysis': True, 'sentiment_analysis_results': None, 'auto_chapters': True, 'chapters': None, 'entity_detection': False, 'entities': None}\n"
     ]
    }
   ],
   "source": [
    "# Submitting Files for Transcription\n",
    "import requests\n",
    "endpoint = \"https://api.assemblyai.com/v2/transcript\"\n",
    "json = {\n",
    "    \"audio_url\": \"https://github.com/thu-vu92/audio_analyzer_assemblyai/blob/main/How_I_Would_Learn_to_Code.mp3?raw=true\",\n",
    "    \"auto_highlights\": True,\n",
    "    \"sentiment_analysis\": True,\n",
    "    \"auto_chapters\": True,\n",
    "    \"iab_categories\": True,\n",
    "}\n",
    "headers = {\n",
    "    \"authorization\": API_KEYa,\n",
    "    \"content-type\": \"application/json\"\n",
    "}\n",
    "response = requests.post(endpoint, json=json, headers=headers)\n",
    "print(response.json())"
   ]
  },
  {
   "cell_type": "code",
   "execution_count": null,
   "id": "0f3cddbd-0782-4c3b-bcd0-5e19e5997006",
   "metadata": {
    "collapsed": true,
    "jupyter": {
     "outputs_hidden": true
    },
    "tags": []
   },
   "outputs": [
    {
     "name": "stdout",
     "output_type": "stream",
     "text": [
      "{'id': 'opjdpt5bfw-d4ed-42c6-aca5-dc222f523ff3', 'language_model': 'assemblyai_default', 'acoustic_model': 'assemblyai_default', 'language_code': 'en_us', 'status': 'completed', 'audio_url': 'https://github.com/thu-vu92/audio_analyzer_assemblyai/blob/main/Glass_Animals_-_Heat_Waves_(Official_Video).mp3?raw=true', 'text': \"All dreaming of when you're sleeping smile so comfortable. I just wish that I could give you that bad look. That's perfectly unfair. Sometimes you.\", 'words': [{'text': 'All', 'start': 139130, 'end': 139258, 'confidence': 0.81, 'speaker': None}, {'text': 'dreaming', 'start': 139284, 'end': 139742, 'confidence': 0.81294, 'speaker': None}, {'text': 'of', 'start': 139826, 'end': 140290, 'confidence': 0.47, 'speaker': None}, {'text': 'when', 'start': 140400, 'end': 140638, 'confidence': 0.97478, 'speaker': None}, {'text': \"you're\", 'start': 140664, 'end': 140822, 'confidence': 0.69739, 'speaker': None}, {'text': 'sleeping', 'start': 140846, 'end': 141494, 'confidence': 0.58417, 'speaker': None}, {'text': 'smile', 'start': 141542, 'end': 141914, 'confidence': 0.84298, 'speaker': None}, {'text': 'so', 'start': 141962, 'end': 142210, 'confidence': 0.87, 'speaker': None}, {'text': 'comfortable.', 'start': 142260, 'end': 143174, 'confidence': 0.48487, 'speaker': None}, {'text': 'I', 'start': 143342, 'end': 143638, 'confidence': 0.9, 'speaker': None}, {'text': 'just', 'start': 143664, 'end': 143854, 'confidence': 0.9852, 'speaker': None}, {'text': 'wish', 'start': 143892, 'end': 144230, 'confidence': 0.94653, 'speaker': None}, {'text': 'that', 'start': 144290, 'end': 144586, 'confidence': 0.93592, 'speaker': None}, {'text': 'I', 'start': 144648, 'end': 144838, 'confidence': 0.99, 'speaker': None}, {'text': 'could', 'start': 144864, 'end': 145162, 'confidence': 0.8528, 'speaker': None}, {'text': 'give', 'start': 145236, 'end': 145510, 'confidence': 0.99628, 'speaker': None}, {'text': 'you', 'start': 145560, 'end': 145774, 'confidence': 0.98879, 'speaker': None}, {'text': 'that', 'start': 145812, 'end': 146266, 'confidence': 0.81877, 'speaker': None}, {'text': 'bad', 'start': 146388, 'end': 146746, 'confidence': 0.61018, 'speaker': None}, {'text': 'look.', 'start': 146808, 'end': 147142, 'confidence': 0.74163, 'speaker': None}, {'text': \"That's\", 'start': 147216, 'end': 147554, 'confidence': 0.7127, 'speaker': None}, {'text': 'perfectly', 'start': 147602, 'end': 148430, 'confidence': 0.75571, 'speaker': None}, {'text': 'unfair.', 'start': 148490, 'end': 149270, 'confidence': 0.09543, 'speaker': None}, {'text': 'Sometimes', 'start': 149390, 'end': 150060, 'confidence': 0.97386, 'speaker': None}, {'text': 'you.', 'start': 234610, 'end': 234860, 'confidence': 0.66933, 'speaker': None}], 'utterances': None, 'confidence': 0.7808104, 'audio_duration': 235, 'punctuate': True, 'format_text': True, 'dual_channel': None, 'webhook_url': None, 'webhook_status_code': None, 'webhook_auth': False, 'webhook_auth_header_name': None, 'speed_boost': False, 'auto_highlights_result': {'status': 'success', 'results': [{'count': 1, 'rank': 0.12, 'text': 'bad look', 'timestamps': [{'start': 146388, 'end': 147142}]}]}, 'auto_highlights': True, 'audio_start_from': None, 'audio_end_at': None, 'word_boost': [], 'boost_param': None, 'filter_profanity': False, 'redact_pii': False, 'redact_pii_audio': False, 'redact_pii_audio_quality': None, 'redact_pii_policies': None, 'redact_pii_sub': None, 'speaker_labels': False, 'content_safety': False, 'iab_categories': True, 'content_safety_labels': {'status': 'unavailable', 'results': [], 'summary': {}}, 'iab_categories_result': {'status': 'success', 'results': [{'text': \"All dreaming of when you're sleeping smile so comfortable. I just wish that I could give you that bad look. That's perfectly unfair. Sometimes you.\", 'labels': [{'relevance': 0.9730887413024902, 'label': 'MedicalHealth>DiseasesAndConditions>SleepDisorders'}, {'relevance': 0.011349129490554333, 'label': 'FamilyAndRelationships>Bereavement'}, {'relevance': 0.0011156044201925397, 'label': 'FamilyAndRelationships>Parenting>ParentingBabiesAndToddlers'}, {'relevance': 0.001014042878523469, 'label': 'MedicalHealth>DiseasesAndConditions>EyeAndVisionConditions'}, {'relevance': 0.0008671323885209858, 'label': \"Style&Fashion>Men'sFashion>Men'sClothing>Men'sUnderwearAndSleepwear\"}, {'relevance': 0.000822800153400749, 'label': 'MedicalHealth>DiseasesAndConditions>LungAndRespiratoryHealth'}, {'relevance': 0.0007839190075173974, 'label': 'Travel>TravelLocations>PolarTravel'}, {'relevance': 0.0007745251641608775, 'label': 'Style&Fashion>Beauty'}, {'relevance': 0.0007043469231575727, 'label': \"Television>Children'sTV\"}, {'relevance': 0.0006985717918723822, 'label': 'MedicalHealth>DiseasesAndConditions>BrainAndNervousSystemDisorders'}], 'timestamp': {'start': 139130, 'end': 234860}}], 'summary': {'MedicalHealth>DiseasesAndConditions>SleepDisorders': 1.0, 'FamilyAndRelationships>Bereavement': 0.01166299544274807, 'FamilyAndRelationships>Parenting>ParentingBabiesAndToddlers': 0.0011464570416137576, 'MedicalHealth>DiseasesAndConditions>EyeAndVisionConditions': 0.0010420867474749684, \"Style&Fashion>Men'sFashion>Men'sClothing>Men'sUnderwearAndSleepwear\": 0.0008911133627407253, 'MedicalHealth>DiseasesAndConditions>LungAndRespiratoryHealth': 0.000845555099658668, 'Travel>TravelLocations>PolarTravel': 0.000805598683655262, 'Style&Fashion>Beauty': 0.0007959450595080853, \"Television>Children'sTV\": 0.0007238260004669428, 'MedicalHealth>DiseasesAndConditions>BrainAndNervousSystemDisorders': 0.0007178911473602057, 'MusicAndAudio>TalkRadio>BusinessNewsRadio': 0.0005208936636336148, 'NewsAndPolitics>NationalNews': 0.0004787831276189536, 'Careers>VocationalTraining': 0.0004291936638765037, 'FamilyAndRelationships>Parenting': 0.0004266941687092185, 'PopCulture>CelebrityPregnancy': 0.0004219834227114916, 'Careers>Apprenticeships': 0.0004201741248834878, 'Travel>TravelLocations>AustraliaAndOceaniaTravel': 0.00040130256093107164, 'FineArt>Design': 0.0003960284811910242, 'NewsAndPolitics>InternationalNews': 0.0003946204960811883, 'MusicAndAudio>TalkRadio>NewsRadio': 0.00038800822221674025}}, 'language_detection': False, 'custom_spelling': None, 'disfluencies': False, 'sentiment_analysis': True, 'auto_chapters': True, 'chapters': [{'summary': \"When you're sleeping smile so comfortable I wish that I could give you that bad look.\", 'headline': \"When you're sleeping smile so comfortable I wish that I could give you that bad look.\", 'gist': 'That bad look.', 'start': 139130, 'end': 234860}], 'sentiment_analysis_results': [{'text': \"All dreaming of when you're sleeping smile so comfortable.\", 'start': 139130, 'end': 143174, 'sentiment': 'POSITIVE', 'confidence': 0.8211088180541992, 'speaker': None}, {'text': 'I just wish that I could give you that bad look.', 'start': 143342, 'end': 147142, 'sentiment': 'NEGATIVE', 'confidence': 0.6366692781448364, 'speaker': None}, {'text': \"That's perfectly unfair.\", 'start': 147216, 'end': 149270, 'sentiment': 'NEGATIVE', 'confidence': 0.9300174117088318, 'speaker': None}, {'text': 'Sometimes you.', 'start': 149390, 'end': 234860, 'sentiment': 'NEUTRAL', 'confidence': 0.7112181782722473, 'speaker': None}], 'entity_detection': False, 'entities': None}\n"
     ]
    }
   ],
   "source": [
    "# Getting the Transcription Result\n",
    "result_endpoint = endpoint + \"/\" + response.json()[\"id\"]\n",
    "headers_auth = {\n",
    "    \"authorization\": API_KEY,\n",
    "}\n",
    "transcript_response = requests.get(result_endpoint, headers=headers_auth)\n",
    "print(transcript_response.json())\n",
    "\n",
    "# While loop for requesting transcription\n",
    "while response.json()['status'] != \"completed\":\n",
    "    response = requests.get(result_endpoint, headers=headers_auth)\n",
    "    time.sleep(3)"
   ]
  },
  {
   "cell_type": "code",
   "execution_count": 80,
   "id": "dbf39560-29ca-4060-b159-8dc415f79ef5",
   "metadata": {
    "collapsed": true,
    "jupyter": {
     "outputs_hidden": true
    },
    "tags": []
   },
   "outputs": [
    {
     "data": {
      "application/json": {
       "acoustic_model": "assemblyai_default",
       "audio_duration": 235,
       "audio_end_at": null,
       "audio_start_from": null,
       "audio_url": "https://github.com/thu-vu92/audio_analyzer_assemblyai/blob/main/Glass_Animals_-_Heat_Waves_(Official_Video).mp3?raw=true",
       "auto_chapters": true,
       "auto_highlights": true,
       "auto_highlights_result": {
        "results": [
         {
          "count": 1,
          "rank": 0.12,
          "text": "bad look",
          "timestamps": [
           {
            "end": 147142,
            "start": 146388
           }
          ]
         }
        ],
        "status": "success"
       },
       "boost_param": null,
       "chapters": [
        {
         "end": 234860,
         "gist": "That bad look.",
         "headline": "When you're sleeping smile so comfortable I wish that I could give you that bad look.",
         "start": 139130,
         "summary": "When you're sleeping smile so comfortable I wish that I could give you that bad look."
        }
       ],
       "confidence": 0.7808104,
       "content_safety": false,
       "content_safety_labels": {
        "results": [],
        "status": "unavailable",
        "summary": {}
       },
       "custom_spelling": null,
       "disfluencies": false,
       "dual_channel": null,
       "entities": null,
       "entity_detection": false,
       "filter_profanity": false,
       "format_text": true,
       "iab_categories": true,
       "iab_categories_result": {
        "results": [
         {
          "labels": [
           {
            "label": "MedicalHealth>DiseasesAndConditions>SleepDisorders",
            "relevance": 0.9730887413024902
           },
           {
            "label": "FamilyAndRelationships>Bereavement",
            "relevance": 0.011349129490554333
           },
           {
            "label": "FamilyAndRelationships>Parenting>ParentingBabiesAndToddlers",
            "relevance": 0.0011156044201925397
           },
           {
            "label": "MedicalHealth>DiseasesAndConditions>EyeAndVisionConditions",
            "relevance": 0.001014042878523469
           },
           {
            "label": "Style&Fashion>Men'sFashion>Men'sClothing>Men'sUnderwearAndSleepwear",
            "relevance": 0.0008671323885209858
           },
           {
            "label": "MedicalHealth>DiseasesAndConditions>LungAndRespiratoryHealth",
            "relevance": 0.000822800153400749
           },
           {
            "label": "Travel>TravelLocations>PolarTravel",
            "relevance": 0.0007839190075173974
           },
           {
            "label": "Style&Fashion>Beauty",
            "relevance": 0.0007745251641608775
           },
           {
            "label": "Television>Children'sTV",
            "relevance": 0.0007043469231575727
           },
           {
            "label": "MedicalHealth>DiseasesAndConditions>BrainAndNervousSystemDisorders",
            "relevance": 0.0006985717918723822
           }
          ],
          "text": "All dreaming of when you're sleeping smile so comfortable. I just wish that I could give you that bad look. That's perfectly unfair. Sometimes you.",
          "timestamp": {
           "end": 234860,
           "start": 139130
          }
         }
        ],
        "status": "success",
        "summary": {
         "Careers>Apprenticeships": 0.0004201741248834878,
         "Careers>VocationalTraining": 0.0004291936638765037,
         "FamilyAndRelationships>Bereavement": 0.01166299544274807,
         "FamilyAndRelationships>Parenting": 0.0004266941687092185,
         "FamilyAndRelationships>Parenting>ParentingBabiesAndToddlers": 0.0011464570416137576,
         "FineArt>Design": 0.0003960284811910242,
         "MedicalHealth>DiseasesAndConditions>BrainAndNervousSystemDisorders": 0.0007178911473602057,
         "MedicalHealth>DiseasesAndConditions>EyeAndVisionConditions": 0.0010420867474749684,
         "MedicalHealth>DiseasesAndConditions>LungAndRespiratoryHealth": 0.000845555099658668,
         "MedicalHealth>DiseasesAndConditions>SleepDisorders": 1,
         "MusicAndAudio>TalkRadio>BusinessNewsRadio": 0.0005208936636336148,
         "MusicAndAudio>TalkRadio>NewsRadio": 0.00038800822221674025,
         "NewsAndPolitics>InternationalNews": 0.0003946204960811883,
         "NewsAndPolitics>NationalNews": 0.0004787831276189536,
         "PopCulture>CelebrityPregnancy": 0.0004219834227114916,
         "Style&Fashion>Beauty": 0.0007959450595080853,
         "Style&Fashion>Men'sFashion>Men'sClothing>Men'sUnderwearAndSleepwear": 0.0008911133627407253,
         "Television>Children'sTV": 0.0007238260004669428,
         "Travel>TravelLocations>AustraliaAndOceaniaTravel": 0.00040130256093107164,
         "Travel>TravelLocations>PolarTravel": 0.000805598683655262
        }
       },
       "id": "opjdpt5bfw-d4ed-42c6-aca5-dc222f523ff3",
       "language_code": "en_us",
       "language_detection": false,
       "language_model": "assemblyai_default",
       "punctuate": true,
       "redact_pii": false,
       "redact_pii_audio": false,
       "redact_pii_audio_quality": null,
       "redact_pii_policies": null,
       "redact_pii_sub": null,
       "sentiment_analysis": true,
       "sentiment_analysis_results": [
        {
         "confidence": 0.8211088180541992,
         "end": 143174,
         "sentiment": "POSITIVE",
         "speaker": null,
         "start": 139130,
         "text": "All dreaming of when you're sleeping smile so comfortable."
        },
        {
         "confidence": 0.6366692781448364,
         "end": 147142,
         "sentiment": "NEGATIVE",
         "speaker": null,
         "start": 143342,
         "text": "I just wish that I could give you that bad look."
        },
        {
         "confidence": 0.9300174117088318,
         "end": 149270,
         "sentiment": "NEGATIVE",
         "speaker": null,
         "start": 147216,
         "text": "That's perfectly unfair."
        },
        {
         "confidence": 0.7112181782722473,
         "end": 234860,
         "sentiment": "NEUTRAL",
         "speaker": null,
         "start": 149390,
         "text": "Sometimes you."
        }
       ],
       "speaker_labels": false,
       "speed_boost": false,
       "status": "completed",
       "text": "All dreaming of when you're sleeping smile so comfortable. I just wish that I could give you that bad look. That's perfectly unfair. Sometimes you.",
       "utterances": null,
       "webhook_auth": false,
       "webhook_auth_header_name": null,
       "webhook_status_code": null,
       "webhook_url": null,
       "word_boost": [],
       "words": [
        {
         "confidence": 0.81,
         "end": 139258,
         "speaker": null,
         "start": 139130,
         "text": "All"
        },
        {
         "confidence": 0.81294,
         "end": 139742,
         "speaker": null,
         "start": 139284,
         "text": "dreaming"
        },
        {
         "confidence": 0.47,
         "end": 140290,
         "speaker": null,
         "start": 139826,
         "text": "of"
        },
        {
         "confidence": 0.97478,
         "end": 140638,
         "speaker": null,
         "start": 140400,
         "text": "when"
        },
        {
         "confidence": 0.69739,
         "end": 140822,
         "speaker": null,
         "start": 140664,
         "text": "you're"
        },
        {
         "confidence": 0.58417,
         "end": 141494,
         "speaker": null,
         "start": 140846,
         "text": "sleeping"
        },
        {
         "confidence": 0.84298,
         "end": 141914,
         "speaker": null,
         "start": 141542,
         "text": "smile"
        },
        {
         "confidence": 0.87,
         "end": 142210,
         "speaker": null,
         "start": 141962,
         "text": "so"
        },
        {
         "confidence": 0.48487,
         "end": 143174,
         "speaker": null,
         "start": 142260,
         "text": "comfortable."
        },
        {
         "confidence": 0.9,
         "end": 143638,
         "speaker": null,
         "start": 143342,
         "text": "I"
        },
        {
         "confidence": 0.9852,
         "end": 143854,
         "speaker": null,
         "start": 143664,
         "text": "just"
        },
        {
         "confidence": 0.94653,
         "end": 144230,
         "speaker": null,
         "start": 143892,
         "text": "wish"
        },
        {
         "confidence": 0.93592,
         "end": 144586,
         "speaker": null,
         "start": 144290,
         "text": "that"
        },
        {
         "confidence": 0.99,
         "end": 144838,
         "speaker": null,
         "start": 144648,
         "text": "I"
        },
        {
         "confidence": 0.8528,
         "end": 145162,
         "speaker": null,
         "start": 144864,
         "text": "could"
        },
        {
         "confidence": 0.99628,
         "end": 145510,
         "speaker": null,
         "start": 145236,
         "text": "give"
        },
        {
         "confidence": 0.98879,
         "end": 145774,
         "speaker": null,
         "start": 145560,
         "text": "you"
        },
        {
         "confidence": 0.81877,
         "end": 146266,
         "speaker": null,
         "start": 145812,
         "text": "that"
        },
        {
         "confidence": 0.61018,
         "end": 146746,
         "speaker": null,
         "start": 146388,
         "text": "bad"
        },
        {
         "confidence": 0.74163,
         "end": 147142,
         "speaker": null,
         "start": 146808,
         "text": "look."
        },
        {
         "confidence": 0.7127,
         "end": 147554,
         "speaker": null,
         "start": 147216,
         "text": "That's"
        },
        {
         "confidence": 0.75571,
         "end": 148430,
         "speaker": null,
         "start": 147602,
         "text": "perfectly"
        },
        {
         "confidence": 0.09543,
         "end": 149270,
         "speaker": null,
         "start": 148490,
         "text": "unfair."
        },
        {
         "confidence": 0.97386,
         "end": 150060,
         "speaker": null,
         "start": 149390,
         "text": "Sometimes"
        },
        {
         "confidence": 0.66933,
         "end": 234860,
         "speaker": null,
         "start": 234610,
         "text": "you."
        }
       ]
      },
      "text/plain": [
       "<IPython.core.display.JSON object>"
      ]
     },
     "execution_count": 86,
     "metadata": {
      "application/json": {
       "expanded": false,
       "root": "root"
      }
     },
     "output_type": "execute_result"
    }
   ],
   "source": [
    "JSON(transcript_response.json())"
   ]
  },
  {
   "cell_type": "code",
   "execution_count": 26,
   "id": "eeec8559-a4d9-4900-9de0-9f0640cdc062",
   "metadata": {},
   "outputs": [],
   "source": [
    "# Save pickle\n",
    "with open('speech_data.pkl', 'wb') as f:\n",
    "    pickle.dump(transcript_response.json().copy(), f)"
   ]
  },
  {
   "cell_type": "markdown",
   "id": "39312be6-b300-4807-b0f4-76d83db32db6",
   "metadata": {
    "jp-MarkdownHeadingCollapsed": true,
    "tags": []
   },
   "source": [
    "## Dashboard components"
   ]
  },
  {
   "cell_type": "code",
   "execution_count": 88,
   "id": "f4b68047-24a0-4149-8be4-dbb0000576c9",
   "metadata": {},
   "outputs": [],
   "source": [
    "# Load data pickle\n",
    "with open('speech_data.pkl', 'rb') as f:\n",
    "    data = pickle.load(f)"
   ]
  },
  {
   "cell_type": "markdown",
   "id": "4e61d84c-3cd4-45b4-bb55-0775ca0dc9bd",
   "metadata": {},
   "source": [
    "### 0) Download transcript widget"
   ]
  },
  {
   "cell_type": "code",
   "execution_count": 89,
   "id": "a812d3cd-f896-47a2-8157-3d75bae3b642",
   "metadata": {},
   "outputs": [
    {
     "data": {
      "text/plain": [
       "0"
      ]
     },
     "execution_count": 89,
     "metadata": {},
     "output_type": "execute_result"
    }
   ],
   "source": [
    "buffer = StringIO()\n",
    "buffer.write(data[\"text\"])\n",
    "buffer.seek(0)"
   ]
  },
  {
   "cell_type": "code",
   "execution_count": 90,
   "id": "eaed9250-ff1a-4322-bc03-593a648268c2",
   "metadata": {},
   "outputs": [
    {
     "data": {},
     "metadata": {},
     "output_type": "display_data"
    },
    {
     "data": {
      "application/vnd.holoviews_exec.v0+json": "",
      "text/html": [
       "<div id='5545'>\n",
       "  <div class=\"bk-root\" id=\"637e29cd-ae00-4e85-9467-2f57f0b0147a\" data-root-id=\"5545\"></div>\n",
       "</div>\n",
       "<script type=\"application/javascript\">(function(root) {\n",
       "  function embed_document(root) {\n",
       "    var docs_json = {\"2e4fc57b-34e4-42c1-ae84-6a99d4d056d2\":{\"defs\":[{\"extends\":null,\"module\":null,\"name\":\"ReactiveHTML1\",\"overrides\":[],\"properties\":[]},{\"extends\":null,\"module\":null,\"name\":\"FlexBox1\",\"overrides\":[],\"properties\":[{\"default\":\"flex-start\",\"kind\":null,\"name\":\"align_content\"},{\"default\":\"flex-start\",\"kind\":null,\"name\":\"align_items\"},{\"default\":\"row\",\"kind\":null,\"name\":\"flex_direction\"},{\"default\":\"wrap\",\"kind\":null,\"name\":\"flex_wrap\"},{\"default\":\"flex-start\",\"kind\":null,\"name\":\"justify_content\"}]},{\"extends\":null,\"module\":null,\"name\":\"GridStack1\",\"overrides\":[],\"properties\":[{\"default\":\"warn\",\"kind\":null,\"name\":\"mode\"},{\"default\":null,\"kind\":null,\"name\":\"ncols\"},{\"default\":null,\"kind\":null,\"name\":\"nrows\"},{\"default\":true,\"kind\":null,\"name\":\"allow_resize\"},{\"default\":true,\"kind\":null,\"name\":\"allow_drag\"},{\"default\":[],\"kind\":null,\"name\":\"state\"}]},{\"extends\":null,\"module\":null,\"name\":\"click1\",\"overrides\":[],\"properties\":[{\"default\":\"\",\"kind\":null,\"name\":\"terminal_output\"},{\"default\":\"\",\"kind\":null,\"name\":\"debug_name\"},{\"default\":0,\"kind\":null,\"name\":\"clears\"}]},{\"extends\":null,\"module\":null,\"name\":\"NotificationAreaBase1\",\"overrides\":[],\"properties\":[{\"default\":\"bottom-right\",\"kind\":null,\"name\":\"position\"},{\"default\":0,\"kind\":null,\"name\":\"_clear\"}]},{\"extends\":null,\"module\":null,\"name\":\"NotificationArea1\",\"overrides\":[],\"properties\":[{\"default\":[],\"kind\":null,\"name\":\"notifications\"},{\"default\":\"bottom-right\",\"kind\":null,\"name\":\"position\"},{\"default\":0,\"kind\":null,\"name\":\"_clear\"},{\"default\":[{\"background\":\"#ffc107\",\"icon\":{\"className\":\"fas fa-exclamation-triangle\",\"color\":\"white\",\"tagName\":\"i\"},\"type\":\"warning\"},{\"background\":\"#007bff\",\"icon\":{\"className\":\"fas fa-info-circle\",\"color\":\"white\",\"tagName\":\"i\"},\"type\":\"info\"}],\"kind\":null,\"name\":\"types\"}]},{\"extends\":null,\"module\":null,\"name\":\"Notification\",\"overrides\":[],\"properties\":[{\"default\":null,\"kind\":null,\"name\":\"background\"},{\"default\":3000,\"kind\":null,\"name\":\"duration\"},{\"default\":null,\"kind\":null,\"name\":\"icon\"},{\"default\":\"\",\"kind\":null,\"name\":\"message\"},{\"default\":null,\"kind\":null,\"name\":\"notification_type\"},{\"default\":false,\"kind\":null,\"name\":\"_destroyed\"}]},{\"extends\":null,\"module\":null,\"name\":\"TemplateActions1\",\"overrides\":[],\"properties\":[{\"default\":0,\"kind\":null,\"name\":\"open_modal\"},{\"default\":0,\"kind\":null,\"name\":\"close_modal\"}]},{\"extends\":null,\"module\":null,\"name\":\"MaterialTemplateActions1\",\"overrides\":[],\"properties\":[{\"default\":0,\"kind\":null,\"name\":\"open_modal\"},{\"default\":0,\"kind\":null,\"name\":\"close_modal\"}]}],\"roots\":{\"references\":[{\"attributes\":{\"auto\":true,\"button_type\":\"success\",\"filename\":\"transcript.txt\",\"label\":\"Download transcript.txt\",\"margin\":[5,10,5,10]},\"id\":\"5545\",\"type\":\"panel.models.widgets.FileDownload\"},{\"attributes\":{\"client_comm_id\":\"88b68f52ce834e80b94b1299b4aee8c4\",\"comm_id\":\"4f024c938ae645bf9b8b44c86bc46d3a\",\"plot_id\":\"5545\"},\"id\":\"5546\",\"type\":\"panel.models.comm_manager.CommManager\"}],\"root_ids\":[\"5545\",\"5546\"]},\"title\":\"Bokeh Application\",\"version\":\"2.4.3\"}};\n",
       "    var render_items = [{\"docid\":\"2e4fc57b-34e4-42c1-ae84-6a99d4d056d2\",\"root_ids\":[\"5545\"],\"roots\":{\"5545\":\"637e29cd-ae00-4e85-9467-2f57f0b0147a\"}}];\n",
       "    root.Bokeh.embed.embed_items_notebook(docs_json, render_items);\n",
       "  }\n",
       "  if (root.Bokeh !== undefined && root.Bokeh.Panel !== undefined) {\n",
       "    embed_document(root);\n",
       "  } else {\n",
       "    var attempts = 0;\n",
       "    var timer = setInterval(function(root) {\n",
       "      if (root.Bokeh !== undefined && root.Bokeh.Panel !== undefined) {\n",
       "        clearInterval(timer);\n",
       "        embed_document(root);\n",
       "      } else if (document.readyState == \"complete\") {\n",
       "        attempts++;\n",
       "        if (attempts > 200) {\n",
       "          clearInterval(timer);\n",
       "          console.log(\"Bokeh: ERROR: Unable to run BokehJS code because BokehJS library is missing\");\n",
       "        }\n",
       "      }\n",
       "    }, 25, root)\n",
       "  }\n",
       "})(window);</script>"
      ],
      "text/plain": [
       "FileDownload(button_type='success', file=<_io.StringIO o..., filename='transcript.txt', label='Download transcript.txt')"
      ]
     },
     "execution_count": 90,
     "metadata": {
      "application/vnd.holoviews_exec.v0+json": {
       "id": "5545"
      }
     },
     "output_type": "execute_result"
    }
   ],
   "source": [
    "transcript_download = pn.widgets.FileDownload(file=buffer, \n",
    "                                              filename=\"transcript.txt\", \n",
    "                                              button_type='success')\n",
    "transcript_download"
   ]
  },
  {
   "cell_type": "markdown",
   "id": "c4d07da1-4348-4958-82d7-2da8a3bc3ff3",
   "metadata": {},
   "source": [
    "### 00) Audio play"
   ]
  },
  {
   "cell_type": "code",
   "execution_count": 91,
   "id": "ad97bdbd-f089-4435-9cd5-edd60c07e5f3",
   "metadata": {},
   "outputs": [
    {
     "data": {},
     "metadata": {},
     "output_type": "display_data"
    },
    {
     "data": {
      "application/vnd.holoviews_exec.v0+json": "",
      "text/html": [
       "<div id='5557'>\n",
       "  <div class=\"bk-root\" id=\"a315aab9-7f50-4ed2-bf38-8f1d80377623\" data-root-id=\"5557\"></div>\n",
       "</div>\n",
       "<script type=\"application/javascript\">(function(root) {\n",
       "  function embed_document(root) {\n",
       "    var docs_json = {\"50735c36-ad27-4c16-9c5c-08f5ef548c42\":{\"defs\":[{\"extends\":null,\"module\":null,\"name\":\"ReactiveHTML1\",\"overrides\":[],\"properties\":[]},{\"extends\":null,\"module\":null,\"name\":\"FlexBox1\",\"overrides\":[],\"properties\":[{\"default\":\"flex-start\",\"kind\":null,\"name\":\"align_content\"},{\"default\":\"flex-start\",\"kind\":null,\"name\":\"align_items\"},{\"default\":\"row\",\"kind\":null,\"name\":\"flex_direction\"},{\"default\":\"wrap\",\"kind\":null,\"name\":\"flex_wrap\"},{\"default\":\"flex-start\",\"kind\":null,\"name\":\"justify_content\"}]},{\"extends\":null,\"module\":null,\"name\":\"GridStack1\",\"overrides\":[],\"properties\":[{\"default\":\"warn\",\"kind\":null,\"name\":\"mode\"},{\"default\":null,\"kind\":null,\"name\":\"ncols\"},{\"default\":null,\"kind\":null,\"name\":\"nrows\"},{\"default\":true,\"kind\":null,\"name\":\"allow_resize\"},{\"default\":true,\"kind\":null,\"name\":\"allow_drag\"},{\"default\":[],\"kind\":null,\"name\":\"state\"}]},{\"extends\":null,\"module\":null,\"name\":\"click1\",\"overrides\":[],\"properties\":[{\"default\":\"\",\"kind\":null,\"name\":\"terminal_output\"},{\"default\":\"\",\"kind\":null,\"name\":\"debug_name\"},{\"default\":0,\"kind\":null,\"name\":\"clears\"}]},{\"extends\":null,\"module\":null,\"name\":\"NotificationAreaBase1\",\"overrides\":[],\"properties\":[{\"default\":\"bottom-right\",\"kind\":null,\"name\":\"position\"},{\"default\":0,\"kind\":null,\"name\":\"_clear\"}]},{\"extends\":null,\"module\":null,\"name\":\"NotificationArea1\",\"overrides\":[],\"properties\":[{\"default\":[],\"kind\":null,\"name\":\"notifications\"},{\"default\":\"bottom-right\",\"kind\":null,\"name\":\"position\"},{\"default\":0,\"kind\":null,\"name\":\"_clear\"},{\"default\":[{\"background\":\"#ffc107\",\"icon\":{\"className\":\"fas fa-exclamation-triangle\",\"color\":\"white\",\"tagName\":\"i\"},\"type\":\"warning\"},{\"background\":\"#007bff\",\"icon\":{\"className\":\"fas fa-info-circle\",\"color\":\"white\",\"tagName\":\"i\"},\"type\":\"info\"}],\"kind\":null,\"name\":\"types\"}]},{\"extends\":null,\"module\":null,\"name\":\"Notification\",\"overrides\":[],\"properties\":[{\"default\":null,\"kind\":null,\"name\":\"background\"},{\"default\":3000,\"kind\":null,\"name\":\"duration\"},{\"default\":null,\"kind\":null,\"name\":\"icon\"},{\"default\":\"\",\"kind\":null,\"name\":\"message\"},{\"default\":null,\"kind\":null,\"name\":\"notification_type\"},{\"default\":false,\"kind\":null,\"name\":\"_destroyed\"}]},{\"extends\":null,\"module\":null,\"name\":\"TemplateActions1\",\"overrides\":[],\"properties\":[{\"default\":0,\"kind\":null,\"name\":\"open_modal\"},{\"default\":0,\"kind\":null,\"name\":\"close_modal\"}]},{\"extends\":null,\"module\":null,\"name\":\"MaterialTemplateActions1\",\"overrides\":[],\"properties\":[{\"default\":0,\"kind\":null,\"name\":\"open_modal\"},{\"default\":0,\"kind\":null,\"name\":\"close_modal\"}]}],\"roots\":{\"references\":[{\"attributes\":{\"margin\":[5,5,5,5],\"paused\":true,\"time\":360,\"value\":\"https://github.com/thu-vu92/audio_analyzer_assemblyai/blob/main/How_I_Would_Learn_to_Code.mp3?raw=true\"},\"id\":\"5557\",\"type\":\"panel.models.widgets.Audio\"},{\"attributes\":{\"client_comm_id\":\"023417d910e04e46b0da458d4d486276\",\"comm_id\":\"b50b98ebb70d4fd192ce089b2f7383ac\",\"plot_id\":\"5557\"},\"id\":\"5558\",\"type\":\"panel.models.comm_manager.CommManager\"}],\"root_ids\":[\"5557\",\"5558\"]},\"title\":\"Bokeh Application\",\"version\":\"2.4.3\"}};\n",
       "    var render_items = [{\"docid\":\"50735c36-ad27-4c16-9c5c-08f5ef548c42\",\"root_ids\":[\"5557\"],\"roots\":{\"5557\":\"a315aab9-7f50-4ed2-bf38-8f1d80377623\"}}];\n",
       "    root.Bokeh.embed.embed_items_notebook(docs_json, render_items);\n",
       "  }\n",
       "  if (root.Bokeh !== undefined && root.Bokeh.Panel !== undefined) {\n",
       "    embed_document(root);\n",
       "  } else {\n",
       "    var attempts = 0;\n",
       "    var timer = setInterval(function(root) {\n",
       "      if (root.Bokeh !== undefined && root.Bokeh.Panel !== undefined) {\n",
       "        clearInterval(timer);\n",
       "        embed_document(root);\n",
       "      } else if (document.readyState == \"complete\") {\n",
       "        attempts++;\n",
       "        if (attempts > 200) {\n",
       "          clearInterval(timer);\n",
       "          console.log(\"Bokeh: ERROR: Unable to run BokehJS code because BokehJS library is missing\");\n",
       "        }\n",
       "      }\n",
       "    }, 25, root)\n",
       "  }\n",
       "})(window);</script>"
      ],
      "text/plain": [
       "Audio(str, time=360)"
      ]
     },
     "execution_count": 91,
     "metadata": {
      "application/vnd.holoviews_exec.v0+json": {
       "id": "5557"
      }
     },
     "output_type": "execute_result"
    }
   ],
   "source": [
    "audio_url = \"https://github.com/thu-vu92/audio_analyzer_assemblyai/blob/main/How_I_Would_Learn_to_Code.mp3?raw=true\"\n",
    "audio_play = pn.pane.Audio(audio_url, name='Audio', time = 360)\n",
    "audio_play"
   ]
  },
  {
   "cell_type": "markdown",
   "id": "d3c670d8-d8c1-42f9-a3a7-2f9e76ad7229",
   "metadata": {},
   "source": [
    "### 1) Sentiment plot"
   ]
  },
  {
   "cell_type": "code",
   "execution_count": 92,
   "id": "33391db8-67df-4c18-b542-5233768599d0",
   "metadata": {},
   "outputs": [],
   "source": [
    "sentiment = data[\"sentiment_analysis_results\"]"
   ]
  },
  {
   "cell_type": "code",
   "execution_count": 93,
   "id": "bea7c3ef-bb73-44ea-bea3-cb847dc5373c",
   "metadata": {},
   "outputs": [
    {
     "data": {
      "text/html": [
       "<div>\n",
       "<style scoped>\n",
       "    .dataframe tbody tr th:only-of-type {\n",
       "        vertical-align: middle;\n",
       "    }\n",
       "\n",
       "    .dataframe tbody tr th {\n",
       "        vertical-align: top;\n",
       "    }\n",
       "\n",
       "    .dataframe thead th {\n",
       "        text-align: right;\n",
       "    }\n",
       "</style>\n",
       "<table border=\"1\" class=\"dataframe\">\n",
       "  <thead>\n",
       "    <tr style=\"text-align: right;\">\n",
       "      <th></th>\n",
       "      <th>text</th>\n",
       "      <th>start</th>\n",
       "      <th>end</th>\n",
       "      <th>sentiment</th>\n",
       "      <th>confidence</th>\n",
       "      <th>speaker</th>\n",
       "    </tr>\n",
       "  </thead>\n",
       "  <tbody>\n",
       "    <tr>\n",
       "      <th>0</th>\n",
       "      <td>I recently got an amazing opportunity.</td>\n",
       "      <td>250</td>\n",
       "      <td>2094</td>\n",
       "      <td>POSITIVE</td>\n",
       "      <td>0.985436</td>\n",
       "      <td>None</td>\n",
       "    </tr>\n",
       "    <tr>\n",
       "      <th>1</th>\n",
       "      <td>I've been learning jujitsu, and a friend offer...</td>\n",
       "      <td>2252</td>\n",
       "      <td>7278</td>\n",
       "      <td>POSITIVE</td>\n",
       "      <td>0.567717</td>\n",
       "      <td>None</td>\n",
       "    </tr>\n",
       "    <tr>\n",
       "      <th>2</th>\n",
       "      <td>At this point in my life where I'm trying to i...</td>\n",
       "      <td>7424</td>\n",
       "      <td>13290</td>\n",
       "      <td>POSITIVE</td>\n",
       "      <td>0.955794</td>\n",
       "      <td>None</td>\n",
       "    </tr>\n",
       "    <tr>\n",
       "      <th>3</th>\n",
       "      <td>In my personal opinion, I was all for until I ...</td>\n",
       "      <td>13340</td>\n",
       "      <td>22698</td>\n",
       "      <td>NEGATIVE</td>\n",
       "      <td>0.689610</td>\n",
       "      <td>None</td>\n",
       "    </tr>\n",
       "    <tr>\n",
       "      <th>4</th>\n",
       "      <td>After all, it's been almost ten years since I ...</td>\n",
       "      <td>22844</td>\n",
       "      <td>26250</td>\n",
       "      <td>NEUTRAL</td>\n",
       "      <td>0.613529</td>\n",
       "      <td>None</td>\n",
       "    </tr>\n",
       "    <tr>\n",
       "      <th>...</th>\n",
       "      <td>...</td>\n",
       "      <td>...</td>\n",
       "      <td>...</td>\n",
       "      <td>...</td>\n",
       "      <td>...</td>\n",
       "      <td>...</td>\n",
       "    </tr>\n",
       "    <tr>\n",
       "      <th>145</th>\n",
       "      <td>They'll tell you something about what's wrong.</td>\n",
       "      <td>632110</td>\n",
       "      <td>633834</td>\n",
       "      <td>NEUTRAL</td>\n",
       "      <td>0.498572</td>\n",
       "      <td>None</td>\n",
       "    </tr>\n",
       "    <tr>\n",
       "      <th>146</th>\n",
       "      <td>Also, Google the errors, and this will save yo...</td>\n",
       "      <td>633932</td>\n",
       "      <td>637054</td>\n",
       "      <td>POSITIVE</td>\n",
       "      <td>0.568509</td>\n",
       "      <td>None</td>\n",
       "    </tr>\n",
       "    <tr>\n",
       "      <th>147</th>\n",
       "      <td>Finally, the third thing is to take it easy on...</td>\n",
       "      <td>637102</td>\n",
       "      <td>639402</td>\n",
       "      <td>NEUTRAL</td>\n",
       "      <td>0.523670</td>\n",
       "      <td>None</td>\n",
       "    </tr>\n",
       "    <tr>\n",
       "      <th>148</th>\n",
       "      <td>The only people that can't code are the ones t...</td>\n",
       "      <td>639536</td>\n",
       "      <td>643746</td>\n",
       "      <td>NEGATIVE</td>\n",
       "      <td>0.911368</td>\n",
       "      <td>None</td>\n",
       "    </tr>\n",
       "    <tr>\n",
       "      <th>149</th>\n",
       "      <td>Thank you all so much for watching, and good l...</td>\n",
       "      <td>643928</td>\n",
       "      <td>647470</td>\n",
       "      <td>POSITIVE</td>\n",
       "      <td>0.986962</td>\n",
       "      <td>None</td>\n",
       "    </tr>\n",
       "  </tbody>\n",
       "</table>\n",
       "<p>150 rows × 6 columns</p>\n",
       "</div>"
      ],
      "text/plain": [
       "                                                  text   start     end  \\\n",
       "0               I recently got an amazing opportunity.     250    2094   \n",
       "1    I've been learning jujitsu, and a friend offer...    2252    7278   \n",
       "2    At this point in my life where I'm trying to i...    7424   13290   \n",
       "3    In my personal opinion, I was all for until I ...   13340   22698   \n",
       "4    After all, it's been almost ten years since I ...   22844   26250   \n",
       "..                                                 ...     ...     ...   \n",
       "145     They'll tell you something about what's wrong.  632110  633834   \n",
       "146  Also, Google the errors, and this will save yo...  633932  637054   \n",
       "147  Finally, the third thing is to take it easy on...  637102  639402   \n",
       "148  The only people that can't code are the ones t...  639536  643746   \n",
       "149  Thank you all so much for watching, and good l...  643928  647470   \n",
       "\n",
       "    sentiment  confidence speaker  \n",
       "0    POSITIVE    0.985436    None  \n",
       "1    POSITIVE    0.567717    None  \n",
       "2    POSITIVE    0.955794    None  \n",
       "3    NEGATIVE    0.689610    None  \n",
       "4     NEUTRAL    0.613529    None  \n",
       "..        ...         ...     ...  \n",
       "145   NEUTRAL    0.498572    None  \n",
       "146  POSITIVE    0.568509    None  \n",
       "147   NEUTRAL    0.523670    None  \n",
       "148  NEGATIVE    0.911368    None  \n",
       "149  POSITIVE    0.986962    None  \n",
       "\n",
       "[150 rows x 6 columns]"
      ]
     },
     "execution_count": 93,
     "metadata": {},
     "output_type": "execute_result"
    }
   ],
   "source": [
    "sentiment_df = pd.DataFrame(sentiment)\n",
    "sentiment_df"
   ]
  },
  {
   "cell_type": "code",
   "execution_count": 94,
   "id": "c4bd9a9b-66bb-4da2-93c6-60345577db24",
   "metadata": {},
   "outputs": [
    {
     "data": {
      "text/plain": [
       "NEUTRAL     81\n",
       "POSITIVE    53\n",
       "NEGATIVE    16\n",
       "Name: sentiment, dtype: int64"
      ]
     },
     "execution_count": 94,
     "metadata": {},
     "output_type": "execute_result"
    }
   ],
   "source": [
    "sentiment_df_grouped = sentiment_df['sentiment'].value_counts()\n",
    "sentiment_df_grouped"
   ]
  },
  {
   "cell_type": "code",
   "execution_count": 95,
   "id": "3c612efd-4de6-4ae4-a0b0-29731f551926",
   "metadata": {},
   "outputs": [
    {
     "data": {},
     "metadata": {},
     "output_type": "display_data"
    },
    {
     "data": {},
     "metadata": {},
     "output_type": "display_data"
    },
    {
     "data": {
      "application/vnd.holoviews_exec.v0+json": "",
      "text/html": [
       "<div id='5567'>\n",
       "  <div class=\"bk-root\" id=\"19cef4be-6159-48d6-9eb2-31e5e400be83\" data-root-id=\"5567\"></div>\n",
       "</div>\n",
       "<script type=\"application/javascript\">(function(root) {\n",
       "  function embed_document(root) {\n",
       "    var docs_json = {\"5868ebbb-de2f-438a-95f9-defc6693bd02\":{\"defs\":[{\"extends\":null,\"module\":null,\"name\":\"ReactiveHTML1\",\"overrides\":[],\"properties\":[]},{\"extends\":null,\"module\":null,\"name\":\"FlexBox1\",\"overrides\":[],\"properties\":[{\"default\":\"flex-start\",\"kind\":null,\"name\":\"align_content\"},{\"default\":\"flex-start\",\"kind\":null,\"name\":\"align_items\"},{\"default\":\"row\",\"kind\":null,\"name\":\"flex_direction\"},{\"default\":\"wrap\",\"kind\":null,\"name\":\"flex_wrap\"},{\"default\":\"flex-start\",\"kind\":null,\"name\":\"justify_content\"}]},{\"extends\":null,\"module\":null,\"name\":\"GridStack1\",\"overrides\":[],\"properties\":[{\"default\":\"warn\",\"kind\":null,\"name\":\"mode\"},{\"default\":null,\"kind\":null,\"name\":\"ncols\"},{\"default\":null,\"kind\":null,\"name\":\"nrows\"},{\"default\":true,\"kind\":null,\"name\":\"allow_resize\"},{\"default\":true,\"kind\":null,\"name\":\"allow_drag\"},{\"default\":[],\"kind\":null,\"name\":\"state\"}]},{\"extends\":null,\"module\":null,\"name\":\"click1\",\"overrides\":[],\"properties\":[{\"default\":\"\",\"kind\":null,\"name\":\"terminal_output\"},{\"default\":\"\",\"kind\":null,\"name\":\"debug_name\"},{\"default\":0,\"kind\":null,\"name\":\"clears\"}]},{\"extends\":null,\"module\":null,\"name\":\"NotificationAreaBase1\",\"overrides\":[],\"properties\":[{\"default\":\"bottom-right\",\"kind\":null,\"name\":\"position\"},{\"default\":0,\"kind\":null,\"name\":\"_clear\"}]},{\"extends\":null,\"module\":null,\"name\":\"NotificationArea1\",\"overrides\":[],\"properties\":[{\"default\":[],\"kind\":null,\"name\":\"notifications\"},{\"default\":\"bottom-right\",\"kind\":null,\"name\":\"position\"},{\"default\":0,\"kind\":null,\"name\":\"_clear\"},{\"default\":[{\"background\":\"#ffc107\",\"icon\":{\"className\":\"fas fa-exclamation-triangle\",\"color\":\"white\",\"tagName\":\"i\"},\"type\":\"warning\"},{\"background\":\"#007bff\",\"icon\":{\"className\":\"fas fa-info-circle\",\"color\":\"white\",\"tagName\":\"i\"},\"type\":\"info\"}],\"kind\":null,\"name\":\"types\"}]},{\"extends\":null,\"module\":null,\"name\":\"Notification\",\"overrides\":[],\"properties\":[{\"default\":null,\"kind\":null,\"name\":\"background\"},{\"default\":3000,\"kind\":null,\"name\":\"duration\"},{\"default\":null,\"kind\":null,\"name\":\"icon\"},{\"default\":\"\",\"kind\":null,\"name\":\"message\"},{\"default\":null,\"kind\":null,\"name\":\"notification_type\"},{\"default\":false,\"kind\":null,\"name\":\"_destroyed\"}]},{\"extends\":null,\"module\":null,\"name\":\"TemplateActions1\",\"overrides\":[],\"properties\":[{\"default\":0,\"kind\":null,\"name\":\"open_modal\"},{\"default\":0,\"kind\":null,\"name\":\"close_modal\"}]},{\"extends\":null,\"module\":null,\"name\":\"MaterialTemplateActions1\",\"overrides\":[],\"properties\":[{\"default\":0,\"kind\":null,\"name\":\"open_modal\"},{\"default\":0,\"kind\":null,\"name\":\"close_modal\"}]}],\"roots\":{\"references\":[{\"attributes\":{\"factors\":[\"NEUTRAL\",\"POSITIVE\",\"NEGATIVE\"],\"tags\":[[[\"index\",\"index\",null]]]},\"id\":\"5568\",\"type\":\"FactorRange\"},{\"attributes\":{\"source\":{\"id\":\"5600\"}},\"id\":\"5607\",\"type\":\"CDSView\"},{\"attributes\":{},\"id\":\"5576\",\"type\":\"CategoricalScale\"},{\"attributes\":{},\"id\":\"5589\",\"type\":\"WheelZoomTool\"},{\"attributes\":{},\"id\":\"5610\",\"type\":\"CategoricalTickFormatter\"},{\"attributes\":{},\"id\":\"5622\",\"type\":\"UnionRenderers\"},{\"attributes\":{\"children\":[{\"id\":\"5571\"}],\"margin\":[0,0,0,0],\"name\":\"Row02184\"},\"id\":\"5567\",\"type\":\"Row\"},{\"attributes\":{},\"id\":\"5613\",\"type\":\"BasicTickFormatter\"},{\"attributes\":{},\"id\":\"5611\",\"type\":\"AllLabels\"},{\"attributes\":{},\"id\":\"5591\",\"type\":\"ResetTool\"},{\"attributes\":{\"end\":87.5,\"reset_end\":87.5,\"reset_start\":0.0,\"tags\":[[[\"sentiment\",\"sentiment\",null]]]},\"id\":\"5569\",\"type\":\"Range1d\"},{\"attributes\":{\"axis_label\":\"\",\"coordinates\":null,\"formatter\":{\"id\":\"5610\"},\"group\":null,\"major_label_policy\":{\"id\":\"5611\"},\"ticker\":{\"id\":\"5581\"}},\"id\":\"5580\",\"type\":\"CategoricalAxis\"},{\"attributes\":{\"fill_alpha\":{\"value\":0.2},\"fill_color\":{\"value\":\"#30a2da\"},\"hatch_alpha\":{\"value\":0.2},\"hatch_color\":{\"value\":\"#30a2da\"},\"line_alpha\":{\"value\":0.2},\"top\":{\"field\":\"sentiment\"},\"width\":{\"value\":0.8},\"x\":{\"field\":\"index\"}},\"id\":\"5605\",\"type\":\"VBar\"},{\"attributes\":{\"bottom_units\":\"screen\",\"coordinates\":null,\"fill_alpha\":0.5,\"fill_color\":\"lightgrey\",\"group\":null,\"left_units\":\"screen\",\"level\":\"overlay\",\"line_alpha\":1.0,\"line_color\":\"black\",\"line_dash\":[4,4],\"line_width\":2,\"right_units\":\"screen\",\"syncable\":false,\"top_units\":\"screen\"},\"id\":\"5592\",\"type\":\"BoxAnnotation\"},{\"attributes\":{},\"id\":\"5614\",\"type\":\"AllLabels\"},{\"attributes\":{\"axis\":{\"id\":\"5580\"},\"coordinates\":null,\"grid_line_color\":null,\"group\":null,\"ticker\":null},\"id\":\"5582\",\"type\":\"Grid\"},{\"attributes\":{\"bottom\":{\"value\":0},\"fill_alpha\":{\"value\":1.0},\"fill_color\":{\"value\":\"#30a2da\"},\"hatch_alpha\":{\"value\":1.0},\"hatch_color\":{\"value\":\"#30a2da\"},\"hatch_scale\":{\"value\":12.0},\"hatch_weight\":{\"value\":1.0},\"line_alpha\":{\"value\":1.0},\"line_cap\":{\"value\":\"butt\"},\"line_color\":{\"value\":\"black\"},\"line_dash\":{\"value\":[]},\"line_dash_offset\":{\"value\":0},\"line_join\":{\"value\":\"bevel\"},\"line_width\":{\"value\":1},\"top\":{\"field\":\"sentiment\"},\"width\":{\"value\":0.8},\"x\":{\"field\":\"index\"}},\"id\":\"5608\",\"type\":\"VBar\"},{\"attributes\":{\"axis_label\":\"\",\"coordinates\":null,\"formatter\":{\"id\":\"5613\"},\"group\":null,\"major_label_policy\":{\"id\":\"5614\"},\"ticker\":{\"id\":\"5584\"}},\"id\":\"5583\",\"type\":\"LinearAxis\"},{\"attributes\":{},\"id\":\"5588\",\"type\":\"PanTool\"},{\"attributes\":{},\"id\":\"5581\",\"type\":\"CategoricalTicker\"},{\"attributes\":{\"tools\":[{\"id\":\"5570\"},{\"id\":\"5587\"},{\"id\":\"5588\"},{\"id\":\"5589\"},{\"id\":\"5590\"},{\"id\":\"5591\"}]},\"id\":\"5593\",\"type\":\"Toolbar\"},{\"attributes\":{\"coordinates\":null,\"group\":null,\"text\":\"Sentences by Sentiment Category\",\"text_color\":\"black\",\"text_font_size\":\"12pt\"},\"id\":\"5572\",\"type\":\"Title\"},{\"attributes\":{\"data\":{\"index\":[\"NEUTRAL\",\"POSITIVE\",\"NEGATIVE\"],\"sentiment\":[81,53,16]},\"selected\":{\"id\":\"5601\"},\"selection_policy\":{\"id\":\"5622\"}},\"id\":\"5600\",\"type\":\"ColumnDataSource\"},{\"attributes\":{\"below\":[{\"id\":\"5580\"}],\"center\":[{\"id\":\"5582\"},{\"id\":\"5586\"}],\"height\":300,\"left\":[{\"id\":\"5583\"}],\"margin\":[5,5,5,5],\"min_border_bottom\":10,\"min_border_left\":10,\"min_border_right\":10,\"min_border_top\":10,\"renderers\":[{\"id\":\"5606\"}],\"sizing_mode\":\"fixed\",\"title\":{\"id\":\"5572\"},\"toolbar\":{\"id\":\"5593\"},\"width\":700,\"x_range\":{\"id\":\"5568\"},\"x_scale\":{\"id\":\"5576\"},\"y_range\":{\"id\":\"5569\"},\"y_scale\":{\"id\":\"5578\"}},\"id\":\"5571\",\"subtype\":\"Figure\",\"type\":\"Plot\"},{\"attributes\":{\"fill_alpha\":{\"value\":0.1},\"fill_color\":{\"value\":\"#30a2da\"},\"hatch_alpha\":{\"value\":0.1},\"hatch_color\":{\"value\":\"#30a2da\"},\"line_alpha\":{\"value\":0.1},\"top\":{\"field\":\"sentiment\"},\"width\":{\"value\":0.8},\"x\":{\"field\":\"index\"}},\"id\":\"5604\",\"type\":\"VBar\"},{\"attributes\":{},\"id\":\"5584\",\"type\":\"BasicTicker\"},{\"attributes\":{\"fill_color\":{\"value\":\"#30a2da\"},\"hatch_color\":{\"value\":\"#30a2da\"},\"top\":{\"field\":\"sentiment\"},\"width\":{\"value\":0.8},\"x\":{\"field\":\"index\"}},\"id\":\"5603\",\"type\":\"VBar\"},{\"attributes\":{\"client_comm_id\":\"43a94f9f1b384668bd494071303bf149\",\"comm_id\":\"b5cded32557648b99600da9928eeefa9\",\"plot_id\":\"5567\"},\"id\":\"5655\",\"type\":\"panel.models.comm_manager.CommManager\"},{\"attributes\":{\"callback\":null,\"renderers\":[{\"id\":\"5606\"}],\"tags\":[\"hv_created\"],\"tooltips\":[[\"index\",\"@{index}\"],[\"sentiment\",\"@{sentiment}\"]]},\"id\":\"5570\",\"type\":\"HoverTool\"},{\"attributes\":{},\"id\":\"5578\",\"type\":\"LinearScale\"},{\"attributes\":{\"axis\":{\"id\":\"5583\"},\"coordinates\":null,\"dimension\":1,\"grid_line_color\":null,\"group\":null,\"ticker\":null},\"id\":\"5586\",\"type\":\"Grid\"},{\"attributes\":{},\"id\":\"5601\",\"type\":\"Selection\"},{\"attributes\":{\"overlay\":{\"id\":\"5592\"}},\"id\":\"5590\",\"type\":\"BoxZoomTool\"},{\"attributes\":{\"coordinates\":null,\"data_source\":{\"id\":\"5600\"},\"glyph\":{\"id\":\"5603\"},\"group\":null,\"hover_glyph\":null,\"muted_glyph\":{\"id\":\"5605\"},\"nonselection_glyph\":{\"id\":\"5604\"},\"selection_glyph\":{\"id\":\"5608\"},\"view\":{\"id\":\"5607\"}},\"id\":\"5606\",\"type\":\"GlyphRenderer\"},{\"attributes\":{},\"id\":\"5587\",\"type\":\"SaveTool\"}],\"root_ids\":[\"5567\",\"5655\"]},\"title\":\"Bokeh Application\",\"version\":\"2.4.3\"}};\n",
       "    var render_items = [{\"docid\":\"5868ebbb-de2f-438a-95f9-defc6693bd02\",\"root_ids\":[\"5567\"],\"roots\":{\"5567\":\"19cef4be-6159-48d6-9eb2-31e5e400be83\"}}];\n",
       "    root.Bokeh.embed.embed_items_notebook(docs_json, render_items);\n",
       "  }\n",
       "  if (root.Bokeh !== undefined && root.Bokeh.Panel !== undefined) {\n",
       "    embed_document(root);\n",
       "  } else {\n",
       "    var attempts = 0;\n",
       "    var timer = setInterval(function(root) {\n",
       "      if (root.Bokeh !== undefined && root.Bokeh.Panel !== undefined) {\n",
       "        clearInterval(timer);\n",
       "        embed_document(root);\n",
       "      } else if (document.readyState == \"complete\") {\n",
       "        attempts++;\n",
       "        if (attempts > 200) {\n",
       "          clearInterval(timer);\n",
       "          console.log(\"Bokeh: ERROR: Unable to run BokehJS code because BokehJS library is missing\");\n",
       "        }\n",
       "      }\n",
       "    }, 25, root)\n",
       "  }\n",
       "})(window);</script>"
      ],
      "text/plain": [
       "Row\n",
       "    [0] HoloViews(Bars)"
      ]
     },
     "execution_count": 95,
     "metadata": {
      "application/vnd.holoviews_exec.v0+json": {
       "id": "5567"
      }
     },
     "output_type": "execute_result"
    }
   ],
   "source": [
    "# Bar plot\n",
    "sentiment_plot = sentiment_df_grouped.hvplot(title = \"Sentences by Sentiment Category\", kind=\"bar\")\n",
    "pn.Row(sentiment_plot)"
   ]
  },
  {
   "cell_type": "code",
   "execution_count": 96,
   "id": "ba0409d6-e93e-4874-b386-0d9c37254f17",
   "metadata": {},
   "outputs": [
    {
     "data": {},
     "metadata": {},
     "output_type": "display_data"
    },
    {
     "data": {},
     "metadata": {},
     "output_type": "display_data"
    },
    {
     "data": {
      "application/vnd.holoviews_exec.v0+json": "",
      "text/html": [
       "<div id='5706'>\n",
       "  <div class=\"bk-root\" id=\"4408fd34-38d2-46cf-9b78-b8817182a8dd\" data-root-id=\"5706\"></div>\n",
       "</div>\n",
       "<script type=\"application/javascript\">(function(root) {\n",
       "  function embed_document(root) {\n",
       "    var docs_json = {\"da00c7ef-f453-4670-97b2-55b7b4723f92\":{\"defs\":[{\"extends\":null,\"module\":null,\"name\":\"ReactiveHTML1\",\"overrides\":[],\"properties\":[]},{\"extends\":null,\"module\":null,\"name\":\"FlexBox1\",\"overrides\":[],\"properties\":[{\"default\":\"flex-start\",\"kind\":null,\"name\":\"align_content\"},{\"default\":\"flex-start\",\"kind\":null,\"name\":\"align_items\"},{\"default\":\"row\",\"kind\":null,\"name\":\"flex_direction\"},{\"default\":\"wrap\",\"kind\":null,\"name\":\"flex_wrap\"},{\"default\":\"flex-start\",\"kind\":null,\"name\":\"justify_content\"}]},{\"extends\":null,\"module\":null,\"name\":\"GridStack1\",\"overrides\":[],\"properties\":[{\"default\":\"warn\",\"kind\":null,\"name\":\"mode\"},{\"default\":null,\"kind\":null,\"name\":\"ncols\"},{\"default\":null,\"kind\":null,\"name\":\"nrows\"},{\"default\":true,\"kind\":null,\"name\":\"allow_resize\"},{\"default\":true,\"kind\":null,\"name\":\"allow_drag\"},{\"default\":[],\"kind\":null,\"name\":\"state\"}]},{\"extends\":null,\"module\":null,\"name\":\"click1\",\"overrides\":[],\"properties\":[{\"default\":\"\",\"kind\":null,\"name\":\"terminal_output\"},{\"default\":\"\",\"kind\":null,\"name\":\"debug_name\"},{\"default\":0,\"kind\":null,\"name\":\"clears\"}]},{\"extends\":null,\"module\":null,\"name\":\"NotificationAreaBase1\",\"overrides\":[],\"properties\":[{\"default\":\"bottom-right\",\"kind\":null,\"name\":\"position\"},{\"default\":0,\"kind\":null,\"name\":\"_clear\"}]},{\"extends\":null,\"module\":null,\"name\":\"NotificationArea1\",\"overrides\":[],\"properties\":[{\"default\":[],\"kind\":null,\"name\":\"notifications\"},{\"default\":\"bottom-right\",\"kind\":null,\"name\":\"position\"},{\"default\":0,\"kind\":null,\"name\":\"_clear\"},{\"default\":[{\"background\":\"#ffc107\",\"icon\":{\"className\":\"fas fa-exclamation-triangle\",\"color\":\"white\",\"tagName\":\"i\"},\"type\":\"warning\"},{\"background\":\"#007bff\",\"icon\":{\"className\":\"fas fa-info-circle\",\"color\":\"white\",\"tagName\":\"i\"},\"type\":\"info\"}],\"kind\":null,\"name\":\"types\"}]},{\"extends\":null,\"module\":null,\"name\":\"Notification\",\"overrides\":[],\"properties\":[{\"default\":null,\"kind\":null,\"name\":\"background\"},{\"default\":3000,\"kind\":null,\"name\":\"duration\"},{\"default\":null,\"kind\":null,\"name\":\"icon\"},{\"default\":\"\",\"kind\":null,\"name\":\"message\"},{\"default\":null,\"kind\":null,\"name\":\"notification_type\"},{\"default\":false,\"kind\":null,\"name\":\"_destroyed\"}]},{\"extends\":null,\"module\":null,\"name\":\"TemplateActions1\",\"overrides\":[],\"properties\":[{\"default\":0,\"kind\":null,\"name\":\"open_modal\"},{\"default\":0,\"kind\":null,\"name\":\"close_modal\"}]},{\"extends\":null,\"module\":null,\"name\":\"MaterialTemplateActions1\",\"overrides\":[],\"properties\":[{\"default\":0,\"kind\":null,\"name\":\"open_modal\"},{\"default\":0,\"kind\":null,\"name\":\"close_modal\"}]}],\"roots\":{\"references\":[{\"attributes\":{\"editor\":{\"id\":\"5797\"},\"field\":\"text\",\"formatter\":{\"id\":\"5796\"},\"title\":\"text\",\"width\":0},\"id\":\"5798\",\"type\":\"TableColumn\"},{\"attributes\":{},\"id\":\"5720\",\"type\":\"CategoricalTicker\"},{\"attributes\":{},\"id\":\"5841\",\"type\":\"UnionRenderers\"},{\"attributes\":{\"below\":[{\"id\":\"5719\"}],\"center\":[{\"id\":\"5721\"},{\"id\":\"5725\"}],\"height\":300,\"left\":[{\"id\":\"5722\"}],\"margin\":[5,5,5,5],\"min_border_bottom\":10,\"min_border_left\":10,\"min_border_right\":10,\"min_border_top\":10,\"renderers\":[{\"id\":\"5745\"}],\"sizing_mode\":\"fixed\",\"title\":{\"id\":\"5711\"},\"toolbar\":{\"id\":\"5732\"},\"width\":700,\"x_range\":{\"id\":\"5707\"},\"x_scale\":{\"id\":\"5715\"},\"y_range\":{\"id\":\"5708\"},\"y_scale\":{\"id\":\"5717\"}},\"id\":\"5710\",\"subtype\":\"Figure\",\"type\":\"Plot\"},{\"attributes\":{\"editor\":{\"id\":\"5792\"},\"field\":\"index\",\"formatter\":{\"id\":\"5790\"},\"title\":\"index\",\"width\":0},\"id\":\"5793\",\"type\":\"TableColumn\"},{\"attributes\":{},\"id\":\"5750\",\"type\":\"AllLabels\"},{\"attributes\":{\"end\":87.5,\"reset_end\":87.5,\"reset_start\":0.0,\"tags\":[[[\"sentiment\",\"sentiment\",null]]]},\"id\":\"5708\",\"type\":\"Range1d\"},{\"attributes\":{\"data\":{\"index\":[4,5,6,7,8,13,15,16,18,20,21,23,26,29,30,31,32,33,34,35,39,40,42,43,44,45,46,47,48,49,51,52,53,55,56,57,58,59,63,64,68,69,72,73,74,76,77,78,79,80,84,87,88,92,94,95,97,99,100,102,103,104,112,113,115,118,119,122,124,125,126,129,131,132,134,135,136,137,139,145,147],\"sentiment\":[\"NEUTRAL\",\"NEUTRAL\",\"NEUTRAL\",\"NEUTRAL\",\"NEUTRAL\",\"NEUTRAL\",\"NEUTRAL\",\"NEUTRAL\",\"NEUTRAL\",\"NEUTRAL\",\"NEUTRAL\",\"NEUTRAL\",\"NEUTRAL\",\"NEUTRAL\",\"NEUTRAL\",\"NEUTRAL\",\"NEUTRAL\",\"NEUTRAL\",\"NEUTRAL\",\"NEUTRAL\",\"NEUTRAL\",\"NEUTRAL\",\"NEUTRAL\",\"NEUTRAL\",\"NEUTRAL\",\"NEUTRAL\",\"NEUTRAL\",\"NEUTRAL\",\"NEUTRAL\",\"NEUTRAL\",\"NEUTRAL\",\"NEUTRAL\",\"NEUTRAL\",\"NEUTRAL\",\"NEUTRAL\",\"NEUTRAL\",\"NEUTRAL\",\"NEUTRAL\",\"NEUTRAL\",\"NEUTRAL\",\"NEUTRAL\",\"NEUTRAL\",\"NEUTRAL\",\"NEUTRAL\",\"NEUTRAL\",\"NEUTRAL\",\"NEUTRAL\",\"NEUTRAL\",\"NEUTRAL\",\"NEUTRAL\",\"NEUTRAL\",\"NEUTRAL\",\"NEUTRAL\",\"NEUTRAL\",\"NEUTRAL\",\"NEUTRAL\",\"NEUTRAL\",\"NEUTRAL\",\"NEUTRAL\",\"NEUTRAL\",\"NEUTRAL\",\"NEUTRAL\",\"NEUTRAL\",\"NEUTRAL\",\"NEUTRAL\",\"NEUTRAL\",\"NEUTRAL\",\"NEUTRAL\",\"NEUTRAL\",\"NEUTRAL\",\"NEUTRAL\",\"NEUTRAL\",\"NEUTRAL\",\"NEUTRAL\",\"NEUTRAL\",\"NEUTRAL\",\"NEUTRAL\",\"NEUTRAL\",\"NEUTRAL\",\"NEUTRAL\",\"NEUTRAL\"],\"text\":[\"After all, it's been almost ten years since I wrote my very first line of code.\",\"That's a pretty long time.\",\"Now, this video is about the very specific and detailed plan that I wrote for my friend to teach me the basics of coding for data science.\",\"Since I did all the work for him, I figured I might as well share the details with you as well.\",\"Here.\",\"Let's start with the language that we should start learning.\",\"They would either start with Python or R.\",\"Let's quickly compare the two languages data Science Style when looking at the Stack Overflow developer survey, we find that about 48% of respondents use Python, while only about 5% user.\",\"Let's now look more specifically a data scientist, not just all Stack Overflow users who come from a variety of backgrounds.\",\"Since these add up to more than 100%, we can assume that some data scientists are using both languages.\",\"Finally, let's look at these two languages over time.\",\"While our usage has seen some attrition, to me, this is a no brainer.\",\"This isn't to say R is bad.\",\"Now that we've chosen our language as Python, what coding skills should my friend learn first?\",\"Should he focus on variables?\",\"Logic functions?\",\"Algorithms?\",\"Classes?\",\"My mind was absolutely spinning when I first addressed this.\",\"It took me a second, but I had this weird chaotic flashback to my first days of learning programming myself.\",\"Honestly, I was a bit torn on this too.\",\"So, for example, what IDE should have used?\",\"For those who don't know and who are new, ID stands for Integrated Development Environment.\",\"So this is essentially just a text editor you use to write your code.\",\"If you were writing an essay, you could choose to use Microsoft Word.\",\"You could use Google Docs, you could use Notepad, or maybe even just straight up pen and paper.\",\"Just like there are these different mediums for you to write your last minute paper.\",\"Data scientists and software engineers need places to write their code.\",\"These places are called IDs.\",\"And just like Microsoft Word has spell track and formatting to make sure that you don't make grammatical errors, many ideas help you to make sure that you have proper syntax in your code.\",\"This is a list of the most commonly used Ides in the data domain.\",\"And as you can see, common Ides for Python are vs, code, jupyter, notebook, PyCharm, and Spider.\",\"Before anything else, I wanted to give him a decent understanding about how the development environments work before we picked one.\",\"When I learned to code, I was using Python and I was using an IDE called Idle.\",\"So Idle is great for learning, but I've literally never once touched it since, and I don't use it on any data projects in any of my work.\",\"I wanted to make sure that my friend was using something that would be representative of what he might see in the real world, what people actually use.\",\"For this specific friend, I recommended that he started learning the basics with this video from Precocamp.\",\"I've linked it and all other resources in the description.\",\"What's more important is that you're using one that people who actually write Python code into production are using.\",\"Okay, now on to the coding basics.\",\"I would argue that it's almost the opposite.\",\"Coding languages, particularly Python.\",\"This isn't to say that you won't get stuck.\",\"It's just to say that when you do get stuck, there's almost always a logical reason for it and a logical solution to resolve your problems.\",\"Keeping with this theme of simplicity, at the most basic level, beginner coding can be broken down into seven concepts.\",\"The first one we start with is data types.\",\"So in Python, you can work with numbers, you can work with text, you can work with Booleans, you can work with lists or a host of different data structures.\",\"It's important to get a good understanding or a fundamental understanding of these first.\",\"Next, I think it makes sense to get familiar with how variables work.\",\"This can vary by language, so you need to make sure you know how to assign and change variables in Python, specifically, after variables, you should look into how logical operators work.\",\"The fourth thing you need to understand is how loops work.\",\"After that, you should learn about functions.\",\"So this sets the foundation for almost everything you do on your programming journey.\",\"You should now learn a bit more about how some of the basic data structures work.\",\"This will set the foundation for much of your data work later on.\",\"Finally, you should start learning to work with libraries.\",\"Pandas and Numpire also introduced some new data structures, like arrays, series, and data frames.\",\"And that's it.\",\"With those seven things, you have the basics of coding that you'll need for starting to work with data.\",\"What I've purposely omitted from this list is an explanation of classes.\",\"So classes are the foundation of object oriented programming, and object oriented programming is a programming model that organizes code around objects rather than functions or logic.\",\"Object oriented programming is incredibly powerful, but honestly, it isn't very relevant for the beginner stages of working with data.\",\"So for my friend, the first project I'm having him do is create a jujitsu drill randomizer using Python.\",\"So for training anything, it's important to reinforce your skills.\",\"I'm having to make a program that essentially randomly selects two to three drills that we should work on during our sessions from a larger list.\",\"Okay?\",\"So now that you've learned the basics of Python, now what?\",\"If that's a bit too intimidating, you can follow along on one of the projects that I've done or one of the thousands of projects that other people have worked on on the Kaggle platform.\",\"They go through and see the great work that other people have done, and they get discouraged again.\",\"Honestly, I remember feeling this too.\",\"What I recommend doing is going through some of the basic notebooks, like the Titanic data set, and just copying the code, running it on your own computer, line by line.\",\"Maybe you should try changing, like the colors on a graph from blue to red, or try to make a line thicker on one of the graphs.\",\"So remember when we talked about IDs earlier and I'd mentioned Jupiter's notebook?\",\"Kaggle uses something similar to that that lets you work online.\",\"So if you want to work with data on your laptop or desktop, I recommend downloading Anaconda.\",\"Anaconda is a software package that lumps together all of the relevant Python libraries and ideas for data science in one go.\",\"So you can check out my video for how to install it, which I've linked above and in the description.\",\"Finally, I have three tips to send you on your way.\",\"So the first one is to use Google and stack overflow.\",\"They'll tell you something about what's wrong.\",\"Finally, the third thing is to take it easy on yourself.\"]},\"selected\":{\"id\":\"5812\"},\"selection_policy\":{\"id\":\"5845\"}},\"id\":\"5811\",\"type\":\"ColumnDataSource\"},{\"attributes\":{\"indices\":[]},\"id\":\"5812\",\"type\":\"Selection\"},{\"attributes\":{\"data\":{\"index\":[\"NEUTRAL\",\"POSITIVE\",\"NEGATIVE\"],\"sentiment\":[81,53,16]},\"selected\":{\"id\":\"5740\"},\"selection_policy\":{\"id\":\"5761\"}},\"id\":\"5739\",\"type\":\"ColumnDataSource\"},{\"attributes\":{},\"id\":\"5753\",\"type\":\"AllLabels\"},{\"attributes\":{},\"id\":\"5797\",\"type\":\"StringEditor\"},{\"attributes\":{},\"id\":\"5715\",\"type\":\"CategoricalScale\"},{\"attributes\":{\"fill_color\":{\"value\":\"#30a2da\"},\"hatch_color\":{\"value\":\"#30a2da\"},\"top\":{\"field\":\"sentiment\"},\"width\":{\"value\":0.8},\"x\":{\"field\":\"index\"}},\"id\":\"5742\",\"type\":\"VBar\"},{\"attributes\":{},\"id\":\"5802\",\"type\":\"StringEditor\"},{\"attributes\":{\"axis_label\":\"\",\"coordinates\":null,\"formatter\":{\"id\":\"5749\"},\"group\":null,\"major_label_policy\":{\"id\":\"5750\"},\"ticker\":{\"id\":\"5720\"}},\"id\":\"5719\",\"type\":\"CategoricalAxis\"},{\"attributes\":{\"source\":{\"id\":\"5788\"}},\"id\":\"5808\",\"type\":\"CDSView\"},{\"attributes\":{\"data\":{\"index\":[0,1,2,9,10,11,12,14,17,19,22,24,25,27,28,37,38,60,61,65,70,71,75,81,82,83,85,86,89,90,91,93,96,98,105,106,107,108,109,110,111,116,117,120,121,127,128,130,133,138,140,146,149],\"sentiment\":[\"POSITIVE\",\"POSITIVE\",\"POSITIVE\",\"POSITIVE\",\"POSITIVE\",\"POSITIVE\",\"POSITIVE\",\"POSITIVE\",\"POSITIVE\",\"POSITIVE\",\"POSITIVE\",\"POSITIVE\",\"POSITIVE\",\"POSITIVE\",\"POSITIVE\",\"POSITIVE\",\"POSITIVE\",\"POSITIVE\",\"POSITIVE\",\"POSITIVE\",\"POSITIVE\",\"POSITIVE\",\"POSITIVE\",\"POSITIVE\",\"POSITIVE\",\"POSITIVE\",\"POSITIVE\",\"POSITIVE\",\"POSITIVE\",\"POSITIVE\",\"POSITIVE\",\"POSITIVE\",\"POSITIVE\",\"POSITIVE\",\"POSITIVE\",\"POSITIVE\",\"POSITIVE\",\"POSITIVE\",\"POSITIVE\",\"POSITIVE\",\"POSITIVE\",\"POSITIVE\",\"POSITIVE\",\"POSITIVE\",\"POSITIVE\",\"POSITIVE\",\"POSITIVE\",\"POSITIVE\",\"POSITIVE\",\"POSITIVE\",\"POSITIVE\",\"POSITIVE\",\"POSITIVE\"],\"text\":[\"I recently got an amazing opportunity.\",\"I've been learning jujitsu, and a friend offered to coach me in exchange for teaching him how to code.\",\"At this point in my life where I'm trying to improve my jiu jitsu as quickly as possible, this was an incredible trade for me.\",\"There have been plenty of other great videos similar to this about how to start coding, and I've linked many of them in the description.\",\"Again, those are great, but I think this is a bit different because it's more focused on coding for data and it uses a very specific real world case study.\",\"At the end, I also highlight the three most important things a new programmer should know.\",\"So you definitely want to stick around for that.\",\"I know if you're working with data, you generally have two good choices.\",\"In industry, Python is a far more common language.\",\"On Kaggle, my favorite platform for data science learning and projects, we can see that around 84.2% of respondents use Python, while only 25% use R.\",\"We can see here from 2020 to 2021, Python has gained an adoption.\",\"I recommended my friend to start learning Python first.\",\"That language is more popular, and it's continuing to grow.\",\"It's just to say that I think Python is growing and will be a more valuable skill to have for the job market in general.\",\"I also personally find it a bit more intuitive and flexible than our.\",\"I just now got excited about teaching the functional part of programming, and I completely forgot about the basics of setting up your environment for success.\",\"The next thing I did was give my friend some of my favorite resources on choosing an environment and getting the right version of Python on his computer.\",\"So in the video, they show you how to set up the PyCharm environment and get comfortable using that.\",\"I think PyCharm is solid, and if you get familiar with that, you can easily pick up the SCode, a Jupiter notebook, or Spider pretty quickly.\",\"Surprisingly, I think this might be one of the simplest parts of this entire process.\",\"They're designed to be as easy to use as possible while creating good results.\",\"So if you change your perspective to look at them as intuitive, coding becomes significantly more fun and stressfree.\",\"All the resources that I've linked in the description cover these topics, but I'm going to give you a very, very high level overview here.\",\"These are very handy in your first few projects.\",\"If held, statements are probably the most important one.\",\"But you can definitely find use cases for the others, especially if you're working with data.\",\"So one thing computers are really great at is doing a simple task over and over again.\",\"You'd be surprised at how useful these can be for your programming future.\",\"Functions allow you to encapsulate code and reuse it.\",\"If you really think about it, good coding is about making as many reusable bits as possible, and these functions are where that really begins.\",\"At this point, you have a pretty good understanding of the key building blocks of Python.\",\"I recommend taking a deeper dive into Lists, Dictionaries, as well as Tuples.\",\"So the most important ones for data are Pandas, NumPy, ScikitLearn, and Matplotlib, and these give you additional tools to analyze, visualize and manipulate data.\",\"So if you have an understanding of how the more basic data structures work in Python, you should be able to pick these up relatively quickly.\",\"It is something you should absolutely explore on your own after you've learned these other concepts.\",\"Well, in the description, I've linked a few great resources for learning all of the concepts, including the exact one from Free Code Camp that I gave my friend.\",\"Most of them are completely free, but I have also included my discount link for the course on 365 Data Science.\",\"So if you're looking for a resource just to take you past the more basic coding and more towards tangible data science skills, I would recommend checking that out.\",\"One thing that I love about many of the courses that I've linked is that they have these little mini projects baked into the coursework.\",\"I think project based learning is the single most effective way to learn technical concepts.\",\"After first getting a basic foundation, I highly encourage you to think about how you can use code to build things that would be useful to you.\",\"This is a simple project, but it's something that's directly relevant and useful to our work and our jujitsu training.\",\"With that in mind, I'd love for you to comment below with a Python project that you'd like to do, and we'll all hold each other accountable.\",\"If you're interested in learning more about data, I highly recommend that you do a datarelated project.\",\"The single best place for this is Kaggle.com, which I've mentioned before.\",\"Many people think that this is cheating, but it's actually a great way to learn.\",\"Even better when you run it, make some changes to the code and see what happens.\",\"Just simple things like that help you iterate and improve.\",\"This is great and free compute power if you have limited resources at home.\",\"These are probably the most important things that a new coder can learn.\",\"If you have a question, it's almost guaranteed that someone has asked it before on the Internet, getting good at finding answers on your own via search might be the single most important skill of a data scientist or software engineer that they use every single day.\",\"Also, Google the errors, and this will save you a lot of time and headache.\",\"Thank you all so much for watching, and good luck on your data science and coding journey.\"]},\"selected\":{\"id\":\"5766\"},\"selection_policy\":{\"id\":\"5841\"}},\"id\":\"5765\",\"type\":\"ColumnDataSource\"},{\"attributes\":{},\"id\":\"5717\",\"type\":\"LinearScale\"},{\"attributes\":{\"editor\":{\"id\":\"5815\"},\"field\":\"index\",\"formatter\":{\"id\":\"5813\"},\"title\":\"index\",\"width\":0},\"id\":\"5816\",\"type\":\"TableColumn\"},{\"attributes\":{},\"id\":\"5774\",\"type\":\"StringEditor\"},{\"attributes\":{},\"id\":\"5819\",\"type\":\"StringFormatter\"},{\"attributes\":{},\"id\":\"5749\",\"type\":\"CategoricalTickFormatter\"},{\"attributes\":{},\"id\":\"5761\",\"type\":\"UnionRenderers\"},{\"attributes\":{\"editor\":{\"id\":\"5825\"},\"field\":\"sentiment\",\"formatter\":{\"id\":\"5824\"},\"title\":\"sentiment\",\"width\":0},\"id\":\"5826\",\"type\":\"TableColumn\"},{\"attributes\":{\"text_align\":\"left\"},\"id\":\"5767\",\"type\":\"NumberFormatter\"},{\"attributes\":{},\"id\":\"5769\",\"type\":\"CellEditor\"},{\"attributes\":{},\"id\":\"5773\",\"type\":\"StringFormatter\"},{\"attributes\":{\"margin\":[0,0,0,0],\"tabs\":[{\"id\":\"5764\"},{\"id\":\"5787\"},{\"id\":\"5810\"},{\"id\":\"5833\"}]},\"id\":\"5706\",\"type\":\"panel.models.tabs.Tabs\"},{\"attributes\":{\"source\":{\"id\":\"5765\"}},\"id\":\"5785\",\"type\":\"CDSView\"},{\"attributes\":{\"axis\":{\"id\":\"5719\"},\"coordinates\":null,\"grid_line_color\":null,\"group\":null,\"ticker\":null},\"id\":\"5721\",\"type\":\"Grid\"},{\"attributes\":{\"autosize_mode\":\"fit_columns\",\"columns\":[{\"id\":\"5770\"},{\"id\":\"5775\"},{\"id\":\"5780\"}],\"editable\":true,\"height\":300,\"index_position\":null,\"margin\":[5,10,5,10],\"name\":\"\",\"row_height\":40,\"sizing_mode\":\"fixed\",\"source\":{\"id\":\"5765\"},\"view\":{\"id\":\"5785\"},\"width\":700},\"id\":\"5783\",\"type\":\"DataTable\"},{\"attributes\":{\"editor\":{\"id\":\"5802\"},\"field\":\"sentiment\",\"formatter\":{\"id\":\"5801\"},\"title\":\"sentiment\",\"width\":0},\"id\":\"5803\",\"type\":\"TableColumn\"},{\"attributes\":{\"source\":{\"id\":\"5739\"}},\"id\":\"5746\",\"type\":\"CDSView\"},{\"attributes\":{\"indices\":[]},\"id\":\"5766\",\"type\":\"Selection\"},{\"attributes\":{\"bottom\":{\"value\":0},\"fill_alpha\":{\"value\":1.0},\"fill_color\":{\"value\":\"#30a2da\"},\"hatch_alpha\":{\"value\":1.0},\"hatch_color\":{\"value\":\"#30a2da\"},\"hatch_scale\":{\"value\":12.0},\"hatch_weight\":{\"value\":1.0},\"line_alpha\":{\"value\":1.0},\"line_cap\":{\"value\":\"butt\"},\"line_color\":{\"value\":\"black\"},\"line_dash\":{\"value\":[]},\"line_dash_offset\":{\"value\":0},\"line_join\":{\"value\":\"bevel\"},\"line_width\":{\"value\":1},\"top\":{\"field\":\"sentiment\"},\"width\":{\"value\":0.8},\"x\":{\"field\":\"index\"}},\"id\":\"5747\",\"type\":\"VBar\"},{\"attributes\":{\"callback\":null,\"renderers\":[{\"id\":\"5745\"}],\"tags\":[\"hv_created\"],\"tooltips\":[[\"index\",\"@{index}\"],[\"sentiment\",\"@{sentiment}\"]]},\"id\":\"5709\",\"type\":\"HoverTool\"},{\"attributes\":{\"text_align\":\"left\"},\"id\":\"5813\",\"type\":\"NumberFormatter\"},{\"attributes\":{},\"id\":\"5727\",\"type\":\"PanTool\"},{\"attributes\":{},\"id\":\"5740\",\"type\":\"Selection\"},{\"attributes\":{\"autosize_mode\":\"fit_columns\",\"columns\":[{\"id\":\"5793\"},{\"id\":\"5798\"},{\"id\":\"5803\"}],\"editable\":true,\"height\":300,\"index_position\":null,\"margin\":[5,10,5,10],\"name\":\"\",\"row_height\":40,\"sizing_mode\":\"fixed\",\"source\":{\"id\":\"5788\"},\"view\":{\"id\":\"5808\"},\"width\":700},\"id\":\"5806\",\"type\":\"DataTable\"},{\"attributes\":{},\"id\":\"5792\",\"type\":\"CellEditor\"},{\"attributes\":{},\"id\":\"5845\",\"type\":\"UnionRenderers\"},{\"attributes\":{},\"id\":\"5796\",\"type\":\"StringFormatter\"},{\"attributes\":{\"factors\":[\"NEUTRAL\",\"POSITIVE\",\"NEGATIVE\"],\"tags\":[[[\"index\",\"index\",null]]]},\"id\":\"5707\",\"type\":\"FactorRange\"},{\"attributes\":{},\"id\":\"5778\",\"type\":\"StringFormatter\"},{\"attributes\":{\"child\":{\"id\":\"5829\"},\"name\":\"\",\"title\":\"Neutral\"},\"id\":\"5833\",\"type\":\"Panel\"},{\"attributes\":{\"autosize_mode\":\"fit_columns\",\"columns\":[{\"id\":\"5816\"},{\"id\":\"5821\"},{\"id\":\"5826\"}],\"editable\":true,\"height\":300,\"index_position\":null,\"margin\":[5,10,5,10],\"name\":\"\",\"row_height\":40,\"sizing_mode\":\"fixed\",\"source\":{\"id\":\"5811\"},\"view\":{\"id\":\"5831\"},\"width\":700},\"id\":\"5829\",\"type\":\"DataTable\"},{\"attributes\":{},\"id\":\"5728\",\"type\":\"WheelZoomTool\"},{\"attributes\":{\"editor\":{\"id\":\"5774\"},\"field\":\"text\",\"formatter\":{\"id\":\"5773\"},\"title\":\"text\",\"width\":0},\"id\":\"5775\",\"type\":\"TableColumn\"},{\"attributes\":{\"child\":{\"id\":\"5806\"},\"name\":\"\",\"title\":\"Negative\"},\"id\":\"5810\",\"type\":\"Panel\"},{\"attributes\":{\"tools\":[{\"id\":\"5709\"},{\"id\":\"5726\"},{\"id\":\"5727\"},{\"id\":\"5728\"},{\"id\":\"5729\"},{\"id\":\"5730\"}]},\"id\":\"5732\",\"type\":\"Toolbar\"},{\"attributes\":{\"bottom_units\":\"screen\",\"coordinates\":null,\"fill_alpha\":0.5,\"fill_color\":\"lightgrey\",\"group\":null,\"left_units\":\"screen\",\"level\":\"overlay\",\"line_alpha\":1.0,\"line_color\":\"black\",\"line_dash\":[4,4],\"line_width\":2,\"right_units\":\"screen\",\"syncable\":false,\"top_units\":\"screen\"},\"id\":\"5731\",\"type\":\"BoxAnnotation\"},{\"attributes\":{},\"id\":\"5779\",\"type\":\"StringEditor\"},{\"attributes\":{\"indices\":[]},\"id\":\"5789\",\"type\":\"Selection\"},{\"attributes\":{\"client_comm_id\":\"16684b0b25a64104ba1bb0d0722a1480\",\"comm_id\":\"c9ef6067eb1446f39d9f218586bdabf0\",\"plot_id\":\"5706\"},\"id\":\"5882\",\"type\":\"panel.models.comm_manager.CommManager\"},{\"attributes\":{\"fill_alpha\":{\"value\":0.1},\"fill_color\":{\"value\":\"#30a2da\"},\"hatch_alpha\":{\"value\":0.1},\"hatch_color\":{\"value\":\"#30a2da\"},\"line_alpha\":{\"value\":0.1},\"top\":{\"field\":\"sentiment\"},\"width\":{\"value\":0.8},\"x\":{\"field\":\"index\"}},\"id\":\"5743\",\"type\":\"VBar\"},{\"attributes\":{\"coordinates\":null,\"group\":null,\"text\":\"Sentences by Sentiment Category\",\"text_color\":\"black\",\"text_font_size\":\"12pt\"},\"id\":\"5711\",\"type\":\"Title\"},{\"attributes\":{},\"id\":\"5815\",\"type\":\"CellEditor\"},{\"attributes\":{\"child\":{\"id\":\"5783\"},\"name\":\"\",\"title\":\"Positive\"},\"id\":\"5787\",\"type\":\"Panel\"},{\"attributes\":{\"child\":{\"id\":\"5710\"},\"name\":\"Sentiment overview\",\"title\":\"Sentiment overview\"},\"id\":\"5764\",\"type\":\"Panel\"},{\"attributes\":{\"editor\":{\"id\":\"5779\"},\"field\":\"sentiment\",\"formatter\":{\"id\":\"5778\"},\"title\":\"sentiment\",\"width\":0},\"id\":\"5780\",\"type\":\"TableColumn\"},{\"attributes\":{\"editor\":{\"id\":\"5820\"},\"field\":\"text\",\"formatter\":{\"id\":\"5819\"},\"title\":\"text\",\"width\":0},\"id\":\"5821\",\"type\":\"TableColumn\"},{\"attributes\":{},\"id\":\"5730\",\"type\":\"ResetTool\"},{\"attributes\":{\"data\":{\"index\":[3,36,41,50,54,62,66,67,101,114,123,141,142,143,144,148],\"sentiment\":[\"NEGATIVE\",\"NEGATIVE\",\"NEGATIVE\",\"NEGATIVE\",\"NEGATIVE\",\"NEGATIVE\",\"NEGATIVE\",\"NEGATIVE\",\"NEGATIVE\",\"NEGATIVE\",\"NEGATIVE\",\"NEGATIVE\",\"NEGATIVE\",\"NEGATIVE\",\"NEGATIVE\",\"NEGATIVE\"],\"text\":[\"In my personal opinion, I was all for until I had to think about how I'd actually go about teaching someone how to code starting from nothing, I quickly realized that this was going to be a lot harder than I thought.\",\"I didn't even know where to start with getting Python on my own computer.\",\"Does he even know what IDE stands for?\",\"In theory, technically, Microsoft Word would be considered an idea, but I definitely don't recommend using it as such unless you're jump ate.\",\"As I mentioned, this is something that I was totally confused about when I started.\",\"Truthfully, I don't think that the idea that you start with really matters that much.\",\"You see, there's a common misconception that coding is trying to trick you.\",\"There's this conspiracy that learning to code is supposed to be really hard and very scary.\",\"If you're watching this and you're a software engineer, you probably think I left something important out.\",\"But it can get boring working on the same basic drills every day.\",\"Realistically, many people lose steam at this step.\",\"The second is to use errors so your code will not run.\",\"It will break, and you'll be sad.\",\"Don't just wallow in your self pity.\",\"Read the error messages.\",\"The only people that can't code are the ones that never tried or the ones that quit too early.\"]},\"selected\":{\"id\":\"5789\"},\"selection_policy\":{\"id\":\"5843\"}},\"id\":\"5788\",\"type\":\"ColumnDataSource\"},{\"attributes\":{},\"id\":\"5801\",\"type\":\"StringFormatter\"},{\"attributes\":{},\"id\":\"5820\",\"type\":\"StringEditor\"},{\"attributes\":{\"source\":{\"id\":\"5811\"}},\"id\":\"5831\",\"type\":\"CDSView\"},{\"attributes\":{},\"id\":\"5752\",\"type\":\"BasicTickFormatter\"},{\"attributes\":{\"overlay\":{\"id\":\"5731\"}},\"id\":\"5729\",\"type\":\"BoxZoomTool\"},{\"attributes\":{},\"id\":\"5824\",\"type\":\"StringFormatter\"},{\"attributes\":{\"editor\":{\"id\":\"5769\"},\"field\":\"index\",\"formatter\":{\"id\":\"5767\"},\"title\":\"index\",\"width\":0},\"id\":\"5770\",\"type\":\"TableColumn\"},{\"attributes\":{},\"id\":\"5726\",\"type\":\"SaveTool\"},{\"attributes\":{},\"id\":\"5843\",\"type\":\"UnionRenderers\"},{\"attributes\":{\"axis_label\":\"\",\"coordinates\":null,\"formatter\":{\"id\":\"5752\"},\"group\":null,\"major_label_policy\":{\"id\":\"5753\"},\"ticker\":{\"id\":\"5723\"}},\"id\":\"5722\",\"type\":\"LinearAxis\"},{\"attributes\":{\"fill_alpha\":{\"value\":0.2},\"fill_color\":{\"value\":\"#30a2da\"},\"hatch_alpha\":{\"value\":0.2},\"hatch_color\":{\"value\":\"#30a2da\"},\"line_alpha\":{\"value\":0.2},\"top\":{\"field\":\"sentiment\"},\"width\":{\"value\":0.8},\"x\":{\"field\":\"index\"}},\"id\":\"5744\",\"type\":\"VBar\"},{\"attributes\":{\"text_align\":\"left\"},\"id\":\"5790\",\"type\":\"NumberFormatter\"},{\"attributes\":{},\"id\":\"5825\",\"type\":\"StringEditor\"},{\"attributes\":{\"coordinates\":null,\"data_source\":{\"id\":\"5739\"},\"glyph\":{\"id\":\"5742\"},\"group\":null,\"hover_glyph\":null,\"muted_glyph\":{\"id\":\"5744\"},\"nonselection_glyph\":{\"id\":\"5743\"},\"selection_glyph\":{\"id\":\"5747\"},\"view\":{\"id\":\"5746\"}},\"id\":\"5745\",\"type\":\"GlyphRenderer\"},{\"attributes\":{},\"id\":\"5723\",\"type\":\"BasicTicker\"},{\"attributes\":{\"axis\":{\"id\":\"5722\"},\"coordinates\":null,\"dimension\":1,\"grid_line_color\":null,\"group\":null,\"ticker\":null},\"id\":\"5725\",\"type\":\"Grid\"}],\"root_ids\":[\"5706\",\"5882\"]},\"title\":\"Bokeh Application\",\"version\":\"2.4.3\"}};\n",
       "    var render_items = [{\"docid\":\"da00c7ef-f453-4670-97b2-55b7b4723f92\",\"root_ids\":[\"5706\"],\"roots\":{\"5706\":\"4408fd34-38d2-46cf-9b78-b8817182a8dd\"}}];\n",
       "    root.Bokeh.embed.embed_items_notebook(docs_json, render_items);\n",
       "  }\n",
       "  if (root.Bokeh !== undefined && root.Bokeh.Panel !== undefined) {\n",
       "    embed_document(root);\n",
       "  } else {\n",
       "    var attempts = 0;\n",
       "    var timer = setInterval(function(root) {\n",
       "      if (root.Bokeh !== undefined && root.Bokeh.Panel !== undefined) {\n",
       "        clearInterval(timer);\n",
       "        embed_document(root);\n",
       "      } else if (document.readyState == \"complete\") {\n",
       "        attempts++;\n",
       "        if (attempts > 200) {\n",
       "          clearInterval(timer);\n",
       "          console.log(\"Bokeh: ERROR: Unable to run BokehJS code because BokehJS library is missing\");\n",
       "        }\n",
       "      }\n",
       "    }, 25, root)\n",
       "  }\n",
       "})(window);</script>"
      ],
      "text/plain": [
       "Tabs\n",
       "    [0] HoloViews(Bars, name='Sentiment overview')\n",
       "    [1] DataFrame(autosize_mode='fit_columns', height=300, sizing_mode='fixed', value=                          ..., width=700)\n",
       "    [2] DataFrame(autosize_mode='fit_columns', height=300, sizing_mode='fixed', value=                          ..., width=700)\n",
       "    [3] DataFrame(autosize_mode='fit_columns', height=300, sizing_mode='fixed', value=                          ..., width=700)"
      ]
     },
     "execution_count": 96,
     "metadata": {
      "application/vnd.holoviews_exec.v0+json": {
       "id": "5706"
      }
     },
     "output_type": "execute_result"
    }
   ],
   "source": [
    "positive_df = sentiment_df[sentiment_df[\"sentiment\"] == \"POSITIVE\"][[\"text\", \"sentiment\"]]\n",
    "negative_df = sentiment_df[sentiment_df[\"sentiment\"] == \"NEGATIVE\"][[\"text\", \"sentiment\"]]\n",
    "neutral_df = sentiment_df[sentiment_df[\"sentiment\"] == \"NEUTRAL\"][[\"text\", \"sentiment\"]]\n",
    "\n",
    "sentiment_tabs = pn.Tabs(('Sentiment overview', sentiment_plot), \n",
    "                       ('Positive', pn.widgets.DataFrame(positive_df, autosize_mode='fit_columns', width=700, height=300)),\n",
    "                       ('Negative', pn.widgets.DataFrame(negative_df, autosize_mode='fit_columns', width=700, height=300)),\n",
    "                       ('Neutral', pn.widgets.DataFrame(neutral_df, autosize_mode='fit_columns', width=700, height=300))\n",
    "                        )\n",
    "sentiment_tabs"
   ]
  },
  {
   "cell_type": "markdown",
   "id": "7176bf4d-02b2-442b-b12d-a03af0d4be28",
   "metadata": {},
   "source": [
    "### 2) Word cloud"
   ]
  },
  {
   "cell_type": "code",
   "execution_count": 97,
   "id": "b2ebdb4d-37de-4339-8486-16356420b190",
   "metadata": {},
   "outputs": [],
   "source": [
    "stopwords = set(STOPWORDS)"
   ]
  },
  {
   "cell_type": "code",
   "execution_count": 98,
   "id": "77fd1308-673e-497f-b057-853e6c224f60",
   "metadata": {},
   "outputs": [],
   "source": [
    "transcript = data[\"text\"]"
   ]
  },
  {
   "cell_type": "code",
   "execution_count": 99,
   "id": "11ce1f7f-7ac7-4830-a740-421c409e7be8",
   "metadata": {
    "collapsed": true,
    "jupyter": {
     "outputs_hidden": true
    },
    "tags": []
   },
   "outputs": [
    {
     "data": {
      "text/plain": [
       "['i',\n",
       " 'recently',\n",
       " 'got',\n",
       " 'an',\n",
       " 'amazing',\n",
       " 'opportunity.',\n",
       " \"i've\",\n",
       " 'been',\n",
       " 'learning',\n",
       " 'jujitsu,',\n",
       " 'and',\n",
       " 'a',\n",
       " 'friend',\n",
       " 'offered',\n",
       " 'to',\n",
       " 'coach',\n",
       " 'me',\n",
       " 'in',\n",
       " 'exchange',\n",
       " 'for',\n",
       " 'teaching',\n",
       " 'him',\n",
       " 'how',\n",
       " 'to',\n",
       " 'code.',\n",
       " 'at',\n",
       " 'this',\n",
       " 'point',\n",
       " 'in',\n",
       " 'my',\n",
       " 'life',\n",
       " 'where',\n",
       " \"i'm\",\n",
       " 'trying',\n",
       " 'to',\n",
       " 'improve',\n",
       " 'my',\n",
       " 'jiu',\n",
       " 'jitsu',\n",
       " 'as',\n",
       " 'quickly',\n",
       " 'as',\n",
       " 'possible,',\n",
       " 'this',\n",
       " 'was',\n",
       " 'an',\n",
       " 'incredible',\n",
       " 'trade',\n",
       " 'for',\n",
       " 'me.',\n",
       " 'in',\n",
       " 'my',\n",
       " 'personal',\n",
       " 'opinion,',\n",
       " 'i',\n",
       " 'was',\n",
       " 'all',\n",
       " 'for',\n",
       " 'until',\n",
       " 'i',\n",
       " 'had',\n",
       " 'to',\n",
       " 'think',\n",
       " 'about',\n",
       " 'how',\n",
       " \"i'd\",\n",
       " 'actually',\n",
       " 'go',\n",
       " 'about',\n",
       " 'teaching',\n",
       " 'someone',\n",
       " 'how',\n",
       " 'to',\n",
       " 'code',\n",
       " 'starting',\n",
       " 'from',\n",
       " 'nothing,',\n",
       " 'i',\n",
       " 'quickly',\n",
       " 'realized',\n",
       " 'that',\n",
       " 'this',\n",
       " 'was',\n",
       " 'going',\n",
       " 'to',\n",
       " 'be',\n",
       " 'a',\n",
       " 'lot',\n",
       " 'harder',\n",
       " 'than',\n",
       " 'i',\n",
       " 'thought.',\n",
       " 'after',\n",
       " 'all,',\n",
       " \"it's\",\n",
       " 'been',\n",
       " 'almost',\n",
       " 'ten',\n",
       " 'years',\n",
       " 'since',\n",
       " 'i',\n",
       " 'wrote',\n",
       " 'my',\n",
       " 'very',\n",
       " 'first',\n",
       " 'line',\n",
       " 'of',\n",
       " 'code.',\n",
       " \"that's\",\n",
       " 'a',\n",
       " 'pretty',\n",
       " 'long',\n",
       " 'time.',\n",
       " 'now,',\n",
       " 'this',\n",
       " 'video',\n",
       " 'is',\n",
       " 'about',\n",
       " 'the',\n",
       " 'very',\n",
       " 'specific',\n",
       " 'and',\n",
       " 'detailed',\n",
       " 'plan',\n",
       " 'that',\n",
       " 'i',\n",
       " 'wrote',\n",
       " 'for',\n",
       " 'my',\n",
       " 'friend',\n",
       " 'to',\n",
       " 'teach',\n",
       " 'me',\n",
       " 'the',\n",
       " 'basics',\n",
       " 'of',\n",
       " 'coding',\n",
       " 'for',\n",
       " 'data',\n",
       " 'science.',\n",
       " 'since',\n",
       " 'i',\n",
       " 'did',\n",
       " 'all',\n",
       " 'the',\n",
       " 'work',\n",
       " 'for',\n",
       " 'him,',\n",
       " 'i',\n",
       " 'figured',\n",
       " 'i',\n",
       " 'might',\n",
       " 'as',\n",
       " 'well',\n",
       " 'share',\n",
       " 'the',\n",
       " 'details',\n",
       " 'with',\n",
       " 'you',\n",
       " 'as',\n",
       " 'well.',\n",
       " 'here.',\n",
       " 'there',\n",
       " 'have',\n",
       " 'been',\n",
       " 'plenty',\n",
       " 'of',\n",
       " 'other',\n",
       " 'great',\n",
       " 'videos',\n",
       " 'similar',\n",
       " 'to',\n",
       " 'this',\n",
       " 'about',\n",
       " 'how',\n",
       " 'to',\n",
       " 'start',\n",
       " 'coding,',\n",
       " 'and',\n",
       " \"i've\",\n",
       " 'linked',\n",
       " 'many',\n",
       " 'of',\n",
       " 'them',\n",
       " 'in',\n",
       " 'the',\n",
       " 'description.',\n",
       " 'again,',\n",
       " 'those',\n",
       " 'are',\n",
       " 'great,',\n",
       " 'but',\n",
       " 'i',\n",
       " 'think',\n",
       " 'this',\n",
       " 'is',\n",
       " 'a',\n",
       " 'bit',\n",
       " 'different',\n",
       " 'because',\n",
       " \"it's\",\n",
       " 'more',\n",
       " 'focused',\n",
       " 'on',\n",
       " 'coding',\n",
       " 'for',\n",
       " 'data',\n",
       " 'and',\n",
       " 'it',\n",
       " 'uses',\n",
       " 'a',\n",
       " 'very',\n",
       " 'specific',\n",
       " 'real',\n",
       " 'world',\n",
       " 'case',\n",
       " 'study.',\n",
       " 'at',\n",
       " 'the',\n",
       " 'end,',\n",
       " 'i',\n",
       " 'also',\n",
       " 'highlight',\n",
       " 'the',\n",
       " 'three',\n",
       " 'most',\n",
       " 'important',\n",
       " 'things',\n",
       " 'a',\n",
       " 'new',\n",
       " 'programmer',\n",
       " 'should',\n",
       " 'know.',\n",
       " 'so',\n",
       " 'you',\n",
       " 'definitely',\n",
       " 'want',\n",
       " 'to',\n",
       " 'stick',\n",
       " 'around',\n",
       " 'for',\n",
       " 'that.',\n",
       " \"let's\",\n",
       " 'start',\n",
       " 'with',\n",
       " 'the',\n",
       " 'language',\n",
       " 'that',\n",
       " 'we',\n",
       " 'should',\n",
       " 'start',\n",
       " 'learning.',\n",
       " 'i',\n",
       " 'know',\n",
       " 'if',\n",
       " \"you're\",\n",
       " 'working',\n",
       " 'with',\n",
       " 'data,',\n",
       " 'you',\n",
       " 'generally',\n",
       " 'have',\n",
       " 'two',\n",
       " 'good',\n",
       " 'choices.',\n",
       " 'they',\n",
       " 'would',\n",
       " 'either',\n",
       " 'start',\n",
       " 'with',\n",
       " 'python',\n",
       " 'or',\n",
       " 'r.',\n",
       " \"let's\",\n",
       " 'quickly',\n",
       " 'compare',\n",
       " 'the',\n",
       " 'two',\n",
       " 'languages',\n",
       " 'data',\n",
       " 'science',\n",
       " 'style',\n",
       " 'when',\n",
       " 'looking',\n",
       " 'at',\n",
       " 'the',\n",
       " 'stack',\n",
       " 'overflow',\n",
       " 'developer',\n",
       " 'survey,',\n",
       " 'we',\n",
       " 'find',\n",
       " 'that',\n",
       " 'about',\n",
       " '48%',\n",
       " 'of',\n",
       " 'respondents',\n",
       " 'use',\n",
       " 'python,',\n",
       " 'while',\n",
       " 'only',\n",
       " 'about',\n",
       " '5%',\n",
       " 'user.',\n",
       " 'in',\n",
       " 'industry,',\n",
       " 'python',\n",
       " 'is',\n",
       " 'a',\n",
       " 'far',\n",
       " 'more',\n",
       " 'common',\n",
       " 'language.',\n",
       " \"let's\",\n",
       " 'now',\n",
       " 'look',\n",
       " 'more',\n",
       " 'specifically',\n",
       " 'a',\n",
       " 'data',\n",
       " 'scientist,',\n",
       " 'not',\n",
       " 'just',\n",
       " 'all',\n",
       " 'stack',\n",
       " 'overflow',\n",
       " 'users',\n",
       " 'who',\n",
       " 'come',\n",
       " 'from',\n",
       " 'a',\n",
       " 'variety',\n",
       " 'of',\n",
       " 'backgrounds.',\n",
       " 'on',\n",
       " 'kaggle,',\n",
       " 'my',\n",
       " 'favorite',\n",
       " 'platform',\n",
       " 'for',\n",
       " 'data',\n",
       " 'science',\n",
       " 'learning',\n",
       " 'and',\n",
       " 'projects,',\n",
       " 'we',\n",
       " 'can',\n",
       " 'see',\n",
       " 'that',\n",
       " 'around',\n",
       " '84.2%',\n",
       " 'of',\n",
       " 'respondents',\n",
       " 'use',\n",
       " 'python,',\n",
       " 'while',\n",
       " 'only',\n",
       " '25%',\n",
       " 'use',\n",
       " 'r.',\n",
       " 'since',\n",
       " 'these',\n",
       " 'add',\n",
       " 'up',\n",
       " 'to',\n",
       " 'more',\n",
       " 'than',\n",
       " '100%,',\n",
       " 'we',\n",
       " 'can',\n",
       " 'assume',\n",
       " 'that',\n",
       " 'some',\n",
       " 'data',\n",
       " 'scientists',\n",
       " 'are',\n",
       " 'using',\n",
       " 'both',\n",
       " 'languages.',\n",
       " 'finally,',\n",
       " \"let's\",\n",
       " 'look',\n",
       " 'at',\n",
       " 'these',\n",
       " 'two',\n",
       " 'languages',\n",
       " 'over',\n",
       " 'time.',\n",
       " 'we',\n",
       " 'can',\n",
       " 'see',\n",
       " 'here',\n",
       " 'from',\n",
       " '2020',\n",
       " 'to',\n",
       " '2021,',\n",
       " 'python',\n",
       " 'has',\n",
       " 'gained',\n",
       " 'an',\n",
       " 'adoption.',\n",
       " 'while',\n",
       " 'our',\n",
       " 'usage',\n",
       " 'has',\n",
       " 'seen',\n",
       " 'some',\n",
       " 'attrition,',\n",
       " 'to',\n",
       " 'me,',\n",
       " 'this',\n",
       " 'is',\n",
       " 'a',\n",
       " 'no',\n",
       " 'brainer.',\n",
       " 'i',\n",
       " 'recommended',\n",
       " 'my',\n",
       " 'friend',\n",
       " 'to',\n",
       " 'start',\n",
       " 'learning',\n",
       " 'python',\n",
       " 'first.',\n",
       " 'that',\n",
       " 'language',\n",
       " 'is',\n",
       " 'more',\n",
       " 'popular,',\n",
       " 'and',\n",
       " \"it's\",\n",
       " 'continuing',\n",
       " 'to',\n",
       " 'grow.',\n",
       " 'this',\n",
       " \"isn't\",\n",
       " 'to',\n",
       " 'say',\n",
       " 'r',\n",
       " 'is',\n",
       " 'bad.',\n",
       " \"it's\",\n",
       " 'just',\n",
       " 'to',\n",
       " 'say',\n",
       " 'that',\n",
       " 'i',\n",
       " 'think',\n",
       " 'python',\n",
       " 'is',\n",
       " 'growing',\n",
       " 'and',\n",
       " 'will',\n",
       " 'be',\n",
       " 'a',\n",
       " 'more',\n",
       " 'valuable',\n",
       " 'skill',\n",
       " 'to',\n",
       " 'have',\n",
       " 'for',\n",
       " 'the',\n",
       " 'job',\n",
       " 'market',\n",
       " 'in',\n",
       " 'general.',\n",
       " 'i',\n",
       " 'also',\n",
       " 'personally',\n",
       " 'find',\n",
       " 'it',\n",
       " 'a',\n",
       " 'bit',\n",
       " 'more',\n",
       " 'intuitive',\n",
       " 'and',\n",
       " 'flexible',\n",
       " 'than',\n",
       " 'our.',\n",
       " 'now',\n",
       " 'that',\n",
       " \"we've\",\n",
       " 'chosen',\n",
       " 'our',\n",
       " 'language',\n",
       " 'as',\n",
       " 'python,',\n",
       " 'what',\n",
       " 'coding',\n",
       " 'skills',\n",
       " 'should',\n",
       " 'my',\n",
       " 'friend',\n",
       " 'learn',\n",
       " 'first?',\n",
       " 'should',\n",
       " 'he',\n",
       " 'focus',\n",
       " 'on',\n",
       " 'variables?',\n",
       " 'logic',\n",
       " 'functions?',\n",
       " 'algorithms?',\n",
       " 'classes?',\n",
       " 'my',\n",
       " 'mind',\n",
       " 'was',\n",
       " 'absolutely',\n",
       " 'spinning',\n",
       " 'when',\n",
       " 'i',\n",
       " 'first',\n",
       " 'addressed',\n",
       " 'this.',\n",
       " 'it',\n",
       " 'took',\n",
       " 'me',\n",
       " 'a',\n",
       " 'second,',\n",
       " 'but',\n",
       " 'i',\n",
       " 'had',\n",
       " 'this',\n",
       " 'weird',\n",
       " 'chaotic',\n",
       " 'flashback',\n",
       " 'to',\n",
       " 'my',\n",
       " 'first',\n",
       " 'days',\n",
       " 'of',\n",
       " 'learning',\n",
       " 'programming',\n",
       " 'myself.',\n",
       " 'i',\n",
       " \"didn't\",\n",
       " 'even',\n",
       " 'know',\n",
       " 'where',\n",
       " 'to',\n",
       " 'start',\n",
       " 'with',\n",
       " 'getting',\n",
       " 'python',\n",
       " 'on',\n",
       " 'my',\n",
       " 'own',\n",
       " 'computer.',\n",
       " 'i',\n",
       " 'just',\n",
       " 'now',\n",
       " 'got',\n",
       " 'excited',\n",
       " 'about',\n",
       " 'teaching',\n",
       " 'the',\n",
       " 'functional',\n",
       " 'part',\n",
       " 'of',\n",
       " 'programming,',\n",
       " 'and',\n",
       " 'i',\n",
       " 'completely',\n",
       " 'forgot',\n",
       " 'about',\n",
       " 'the',\n",
       " 'basics',\n",
       " 'of',\n",
       " 'setting',\n",
       " 'up',\n",
       " 'your',\n",
       " 'environment',\n",
       " 'for',\n",
       " 'success.',\n",
       " 'the',\n",
       " 'next',\n",
       " 'thing',\n",
       " 'i',\n",
       " 'did',\n",
       " 'was',\n",
       " 'give',\n",
       " 'my',\n",
       " 'friend',\n",
       " 'some',\n",
       " 'of',\n",
       " 'my',\n",
       " 'favorite',\n",
       " 'resources',\n",
       " 'on',\n",
       " 'choosing',\n",
       " 'an',\n",
       " 'environment',\n",
       " 'and',\n",
       " 'getting',\n",
       " 'the',\n",
       " 'right',\n",
       " 'version',\n",
       " 'of',\n",
       " 'python',\n",
       " 'on',\n",
       " 'his',\n",
       " 'computer.',\n",
       " 'honestly,',\n",
       " 'i',\n",
       " 'was',\n",
       " 'a',\n",
       " 'bit',\n",
       " 'torn',\n",
       " 'on',\n",
       " 'this',\n",
       " 'too.',\n",
       " 'so,',\n",
       " 'for',\n",
       " 'example,',\n",
       " 'what',\n",
       " 'ide',\n",
       " 'should',\n",
       " 'have',\n",
       " 'used?',\n",
       " 'does',\n",
       " 'he',\n",
       " 'even',\n",
       " 'know',\n",
       " 'what',\n",
       " 'ide',\n",
       " 'stands',\n",
       " 'for?',\n",
       " 'for',\n",
       " 'those',\n",
       " 'who',\n",
       " \"don't\",\n",
       " 'know',\n",
       " 'and',\n",
       " 'who',\n",
       " 'are',\n",
       " 'new,',\n",
       " 'id',\n",
       " 'stands',\n",
       " 'for',\n",
       " 'integrated',\n",
       " 'development',\n",
       " 'environment.',\n",
       " 'so',\n",
       " 'this',\n",
       " 'is',\n",
       " 'essentially',\n",
       " 'just',\n",
       " 'a',\n",
       " 'text',\n",
       " 'editor',\n",
       " 'you',\n",
       " 'use',\n",
       " 'to',\n",
       " 'write',\n",
       " 'your',\n",
       " 'code.',\n",
       " 'if',\n",
       " 'you',\n",
       " 'were',\n",
       " 'writing',\n",
       " 'an',\n",
       " 'essay,',\n",
       " 'you',\n",
       " 'could',\n",
       " 'choose',\n",
       " 'to',\n",
       " 'use',\n",
       " 'microsoft',\n",
       " 'word.',\n",
       " 'you',\n",
       " 'could',\n",
       " 'use',\n",
       " 'google',\n",
       " 'docs,',\n",
       " 'you',\n",
       " 'could',\n",
       " 'use',\n",
       " 'notepad,',\n",
       " 'or',\n",
       " 'maybe',\n",
       " 'even',\n",
       " 'just',\n",
       " 'straight',\n",
       " 'up',\n",
       " 'pen',\n",
       " 'and',\n",
       " 'paper.',\n",
       " 'just',\n",
       " 'like',\n",
       " 'there',\n",
       " 'are',\n",
       " 'these',\n",
       " 'different',\n",
       " 'mediums',\n",
       " 'for',\n",
       " 'you',\n",
       " 'to',\n",
       " 'write',\n",
       " 'your',\n",
       " 'last',\n",
       " 'minute',\n",
       " 'paper.',\n",
       " 'data',\n",
       " 'scientists',\n",
       " 'and',\n",
       " 'software',\n",
       " 'engineers',\n",
       " 'need',\n",
       " 'places',\n",
       " 'to',\n",
       " 'write',\n",
       " 'their',\n",
       " 'code.',\n",
       " 'these',\n",
       " 'places',\n",
       " 'are',\n",
       " 'called',\n",
       " 'ids.',\n",
       " 'and',\n",
       " 'just',\n",
       " 'like',\n",
       " 'microsoft',\n",
       " 'word',\n",
       " 'has',\n",
       " 'spell',\n",
       " 'track',\n",
       " 'and',\n",
       " 'formatting',\n",
       " 'to',\n",
       " 'make',\n",
       " 'sure',\n",
       " 'that',\n",
       " 'you',\n",
       " \"don't\",\n",
       " 'make',\n",
       " 'grammatical',\n",
       " 'errors,',\n",
       " 'many',\n",
       " 'ideas',\n",
       " 'help',\n",
       " 'you',\n",
       " 'to',\n",
       " 'make',\n",
       " 'sure',\n",
       " 'that',\n",
       " 'you',\n",
       " 'have',\n",
       " 'proper',\n",
       " 'syntax',\n",
       " 'in',\n",
       " 'your',\n",
       " 'code.',\n",
       " 'in',\n",
       " 'theory,',\n",
       " 'technically,',\n",
       " 'microsoft',\n",
       " 'word',\n",
       " 'would',\n",
       " 'be',\n",
       " 'considered',\n",
       " 'an',\n",
       " 'idea,',\n",
       " 'but',\n",
       " 'i',\n",
       " 'definitely',\n",
       " \"don't\",\n",
       " 'recommend',\n",
       " 'using',\n",
       " 'it',\n",
       " 'as',\n",
       " 'such',\n",
       " 'unless',\n",
       " \"you're\",\n",
       " 'jump',\n",
       " 'ate.',\n",
       " 'this',\n",
       " 'is',\n",
       " 'a',\n",
       " 'list',\n",
       " 'of',\n",
       " 'the',\n",
       " 'most',\n",
       " 'commonly',\n",
       " 'used',\n",
       " 'ides',\n",
       " 'in',\n",
       " 'the',\n",
       " 'data',\n",
       " 'domain.',\n",
       " 'and',\n",
       " 'as',\n",
       " 'you',\n",
       " 'can',\n",
       " 'see,',\n",
       " 'common',\n",
       " 'ides',\n",
       " 'for',\n",
       " 'python',\n",
       " 'are',\n",
       " 'vs,',\n",
       " 'code,',\n",
       " 'jupyter,',\n",
       " 'notebook,',\n",
       " 'pycharm,',\n",
       " 'and',\n",
       " 'spider.',\n",
       " 'before',\n",
       " 'anything',\n",
       " 'else,',\n",
       " 'i',\n",
       " 'wanted',\n",
       " 'to',\n",
       " 'give',\n",
       " 'him',\n",
       " 'a',\n",
       " 'decent',\n",
       " 'understanding',\n",
       " 'about',\n",
       " 'how',\n",
       " 'the',\n",
       " 'development',\n",
       " 'environments',\n",
       " 'work',\n",
       " 'before',\n",
       " 'we',\n",
       " 'picked',\n",
       " 'one.',\n",
       " 'as',\n",
       " 'i',\n",
       " 'mentioned,',\n",
       " 'this',\n",
       " 'is',\n",
       " 'something',\n",
       " 'that',\n",
       " 'i',\n",
       " 'was',\n",
       " 'totally',\n",
       " 'confused',\n",
       " 'about',\n",
       " 'when',\n",
       " 'i',\n",
       " 'started.',\n",
       " 'when',\n",
       " 'i',\n",
       " 'learned',\n",
       " 'to',\n",
       " 'code,',\n",
       " 'i',\n",
       " 'was',\n",
       " 'using',\n",
       " 'python',\n",
       " 'and',\n",
       " 'i',\n",
       " 'was',\n",
       " 'using',\n",
       " 'an',\n",
       " 'ide',\n",
       " 'called',\n",
       " 'idle.',\n",
       " 'so',\n",
       " 'idle',\n",
       " 'is',\n",
       " 'great',\n",
       " 'for',\n",
       " 'learning,',\n",
       " 'but',\n",
       " \"i've\",\n",
       " 'literally',\n",
       " 'never',\n",
       " 'once',\n",
       " 'touched',\n",
       " 'it',\n",
       " 'since,',\n",
       " 'and',\n",
       " 'i',\n",
       " \"don't\",\n",
       " 'use',\n",
       " 'it',\n",
       " 'on',\n",
       " 'any',\n",
       " 'data',\n",
       " 'projects',\n",
       " 'in',\n",
       " 'any',\n",
       " 'of',\n",
       " 'my',\n",
       " 'work.',\n",
       " 'i',\n",
       " 'wanted',\n",
       " 'to',\n",
       " 'make',\n",
       " 'sure',\n",
       " 'that',\n",
       " 'my',\n",
       " 'friend',\n",
       " 'was',\n",
       " 'using',\n",
       " 'something',\n",
       " 'that',\n",
       " 'would',\n",
       " 'be',\n",
       " 'representative',\n",
       " 'of',\n",
       " 'what',\n",
       " 'he',\n",
       " 'might',\n",
       " 'see',\n",
       " 'in',\n",
       " 'the',\n",
       " 'real',\n",
       " 'world,',\n",
       " 'what',\n",
       " 'people',\n",
       " 'actually',\n",
       " 'use.',\n",
       " 'for',\n",
       " 'this',\n",
       " 'specific',\n",
       " 'friend,',\n",
       " 'i',\n",
       " 'recommended',\n",
       " 'that',\n",
       " 'he',\n",
       " 'started',\n",
       " 'learning',\n",
       " 'the',\n",
       " 'basics',\n",
       " 'with',\n",
       " 'this',\n",
       " 'video',\n",
       " 'from',\n",
       " 'precocamp.',\n",
       " \"i've\",\n",
       " 'linked',\n",
       " 'it',\n",
       " 'and',\n",
       " 'all',\n",
       " 'other',\n",
       " 'resources',\n",
       " 'in',\n",
       " 'the',\n",
       " 'description.',\n",
       " 'so',\n",
       " 'in',\n",
       " 'the',\n",
       " 'video,',\n",
       " 'they',\n",
       " 'show',\n",
       " 'you',\n",
       " 'how',\n",
       " 'to',\n",
       " 'set',\n",
       " 'up',\n",
       " 'the',\n",
       " 'pycharm',\n",
       " 'environment',\n",
       " 'and',\n",
       " 'get',\n",
       " 'comfortable',\n",
       " 'using',\n",
       " 'that.',\n",
       " 'i',\n",
       " 'think',\n",
       " 'pycharm',\n",
       " 'is',\n",
       " 'solid,',\n",
       " 'and',\n",
       " 'if',\n",
       " 'you',\n",
       " 'get',\n",
       " 'familiar',\n",
       " 'with',\n",
       " 'that,',\n",
       " 'you',\n",
       " 'can',\n",
       " 'easily',\n",
       " 'pick',\n",
       " 'up',\n",
       " 'the',\n",
       " 'scode,',\n",
       " 'a',\n",
       " 'jupiter',\n",
       " 'notebook,',\n",
       " 'or',\n",
       " 'spider',\n",
       " 'pretty',\n",
       " 'quickly.',\n",
       " 'truthfully,',\n",
       " 'i',\n",
       " \"don't\",\n",
       " 'think',\n",
       " 'that',\n",
       " 'the',\n",
       " 'idea',\n",
       " 'that',\n",
       " 'you',\n",
       " 'start',\n",
       " 'with',\n",
       " 'really',\n",
       " 'matters',\n",
       " ...]"
      ]
     },
     "execution_count": 99,
     "metadata": {},
     "output_type": "execute_result"
    }
   ],
   "source": [
    "transcript_lower = [item.lower() for item in str(transcript).split()]\n",
    "transcript_lower"
   ]
  },
  {
   "cell_type": "code",
   "execution_count": 100,
   "id": "a4a2a5bc-6eac-443b-855c-31c04aea6b4c",
   "metadata": {
    "collapsed": true,
    "jupyter": {
     "outputs_hidden": true
    },
    "tags": []
   },
   "outputs": [
    {
     "data": {
      "text/plain": [
       "\"i recently got an amazing opportunity. i've been learning jujitsu, and a friend offered to coach me in exchange for teaching him how to code. at this point in my life where i'm trying to improve my jiu jitsu as quickly as possible, this was an incredible trade for me. in my personal opinion, i was all for until i had to think about how i'd actually go about teaching someone how to code starting from nothing, i quickly realized that this was going to be a lot harder than i thought. after all, it's been almost ten years since i wrote my very first line of code. that's a pretty long time. now, this video is about the very specific and detailed plan that i wrote for my friend to teach me the basics of coding for data science. since i did all the work for him, i figured i might as well share the details with you as well. here. there have been plenty of other great videos similar to this about how to start coding, and i've linked many of them in the description. again, those are great, but i think this is a bit different because it's more focused on coding for data and it uses a very specific real world case study. at the end, i also highlight the three most important things a new programmer should know. so you definitely want to stick around for that. let's start with the language that we should start learning. i know if you're working with data, you generally have two good choices. they would either start with python or r. let's quickly compare the two languages data science style when looking at the stack overflow developer survey, we find that about 48% of respondents use python, while only about 5% user. in industry, python is a far more common language. let's now look more specifically a data scientist, not just all stack overflow users who come from a variety of backgrounds. on kaggle, my favorite platform for data science learning and projects, we can see that around 84.2% of respondents use python, while only 25% use r. since these add up to more than 100%, we can assume that some data scientists are using both languages. finally, let's look at these two languages over time. we can see here from 2020 to 2021, python has gained an adoption. while our usage has seen some attrition, to me, this is a no brainer. i recommended my friend to start learning python first. that language is more popular, and it's continuing to grow. this isn't to say r is bad. it's just to say that i think python is growing and will be a more valuable skill to have for the job market in general. i also personally find it a bit more intuitive and flexible than our. now that we've chosen our language as python, what coding skills should my friend learn first? should he focus on variables? logic functions? algorithms? classes? my mind was absolutely spinning when i first addressed this. it took me a second, but i had this weird chaotic flashback to my first days of learning programming myself. i didn't even know where to start with getting python on my own computer. i just now got excited about teaching the functional part of programming, and i completely forgot about the basics of setting up your environment for success. the next thing i did was give my friend some of my favorite resources on choosing an environment and getting the right version of python on his computer. honestly, i was a bit torn on this too. so, for example, what ide should have used? does he even know what ide stands for? for those who don't know and who are new, id stands for integrated development environment. so this is essentially just a text editor you use to write your code. if you were writing an essay, you could choose to use microsoft word. you could use google docs, you could use notepad, or maybe even just straight up pen and paper. just like there are these different mediums for you to write your last minute paper. data scientists and software engineers need places to write their code. these places are called ids. and just like microsoft word has spell track and formatting to make sure that you don't make grammatical errors, many ideas help you to make sure that you have proper syntax in your code. in theory, technically, microsoft word would be considered an idea, but i definitely don't recommend using it as such unless you're jump ate. this is a list of the most commonly used ides in the data domain. and as you can see, common ides for python are vs, code, jupyter, notebook, pycharm, and spider. before anything else, i wanted to give him a decent understanding about how the development environments work before we picked one. as i mentioned, this is something that i was totally confused about when i started. when i learned to code, i was using python and i was using an ide called idle. so idle is great for learning, but i've literally never once touched it since, and i don't use it on any data projects in any of my work. i wanted to make sure that my friend was using something that would be representative of what he might see in the real world, what people actually use. for this specific friend, i recommended that he started learning the basics with this video from precocamp. i've linked it and all other resources in the description. so in the video, they show you how to set up the pycharm environment and get comfortable using that. i think pycharm is solid, and if you get familiar with that, you can easily pick up the scode, a jupiter notebook, or spider pretty quickly. truthfully, i don't think that the idea that you start with really matters that much. what's more important is that you're using one that people who actually write python code into production are using. okay, now on to the coding basics. surprisingly, i think this might be one of the simplest parts of this entire process. you see, there's a common misconception that coding is trying to trick you. there's this conspiracy that learning to code is supposed to be really hard and very scary. i would argue that it's almost the opposite. coding languages, particularly python. they're designed to be as easy to use as possible while creating good results. so if you change your perspective to look at them as intuitive, coding becomes significantly more fun and stressfree. this isn't to say that you won't get stuck. it's just to say that when you do get stuck, there's almost always a logical reason for it and a logical solution to resolve your problems. keeping with this theme of simplicity, at the most basic level, beginner coding can be broken down into seven concepts. all the resources that i've linked in the description cover these topics, but i'm going to give you a very, very high level overview here. the first one we start with is data types. so in python, you can work with numbers, you can work with text, you can work with booleans, you can work with lists or a host of different data structures. it's important to get a good understanding or a fundamental understanding of these first. next, i think it makes sense to get familiar with how variables work. this can vary by language, so you need to make sure you know how to assign and change variables in python, specifically, after variables, you should look into how logical operators work. these are very handy in your first few projects. if held, statements are probably the most important one. but you can definitely find use cases for the others, especially if you're working with data. the fourth thing you need to understand is how loops work. so one thing computers are really great at is doing a simple task over and over again. you'd be surprised at how useful these can be for your programming future. after that, you should learn about functions. so this sets the foundation for almost everything you do on your programming journey. functions allow you to encapsulate code and reuse it. if you really think about it, good coding is about making as many reusable bits as possible, and these functions are where that really begins. at this point, you have a pretty good understanding of the key building blocks of python. you should now learn a bit more about how some of the basic data structures work. i recommend taking a deeper dive into lists, dictionaries, as well as tuples. this will set the foundation for much of your data work later on. finally, you should start learning to work with libraries. so the most important ones for data are pandas, numpy, scikitlearn, and matplotlib, and these give you additional tools to analyze, visualize and manipulate data. pandas and numpire also introduced some new data structures, like arrays, series, and data frames. so if you have an understanding of how the more basic data structures work in python, you should be able to pick these up relatively quickly. and that's it. with those seven things, you have the basics of coding that you'll need for starting to work with data. if you're watching this and you're a software engineer, you probably think i left something important out. what i've purposely omitted from this list is an explanation of classes. so classes are the foundation of object oriented programming, and object oriented programming is a programming model that organizes code around objects rather than functions or logic. object oriented programming is incredibly powerful, but honestly, it isn't very relevant for the beginner stages of working with data. it is something you should absolutely explore on your own after you've learned these other concepts. well, in the description, i've linked a few great resources for learning all of the concepts, including the exact one from free code camp that i gave my friend. most of them are completely free, but i have also included my discount link for the course on 365 data science. so if you're looking for a resource just to take you past the more basic coding and more towards tangible data science skills, i would recommend checking that out. one thing that i love about many of the courses that i've linked is that they have these little mini projects baked into the coursework. i think project based learning is the single most effective way to learn technical concepts. after first getting a basic foundation, i highly encourage you to think about how you can use code to build things that would be useful to you. so for my friend, the first project i'm having him do is create a jujitsu drill randomizer using python. so for training anything, it's important to reinforce your skills. but it can get boring working on the same basic drills every day. i'm having to make a program that essentially randomly selects two to three drills that we should work on during our sessions from a larger list. this is a simple project, but it's something that's directly relevant and useful to our work and our jujitsu training. with that in mind, i'd love for you to comment below with a python project that you'd like to do, and we'll all hold each other accountable. okay? so now that you've learned the basics of python, now what? if you're interested in learning more about data, i highly recommend that you do a datarelated project. the single best place for this is kaggle.com, which i've mentioned before. if that's a bit too intimidating, you can follow along on one of the projects that i've done or one of the thousands of projects that other people have worked on on the kaggle platform. realistically, many people lose steam at this step. they go through and see the great work that other people have done, and they get discouraged again. honestly, i remember feeling this too. what i recommend doing is going through some of the basic notebooks, like the titanic data set, and just copying the code, running it on your own computer, line by line. many people think that this is cheating, but it's actually a great way to learn. even better when you run it, make some changes to the code and see what happens. maybe you should try changing, like the colors on a graph from blue to red, or try to make a line thicker on one of the graphs. just simple things like that help you iterate and improve. so remember when we talked about ids earlier and i'd mentioned jupiter's notebook? kaggle uses something similar to that that lets you work online. this is great and free compute power if you have limited resources at home. so if you want to work with data on your laptop or desktop, i recommend downloading anaconda. anaconda is a software package that lumps together all of the relevant python libraries and ideas for data science in one go. so you can check out my video for how to install it, which i've linked above and in the description. finally, i have three tips to send you on your way. these are probably the most important things that a new coder can learn. so the first one is to use google and stack overflow. if you have a question, it's almost guaranteed that someone has asked it before on the internet, getting good at finding answers on your own via search might be the single most important skill of a data scientist or software engineer that they use every single day. the second is to use errors so your code will not run. it will break, and you'll be sad. don't just wallow in your self pity. read the error messages. they'll tell you something about what's wrong. also, google the errors, and this will save you a lot of time and headache. finally, the third thing is to take it easy on yourself. the only people that can't code are the ones that never tried or the ones that quit too early. thank you all so much for watching, and good luck on your data science and coding journey.\""
      ]
     },
     "execution_count": 100,
     "metadata": {},
     "output_type": "execute_result"
    }
   ],
   "source": [
    "all_words = ' '.join(transcript_lower) \n",
    "all_words"
   ]
  },
  {
   "cell_type": "code",
   "execution_count": 101,
   "id": "ee7b686c-cf97-4174-9929-ccce02ca5343",
   "metadata": {},
   "outputs": [
    {
     "data": {
      "application/vnd.plotly.v1+json": {
       "config": {
        "plotlyServerURL": "https://plot.ly"
       },
       "data": [
        {
         "hovertemplate": "x: %{x}<br>y: %{y}<br>color: [%{z[0]}, %{z[1]}, %{z[2]}]<extra></extra>",
         "name": "0",
         "source": "data:image/png;base64,iVBORw0KGgoAAAANSUhEUgAAAZAAAADICAIAAABJdyC1AACL0klEQVR4Xu2dd3zb1tX3DwAS3JsUtfe25b33ih0ntrOdvdM0aZKmedq0fdI2T9+2SUfapk3TJs3ee8cZ3nvbki1blqy9F4e4Fwjg/YM0CIJDpIYtJ/x+9AfuuZegQBI/3HvuuecCpEiRIsVFAsI1pEgRQebDDwvycpmiu6mp/7nnWfXfHUTlZWm33eZubBx87XVuXYoJAMo1pBgjqi7NvO7P07nW8WG838tx7Jj94CFn7Sm/ycSt+24hKi1FhULxpEncihQxuGTbQ+krShe/e+eKr++f9ferBVppwI4rRVN+c+myT3+w5MO7i++ej2AoACz/4oe4SgwAC165uepXawBAMyt35lNXsc43DCnBGi/Kl+vlegHXOj6M93vZ9u83fvjh4GuvOY4d59Z9t3A3NlIej7O6mluRIhYoknPllMM/en/31S9SBFl025yAecrjawmbZ88Nrx66913V1KzCW+cAgK1pUFak5UlwmqTlpWkAICvW2c4OsM8Xn5RgjQsoihTN03Ct48P5fK/vPO6Gsx2P/crw7nvcihSxaX/3uG/IRXr8g/tapAUaABDqZeoZOU0vHaC8ft+Qq/XNozlXVAGA7eygrEirqMywnO6l/BRfLpQV66zJCBaPa0gxHNPWZc2+Pk+XL8HFPIfJ23/WVvNlT92WvkDtnI15M67K1pfK+AJMqhH84fTlzAsfn/o1RdKB4+wq5YyrsvNnapSZIgQFU4fzxBc9+99oo6lgAwCYd1P+uscm/WH+FnWOeM0j5dlVSgQFQ5vzo/89YWh1QMLvlSLFuOIZtAcOKIJCeCgACHVSv8vnd/oCdq/BgavEKB+zNQzoFhRgItx6dgDFMUW5XlasbXphP3OqYUkJVnIsvqtozf+U956xHv2ok6ZBnSMunq8dbHUwgmVocxz7qBPF0A2PTza2O/e92sK8li1Gi+8sLF6oaz5grN/Rj/HRihX6S39WgYt5O/7TyLQJUL4sbcPjVS0HDAffbpeo8JLFOtuAJ1CV4HulSDGuRP7YPAN2nhjnSQR+pxcAhGlS35CLIkjb2YG8jTP4SlHf9rMIhikq03kSAaN3iZASrOSYui7TNeR7/sb9TP8FxRAeHhpZtx01tR018QTohscn242eYx93MVVsvvjDaZ+LJDxkoLjz+ab/+Wb5rGtyIgXrit9WvXn/0dYjQW83ggB97ueR4Hudf/CMDMWypcLiYkwup30+X2+f49hR+5GjoX/9HILcXOmMGcKiQp5Wi/D5tNvtGxx01pywHzxIk8EPhyEwWdn5m8dJl0u+cKF0zmy+TgcA/qEh18naoc2bA81QgSDvj0/6+vt7/vKUsKhIsWK5IDcXFQpJu8PT3GzZupUwGMLOC5B2x+2SKVOYYuC1rPogIzgzAEhnz5bNm4tnZKBCIafK09LS9+//cIzfATwGh/Fwe8m9C87+Zy9PjBfcMrt702kAcA/YeVIBT8x3dQ2hPDT315c6WozcF8clJVjJ4TD5dIWynKmqjmpzwEKRtM/NvbWGxWkO9pYDeB3+/rO2wrlaBEU4z6u6rf2MWgFE3vITDtn8edprrgEUpSmKtFoxiURYVCgsKpRMmzbw8iu038+0FOTlZj78cOCY9vlIqxWTyYQFBcKCAlF5+cBLLzEt2fBUKu0N1wcm8miCQPh8PD3d19PDacbX6aSzZ+tuuB4A/BYLjSA8pUI6a6a4anLvP/5JDIT5TVy1pyiHA5VI8XQ9X69nV0WS1Jm1118vmzuH9vvdTU2U2y3IzeVrtQDg6+nxtLR62trYjb9LnHpic/lDS5e8fxdFkH1bG1rfOBKwewZsNE0DgLPDLEqXD+4LDQsSISVYybH92bN3vDD3B2/Mbz1iqv60q25LP+FNWq0AgC/AZl6TU7o4TZsvEcn5fBEW6KYhCHAUqbfOGm6Y0IhKirXXXkuTpOnjjx1HjgZ6SaLSUt1NN4rKytTr15k+/Yxp7O3odBw75u3ucdXW+i0WAEAwTL50iXrdOnFlhbCoyNMS5des3XgdplQa3nnHdbqO8nhQgUBYVEg6nJxmCIbpbrjeUV1j/uIL0m4HAGFBQdodt2MymWrt2sHXXmM3dlRXO6qrAUA2b65240Z2VSSJn1lUUhJQq96n/+Hr6wu+9pZbJFOn+G0202efMS0vXraueIY57v32TO+3ZwLHhM1z6olgn5dN9S8+DxzQFL3j8ufCK4cnNUuYHF0nLf9Yv/vg2+2ZlYpr/zjt5ztWLr6rCEGTi78Vyvj3v79w3WOTKJI68GbbJ4/XvnH/kZ4YwuQaCuuLTXBUl68DBBn6+hv7wUPMmM7d2Gj+4gsAkC1YwBkWGd5517ZnT0CtAIAmSeuOnd7OLgAQ5uexWzLwMzL6n3vecew45fEAAOX1us7Uezs7ue0AvN3dhnfeCWgKAHja2ixbtwGAqLQkrF3yJHhmcdVkAHDW1gbUCgBokrRs2wYA4rIyBE3dfUmT6mEljX3Q89Uf67b8vWHypRlL7i5a8z/lUg3+zVP13HaxmX9LflqxbP/rrexXkX6K1eSihKdUCnJzAMBRU8Opcre0AgCCYYK8PPfZs5xaDoTRIMjNQYQibgUAALjqzjD3f3zsh49whtDe7m4AQIVChMdjD06TJcEz8xQKAPCbg96DAMEiimJymd8S/SmVIhbJCdbSZ9YBQNe25tYvGrh1ySDJlKkr0nCFgLD7XP12U91g5ETDBIfwkjWfd5/+tu/HXyydeU0uR7BokgYABIne80orkgJA3ZZ+xoJiiC4/GCKcLPHf63yCZ2YGDnL/7/HwmhCYNOwyERyXTp8uKi3h6/WYRIIIBAifj2AYAMS6IF93N9cUAyJC12hvcIIVwbDRCFaCZw4MVDGpjGkGAJhcDgBA05Q7+JIUiZOcYOlnZQGAz+IZsWApCtUzfrZINy2DbfQOuZs/qat/vYaa2L0MBAFlpmiox81YKIqmKTpSbUk/7TB6tfkSHo76fdyLCsQlKNKFcDJoWXJ3kUjBZ7dJnPjvdT5BRUIAAJqOOlkWgPKFRriM6wdo2tfb6+nooFxumvCJyssD039RYZ8hPoEx43iQ4JldZ87I5s+TTJtq2bKFGfYqliwBAE9LK+X1shunSITkBCuAJFvONSWGuly39Jl1fCnOsQtUokl3z8pcmLfrx5sIR6I/x/MPgiI/3byi57Sl94zNZvAIJLzSxWnqHHFkLAIA1H7Tu+DWgrtfnd+0fxDFUIkK//x3pwJVJzb1zL+1YN2vJ2sLpISHLJyjyZuhbj9uzp+pDj9HosR5r/MJ5fECANB095//Mux0JoLjaXfegUmlnuaWwbfeIm02pirtjjviCFYyDPM/jIKEzuw6c8Z1+rR48uSsnz/qqquj3B5BXq4gJ4dyu02ffsJtnSIBRiJY0iw5ACgK1Tkri9QVOqFWjGCod8g9VG/o2tFiro/+dEX56NzfroxUKwZVuW7BE6t3/2RTYj+GCwBN0XtfbS1ZoJ26LpMnxFxDPkOb4/2fNp7azB0gAMDWf5z1e6nJl2Ys/UGxz00ONIai4/rqbW89cHTlg2VL7ikiCaqjZuiFWw9kTVKMWLDivNf5JOhaQlE8K2vYgZuwsDAwPDS88w5brQAAk4eNoS5iaHrw9TfS77tPWFQomToVEIS02eyHDlm2bvMPDXEbp0iAkQgWLhMseurSzIXhkzgFqrQZmWU3T+3a3nL0j7v9LiKsFiB7aaEsVxE4Jpy+1s/rra1mnhhPm5GRtaQgMNGmn52Vs7Koa1uUyeyJAE3D5r/Vb/4b1x4Vwktu+UfDln9EHzs37jU07g1T9oEme/VnYTf5oXfaD73TzrbEIv57nTf8ZrO3u1uQna1csXzwjTe51eGgAhwAgKaZubYAfJ1WkJvLtlzUqDesFxYVGt5+x3H8OLcuRfKMRLAAgKtWLHJWFklzFDvv/8LvDtOsrCX5zPGen3xlqhsMHDd/dFo/K2vRX9diOAYAlXfMmLCClWJYzJ9/nn7//ZJp03QkZd2+3dffDwCoRMLXqMWVk2iKsmzZEmjp6+sHAEAQ2cIFtj17A0ZRSYlm43UTYQJhrJDNnQs07TebEQyLjN1PkSwjFKz4qEq10/9n4dEndoUZy7SBg6FGI6NWAQaO9Zx67vC0hxcAgKJQLctV2jst7AYpLiDSWTMFOTmoSIQKhYF5QEF2tv6eeyiPm/J4KLfH8s03NBV09ntaWg1vva274XrpzBnSmTMCt2hg1g8AHMerz50ViMFBx/Fq6cwZmiuvVCxZQtodPLUKk8m87e3mAwfV69cxLccb8aRJopISVCREhUJ+WhoA8NVq/Q/uodwe2uOmPB7L9h2UOzTTkhTOkyels2dnPPQgY6F9Pv/QkKvhrHX7dtLhYLVNMTwjFyzC4Wv68HTfgQ5nn53yUyKNWDcjs+zGqZJMGQAUXFZW/3qNozsUZiJQB8NqrC1hYSkBWj49U3nHDFwhBICMhbkpwZo4SKZNF1dWsC2oSMS2WDZvhnOCBQDOEye87e3yxYtEZeU8jRrBML/Z7DebXWfqnSfPTYsCAIDx3Xe9bW2yeXN5Wi0mlRJGk23PXuvu3cMujhlbxJUVsvnz2RYEx8UVoQu0HTg4MsHi6/WAoEBRgCDMnCCC43y9XqHXS6ZO6XnqryM78/eW5PreGw/8MHDgMbu33/uZszfMVwoAfAm+7Nn1gc5U/WvVp144ylRt3P/DwLudffvkyX8fYuwMc/9vRd6aEgBo/7rxyB92cqvHjV/8RPGbnwedawH+85L954+nfKIpRgWekZ758MM0SRreetvd2BgaDyIInp6uv+dunkpl+vQz297gcPg7gwhXLikP9Sht7r6DTS+z6kfFCBcH1D53OFKtAIBw+qr/GvwCtOHBVow2kr7oI3nT6eCqUXm+MqwiRYqLEPmSJQiOW3ftdtXXh3mvaNrX1+eqOwMAPLUqZE+RACMRLJqie3a1ca3nMNUNekwuAJDlhHVbGCLDLAM4eoIKKNJJwmtSpLj44CmUAEC5XNwKAADg67QAwInnSDEsIxEsn9VDnMslGBVnvx0AcLmAWxEX71BwMM8TjTDmO0WKiYOvrxcA5IsXBbSJAVMoNFdfJSoro/1+58ladlWKYUnO6e53+3kiXsxVXiEQAAjsk8EyDAN5Lk8LJkzuv0qRYgJi3bFTXFXFT0vL/t//JQxG0ulAEASTy3kqFQDQPp/h3fc466JTDEty0kDYvTwRD5cL+BI8TidLmikDAMIeWirFl8QMcGcIpPUCSHDZQ4oUExrS6ez9+9PyRQvFkybx09L4GjVNUZTL5WlucTc12Q8fTo0HR0BygmVrHxKlSRAUyV5W0PZV9CQh2iq9QCUCAFwh1E3LMJzog3B/FiYIRuVwwKXBISQn4jRF4ohFyHuv6gJ5lj781PX6u6kwnwsJ5fFYtm23bNvOrUgxUpLzYRlOBhfNTfnRXGadDRu+FJ/x6GKmOP/3q9TlOgRDSzZWMUaxPnoeFeaEHnN0P2WKYVk0X7hiiXDZIuGyRcKiwuSeRilSTHyS+023f9046a6ZCIYKVKJLXr2m+eO63v0dzh475SeFKpFuZlbZjVMkGbJAY8LhE2rEq165miIolB9SxrSZWSgPjcwkkz4vJ3Bga0/FQI2QFUuEXFOKFN8hkhMs14Cj5dMzxddOBgCeiF9+y7TyW6ZxGwEAwGB1b8MbNUv+cTkAMGrldxE0RQvVorJbptW/FlqlAQCKInXOisLAsfFUMCArRbKkBCvFd5vkhoQAcPLZQ8MKimvAceT3O/uPdNc8vT8UdUVDzdP7e/e1A0DVvbNn/XKJqlzHE/FxuSB3VfHSf1wenFWkoXtHK3OqFImjT8Mqy7+PESGl+CwBIuZaWfAQXIdlZ/AKxWiw+5/iIiW5HhYAkD5y90NfTn9kYcH68qibL/Qf6jr6x91ugxMAmj48bajpy15RiGJoz542U92grX0o79JSACjcUFG4IWyFWoCOLU2ugZSreCQsX/w97V7l8yuHyAEj6REiYgzhuSg7BaHIcgmqmCW8hFG0FuJkiy9sSWOKi4ikBQsASB957M97Gt4+mbOyUDslQ6QV80Q8r9U71GDo3NpsrO1nN7Y0myzNJqZoqhts/aKhcEM5q0kI14Dj5LNRlhmmSITv83iwEK+qQhbyEBwA/DTRStS2E3WBqhJ8Oh8RthC1JO3L5pUW8acOkQNmMuxXOjHhY8I0RblGmi8Vpon4cgzFaaB8frfLa7a4ugasDTb32F8FzpOkKyo1sgKZUIfzJCjCJ2nCRzicXrPV3WNytFud3fSFizwaiWAFcHRb61+vAajhVgxH9V/3YgIssM6ZjaXJdODXWwPLelKMgOXfY8FSoFqC9hrIboqmlJi2FJ9J0N4efzMAKFCdiexp8Z0AgD5/22Lx1Vm8kjiChSLYqsm/QJCgt6S+59tO07HwJiGWVTws4IeGmd3mmrrur1j1YczIv0EnLw4c95hPnO7eFF4fAudJivSLs9XTUSQsBggBVMiXCfkytTSvMG2RxdXT1LfD7OxgtxmWecV3KsRZgeMTHR8NWIN5H1EEK9IvydPOwdAwxwIPwXkCtVig1smLi/VLra6eQ82vshuMFaUZKwp0C9iWlsF9zf272JaRC9aIofzU4f+3o+XTMzkri2R5SgTANejoO9DVs7edJrlTh+eBUMDqxUxFGT9DHz3A7fuAjTId9WwmaT8AoIBOF67M5ZcHBEuAiNxUcJtVL+02kj0KNGytDAeKJh0eg0wUTHEjE6WF14cQ4Uq2WgGAUpzNLnJgzgkAVneUtNoBdPKSqpwNfCyYjikOSnHW7KJbO4xHz/ZtpemR3DtCfjCWCOdJZhbcIBeFJyyIRpz/fDSUZqws0IUl+Wnq39k6uJ9tgQsiWAGMtf2cweNYIREjl68Rr1wqnFzJz83myaQo4aetVqqlzX+sxvv1Vvf+Q6EQfADwjV2YalUlPmMqPnUyf3Ilrk/DFHJUIUcQBPF6abOF7B+gWtqIk6d9+w95q0/GXCcwAkRC5JoN8bzO48eFumQOPf7mgFoBAAVUj795siD0rKYgdDO7KLuWH+xfxMLq7mXERSqMmZwrUp4kQi0PE/jJsB9YAJwnFrLUzerqZVWGyNHMqMhaiySylu0cedrZEoG6pv0Dio6eByUOIlwBAHxMNKfoNolAw62OhsHWxDWNmrKMVfm6eWxLQ++WDuMRtiXABROs8UAqRX/6oPy+O6UyWdjsJ4+HiIRYuh5bOE/w8P3yxmbi909ZP/0yOPa02UbyaGJAEFiyULhhrejyNeLszOh9HB4PkUh4OVkwewZ+wzUSAOjs9r/8huP5V+xO10j6d5np2ORKvKqSXzUJr6rkFxfyzyX1DPE/D8j/54FE9zfKKu+2Jvw5XJBLjgNJ+1EI+zfQc9PfSMQ8uJ8mIo0cbO4+gOmBY5kw5v49KkkwcpABAUQhyjQ52jh2AJCxhI+iSYcnLOlugDR5aWXWZWwLDbTJ3jpgPev0Gn1+J4biAr5UIy3QK8qF/NCXq5UVTcm96kTHR6yXJoSQr0AQZFreNYxaUTRpcXYPubp8hNNPeTAUF+MquShdKclBEYykCLOjPewUo6Y885I87Vy2pa77625zWNgTw3dHsGbPwF97TpuXM/wVlRbz3/yv9utr3ff+2GSxUqahRG9UDhIJcstG6f13y4qTjynPzeb9v8eUP7xLds9Dpj37PdzqGCyYK/jVTxVVk3C1aphbbpw4/5ecCDbKlMsvG/R3umkHAOCIMI9fgQJWhE/zUA4AECAh754AFfvpYfp6Vldo1BO4Y12+KMHMynOCRZAePhZ8C6U4K7pgscaDDs9gZG8I50kmZYclhnZ4jKe7v+D2xdxgsDU19u0o0i8qSFvI9MX0ivJs9fRuc3I+ZREuL9AtUEvzAYCiyQ7j4bbBgwQZzJvCBkP5ekW5CFdG/uejoTxzdZ52DlOkafp09xe9Q6dYTcJI+mc3Mbl0leitF7VCQRId6csuEW37XH/ZdYNG0wi/gPde0Y0ykiAzHfvsHd2VNxkSvIFLi/hLF43qHUfJ+b/kRGglTs0UrlokvspF2SigJKgcBayFOJnPn4QBz0XZdVi2BFU4KasQEeuxXBs1TI4Eu2eAoknG4S0TpUUKFg8TSM91vrpMxxjtUEi448QAclE6c8zVIAAAqMy6DOeFxvVOr+lo6xs+f/Q5KIr2N/Xv8hD2yqy1jLE8c7XZ0R75r8ZBJtQHun4+v6um/QOLq5vb4hwkRcTRkZFRnrkmTzubKdI0Vdv5ab+1ntWEy4V5UI8tc2YKklWrAOWl/M/f1TmdIxyhvPi6g2tKHpyPvPeytjD/4nhyTMxLNpG9NZ4dDmpIgipkqMpNOU9597X4Th52f93gO3LUs3mIGlwg2rBIdNUi8VU4IuwkgvNisaBpij1ki+rGUoqzmd6N2dnp9ARjd5TnJuA4sIeEkX5riUCrV5QxRZqmT3R8FEutGLpMx9kigqH8grSwWbZhQRAUQVCapuKr1XhQkRWmVhRN1nR8GF+tYJQ9LKFGrJmUJtSI+VIcZWe/Go4z4etyRoNYhLz+vCZSrfx++Ha7+/1PnGcaiN5+ks8DnRYrKeStXS3asFasUgb/26pK/OVnE/I1RrLpW1dzq58zODpdTxw45Dl5mjhd7zOaKLOFokhaIUdLivkL5ghuvUGSm839zOVy9NePKu56IBStFov+QXLfwSgOXQDIy8VyssLO3N1LtncE/dDD4icTUu3zf8kJYiC7De7ugCeLiRp1UBYHZQGAOu+BcnyOGkt3U852os5AdrFeGh2rq5eZMpMJo0wUsj3udne/zd0rFWoBgI+JxAK1yxvWiUMRHtulbYvoYeVqZ7GLPUMnHZ7oGxJzaOrfma6sZDqDGcqqpv6dwyodh3bDofFTK5KK8iOsyLo0VxO6ZJIiato/NDmGX+LC/SUlSPaygvJbp6srYvoj4zOGgvWLRxScGxUAWtr8dz1gPH4izFVhHqLONhGbNrt//XvL73+tvOOmYNKIspIRLmehKHjmedszf1EDQPVJ3zsfOr/e4u7sjvL1OF1kbz+5e5/nL/+0/s8D8l8/quT4yK+9QvKHp6yt7VFey+bbbe5vt0XxLwDA479Q/vzhMBf7B586H3/CwraMnvN/yUnBDnBn46M9td49XGtcbKxOUNTIBsbj7iFsPr/L6urLVE0JWJTiLI5gSYU6JrCLpAiHN0yMEARlXhugJ2FXlIewGe0tafLSQBFDeZmqqnbD4fBW8aBoMup83Fjhp7iP2MqstTmamUzRT/mq294bcnaymsSEe6sPC4IiM3++JFao+nmmuJD30A/DAmEAoL3Tv2J9v8kc05U+ZKEe/Jm5t4987KfBIJQR8/YHzvJS/jsfOk+cGsaPG4Ak4alnbFY7/fcnVGw7isKlq0T/ecnONk5MvieXzPa7i3AVhvJJKhT/giAoE3tpdw8AgNUd6jQpxFkcdw/bgWV393NC/2TCNB6KM0UvYbe4elj1wzBgrWcECwDUkvykBMvsaPf6x2CkHwtOkEdl1mU5mhlM0U96jrW9a034epMWrEl3zZwgagUA990lw/lhg0G/H66/0xBHrRie/Ju1tJh/7RWjCl/y+ugRbAj2wqv2azeIF8wVsI2LFwgn7N3LZmJeshrLyOdXylEND4neX97mfJtriovDayApP4byAAABRCpMY99UMqGeCQcP9MXs7n6apgLdqMj4rPgho5z2bO1LBM7drozh9Y/F+A0GA5CsHtak7Muy1SG18vldx9veSWqBUXKCJdJJym8NxqcEsHdaTacHvENuiojeGx8/eDy49gru/jpvf+ioq080EvSx/ze04TIRR/LOD8+9YufcvVMmRb/TvjOM3yXrsOzpwhUAQANN0NwByMigacruGWA86LJwwVKxRCFwv1E0afcMBnpSMmEap0cmZ3vcIxxYcnFYfLnDY2QXh8XlG2LPaUZ1osUhQWfZiPGTwZ54Sfpytlp5/Y5jrW8n++7JCVbBujImuZXH5DryxK7+Q8P7L8eJ1ctFWg3X0//Xf9k4ljj09pObvnFffSFixCMn9TUXKLTqvDF+l1yAVwFAve9wD9HEDmofJTZ3b0iwwt1YSnEoZJTpIFhdvQHBQhBULspgO2WkrB4W2zsWAMfCfoFun4VdHBaapj2EVYyrGYuAJ0lcsAiS+72MLQEfVo5mZmHaQsboIWxHW99K/J9kSO4Xo5uWGTigKXrvz765gGoFAKtXiDiWU2d8bUk6cT/7Orn5lLHCZKY4keVSKcpL7vFxkTF+lyxDVUayp4s4O4ZqBeFuLHZQArBCRn1+l4cIPiNtrKEcO7hBjKsZF5Wf9Dq93LlRJug0AEkl5Bxkw/RiAiSyDpFhBG+XFH7SmyYvrci8lG2kado/IqFMTrCYPZl79rQPnU2u4zrmTJnMHVBs3p70R7D3wNiMIEaAOSLCXixO7uu46BivS6bBRY2NL4xN2EQhK7JBhCuYVYHs8R3bU65guaXYvbPI7hUA8MIFy5+8gnBEh3PC+Iz34n+pUDcl92okfG9AEa6Ynr+Rk4siEZL7ueCyoA/CUMMdh59nUBQmV4YmVgIcq05afQxGsn/gfHvfAvj93B/KBfClnV/G6ZLtlFmGhgZEY4XTY2SEgIcJGZFijwctrtAgw+kxMjNiSkmohyVjx7hHEyxOeqmkVj6fg/MS7ud8AclWTw/MXXBQirM5S5ESITnBYrTYY3aHVZx3igr4YhH3e21qTW48GKClbSSvSjFxaCFqlZgul1/BrRgdNNA29wBTlAiCUYcKcdAxAgAWZ2iKjQaameAT8KTM4mR27yzS4w4AnMERxgpxSBB2VASMv1tqZAw5O9sMB9mWTFUV27GVCFGULw4ek1OarQAA3oXenDkjnduZpChIPLCbTVePHyBs9mqUFObzJpXziwr5melYmg6TyxC5DBUKEZEQEQgQkRARCRGhCLkgs5PjxIW9ZD9NDPo7y/HZubwyMzXgoz10hDNrZGmRbe4+JkBUKtQGQrEV5yLgaZqyusNCCqyuHo20IHCsEGd4rDaAsHwPUYeEnMXGPCzpXyOGTWjBIkhPY9/2wMJsPibMVociDUrSlzu9JiaJ4LAkpzuOXntAsCSZwafHhUIh4/70HQ7K6xtJT9hi5f64R4BUil5xmeiyS0RLFgqZdT/fbSbOJc8VrQ0ciFG5GI3+yxyZYLE7RIGVNwggzBDP5u7nrDthxzTJRZkD1rMowhPiyoDF53dFnQH0EmFxm6Jz7RMEQVB2qhkA8Pmd7OKFxUNYDza9wvxLZ3q+EeFKRtYBoCrnCrfPkmA0VnKC1bO7LX1ONgBkLMg9/eJRbvV5hJPxCgCc7pGoFQDY7CN8YQB9GvbTB+W33ySViLka+l1lol3yKe8+rmmMYHeIpAIdAEiEWiZkNDLk0uJk+90zAUAi0DA+qajdKwCwuHrYS1UCb5Q4YlzN9l77Sc8IwgXGD5/fxRZQmqZOdHw8r/hOZnElhvKn519/qPlljnBHJTnB6trROuX+uXwprirTZi3J79nTzm1xvpBJuYLlGmlauEhPcOLcer3kL79TRarnd5gJeMl9/lauaYxwek1+0hsYo4kFaghfZDPk5Ib1EKTb5TMHQqICI0eJIDQbENWBBeGOMABQiDMQQBLf6IGTHyKpZT0XBD/pqW57b17JXUz4hZAvm5638WjrG1FXSrNJTrB8Vk/13/bN/b8VADDn18v3PPKVqW6Q2+i8ED5JCgBAJpZvIBJypJOETz6u/PF90QcgAOD3Q0sbcaaB6B8kTWbKaCLtDtrlopwu2umiXS560wdpGvUEuu0T4Xt4yTZ3v1qaBwA4T4KhfJkwJFiRPSwAsDh7AoLFw4QiXBGQuQCxelgun9lD2JhhHc6TKCU5CS4GBgC9opxdTPyFFxCXb6im/cNZhTczfUOFOHNyzhUnOz4Ob8glOcECgI7NTWK9dPK9s/lSfMXzVzR9VNfyaZ2908ptN844nFzH04gjetARve6RH8mj3roWKxXIYXDgsNdHxNPQESvsheLiveSkOiwcbO6+gGABgAhXMkFVbp/FS0QJ/rK6ejJVVYFjqUDHFqw4iwS7TNUl6cuYYrZ6eoK6I+QrNLJCpkjTVM9QLat+4jLk7Kzr/qoqZwNjSVdUOPVLmwd2s1pxSVqwEAzt3tUqy1XmX1aKYGjp9VWl11c5emzWZpPb6PK7CdrPlZJITr0wWv9XpONpxP4UhTxpxSor4f/fL5VcK8Azz9v+9A/bKJPET0wu3ksOrDTc4nyDW5EYbJUR4QomRiFq9wrC7VKhToyrAsdewh7HR9Ntri7SL0KR4P2YqarqMB5OxA9dmrGc7cAasDZEldGJSe9QrUSgYUc2FOkXO73GPksdq1UYyQnWmrc3yrIVzHJCBmmWXJoV5dkbi9ELlt3OvUNkUhTDRjK+Uyi4lzMsv3xEEbmm5OFfmF9+M+YvMpLIUe1E5uK9ZCxG/oYEsbEW6CjE2TgvuN6e43hisHsGSYoIOOalQp3onGBFDRll8PldHcYj7F35puVdc7j59fiJX3I0MzOUk5kiTVNthgOs+ouApv6dEoFarwjF0E3OWe/yWWIlnEnuXlUUqCLV6oIwYOAqE48HkZktEyFZr4pEjFxxOXet1mebXEndugCgTF4oLxQX9SXzYVSC5fINMXFSGcpKxh7pcQ9A0xTjq1JJcpj4+Mgsoxya+3fbPaE4VRGumlN0W+TGPAFQBCtOX1aRFbZAr2VwbyKdsonGqa7P2dMRKMKbnn8dJ1CDYSR3+ESgsZnw+mgBHvbILinityUfO1qeZMbRubMEkQGQz/w3uX64TIbyI04yYZmAl5zFK6aACswP5vBKudUs1FgwznPE2Nz9gbghJiOCn/RG3acrgMXVo5LkAgDTvYLhelgAQNFkbedn84rvZCLdxQL1nKLbTY7WAetZh8fg8ztRlCfgSTXSgnRlJeeWtri6Wwf3sS0XCyTlr2n/YF7JXcwVCXjSGQXXH25+PXJhdnKCdXrUQ7mxwu+HMw3E9ClhAb7Tp+BbdiS3ZkgkRPJzk/sQSou5AmexUkeTXMY4qZx7konMBLzkCsFcig4KVoVgHrd6TLG5+tiBjgBgdffE8eJbo7m3YsU0sHF4DNVt708vuJ691EYjLdRIQ271qNjc/dVt7433Mubxw+t3VLe9P7f4dkasZUL9lNwrT7R/yPmck7tXxzAX++g5edrHEaxLV4n+/I/k5ivnzBIkO0sYGdXd20cm+1NZNta7dUX+WMfQYTQBL/ms7xi7aCC7h8jQeIqNCtPrsFDuhBEQObs3FMOBFYAdPhrA7bNE3ewvErOz40jza1PzrmUHcMWn33LmdPeX7HyBFyN2z8DJzk+n529k4mzT5KUlGSsa+7azmyUnWBOK7bs9zEYSAWZOwzPTsd5+rnsrDlddnnT2vshAU7eHa4kPisIoUzNH4nBw/weZhKsyI2YCXnIXcZZdHPR39vib2RYGkiZGK1gsv3uAWB73AF6/w+2zBnaBDzDseJCN3TN4sOmFfN2CfO3c+OsK7e6BpoFd47F3/AXBYGs627u1PHM1YynQzXd6jD1DJxnLRSxYX292W20UOygBReGnD8l/+qshVqt4SKXoVeuTvosiE8an6ZKThqvWictLx3J8BABDFu5/lZ83Zl/uxLxkNnEyIxMw2q6Hh7Burv0D1xqXPQ3/4pqSgaT8LQN72g0H9YpyjbRQLkoX8uUYhtM06fO7XN4hi6t70NYYayotPoeaX+WaxhS3z5Lsx8XQYTwSfwufMftNn3+8PvqTL1133hzWybrjZunzrziaWhL6jT76Y3myU4QA0NPH7cHlZPES79nlZPH++oeQL3as6O7lzjbMm4VLxIhzpCuW2EzMS2Y45P7KRdu41nP4aV8cf9NEJrDZ8pjvt3xRk/TtOqF44VUHJ/BKgCMfvaGL9LlEsv5S0Y8jtghLhINHvZHRXvfemdCpMvTYh2/odFpubpzRc/i4j/NfSaXofXcl9F8Ny8S8ZAYbZfLTMR9RRrJnq/NNrjXFxcnwN/ZE5tQZ30tvcCfXiwp427/Qc/zxbHA+8pMfyd/4r3Zks+w2G3XkOHcA8vB9slXLhnEqr1kp2r8lfXLFuIyM7Haq+iR3DvjXjyquSN5JF8nEvOQU30NGcseOmLIbpyiKNABw5A87uXUjRS5HT+zNSNNxH+B+P3y91fXhZ666eqJvgEQQ0KjRglzeiiXCq9aL83JCY+EtO9yc/Sz+85I9/tZ7l68Wvf+ajmMkSXjhNfuLrzsam8Oe9jlZvGWLBHffJps1PaShTie996Dn0lVh75tV3s3ZpiEpNl4leeXfGq4V4Kst7nc+dFaf8JnMJEkCLkAUMkSpQPVpWLoey8niCYXIb/9o4b4snIl5ySm+b5xXwVrx/BXaKekA8MGC/3LrRsGyRcLP3kmLXDiSCJu3u2/5gbGvMYf98mEFCwA2f6JfOC/6DI7JTHX1+D0eWiFHtRo0cjREEPR1txvsDnr7F3q2fZR3L4bBwa0ZlcmHO3V2+yvncGfuI5mAl8ww5hupXnSgIpF08lRhfgGekcmTy1GBADAe7fNRXo9/aIgwDnp7etwtTb7B6MEfwyLMzZdMrhLm5fM1WlQkBor02x2kzepuaXKdrfd0dnBfMD6M6C4fKXxJzGHaaNi1z3P3g8aX/qVJdoh38Ij3th8a3R76bBMxKclhyy33Gnd/rY+6GEijRjXqmFfq9tC3/MC4bZeHxwO7nRrDxFIkCTfcZdj9dXoiLrwRMAEvOcB4bKQ6egp++yQqDA6ZnWdO97/xSnh9dFQrLlGvXssUO596kjAZWfVRwCQS9erLZLPmIBj3OYEIhahQyFMohfkFslkAAH6rxVFz3HbkEGE2cRrHQlRYpLlsgyA7fJEQhvHVar5aLcwvUK1c7eloM331paezPazNOBDlxzd+8KUxf9Oj5OMvXAYT9cqzmnQ99zuLxbsfOR961Ozx0gBw4pQvWcEyGMnLrh188wVtHGdZJK3t/tt+aDxxygcAfj/sPuBdtyZsiDRKWtv9668ffPO/2oL8sf9mJ+Ylw7htpHpRIMjKzrjzXkwaNlceB55CqVy20tvXm5BgIYh69WWqZSuGjUIW5hVk3f+Q6duvLLt3cOvGlDF+1sVnnHpYAfbs98xa1vfM87ZhJ/JP1xPX3mb4wY9NAbUCgJparrs6Edo7/as2DPzhKWtkmFIkQxbqib9a56/qC9y6AXbs8bCajA0nTvnmr+7/53O2xIdakTOAsZiYlzxOG6lOfHgqdea9P4pUK9JhJ4wGwmyi3FHC60mnw3m6lmuNhu7qjarlKzlqRXm9hMnkHxqiifCZWQTRrF2nuWx9mHGsGUY4x5br9t2LoAiMtQ+Lg0yGblgrWr5YWFWJ52RhEglK+GmLhWpp8x+t9m7a7D50dIxHDSIhctlq0eIFwtkz8DQdplKiPAzxeCijmers8tfWEfsOerbu9Ixsj4wRIxYhl60WzZ0lmDENz0zHlHI08FG4XLTRRPb1k81t/rNNRE2tr+akL9nI9Ql1ySvFN/X4mxt88QIOzz/nYUiYcecPxGUVTNHT1mrZs9Pd0kz5Qr9wVCwWpGeKCotEpeXCnFxAEMuenaavv2QaxEK5eJnm8g1MkfJ6rPv2OE7WhLxgKCrMzlEsWCydOp0tagPvvOGoPcEUkwUFNM6DZ+wHDrHgifgBtRpv7Hbq7Q+cb3/g5FaMA7iEf8fHayiSfv2abz/+wsWtvqC43PRHn7s++nxc/iu3h/74C9cEueRx2kh1gsOTy8WloeTIjpM1A++9Fdo69ByUy+VubXa3NsO2zTyFUjptRiLdK74uTb3mMqboGxzoe/VF/5CZ1QSAojydHZ7ODmfdqbQbbmE8aLprNrpbm0mHI6wxAACk8wv7iVaulQUfEUyTrDzq+JpbcY4oQ0KBUqgq0zKbPI8VscaDFcqlHAuG8Atls8oUi9SCUS0BOw8MN7Qfe2TpYr7o/D1mLgpaiVMqLG3MN1Kd4Ahy8ti/P/OWbyLVioPfarHs3hGny8agu/Ja5NzEOeV2973yAletWDhOnRzasZUpogKhYsESVn2IKZKlWl7Mm1qEyubK1qt5GdwKFtyffvG1k6c/PB/BUNJHHv3Drs5tYQtK139+C7uYFLG6V1niCgRQGV9jJwxNtkME5Z2iXi3EZC7/0Ezt+lrzlgF3C/c1Ewavg3jh0k1c67iB8dE7P1v79f8eat45kkVk3yWK8KnMMU1TJrJvPDZSnchgsrCVBkRsQUkWXJ8hKipmiuZtm/2WYaJ8LLt3KBctRUXB6RTF/IVDO7bQfu5yMQBkmmTlMec3Fj83m5iSp58uWYUjQhsZT0+5glV5xwwEQwEAw7EpD8zlCJZIF8wPO4bwUFzMUwx6WlWCrErl8pPmb7XC3L39b3lIe4a4rEA2YyIL1nkmc5qWL0x0GvS7TRE/JFgMY76R6kSG4/Pma7SEgasCI0MxP5RknfL57EcPsSqjQ/v9jtMn5bODiclQkUiQk+tp447+zrj2TRIvniFZfcTxlYMMiWA6v7BKvARFMAPRedIVL6qcK1gYHrofYg3ixhaSJqpNX1I02W6vWZx+GwBgCN9HuQDA4GmrjBgwfp/JX5DONX1fGb/NUy8WfANh2ZC1l23of/MVmuJ2LUeAuHISc+xpbaZ8Cc2he7u64JxgAYCooDBSsLp9jSjCqxDNnyW59LBjk5uyA0ChcGqJcBYAdHnr690H469U5wpW55bmoqsrA8cdW85Hnh2C8iCAApAIgvJRAR8VAkDAQlJ+Zh8RDoVLMq96ZtHXvzo8UGde/PCUnFlpKB81NFqOvtrAGS6pC2R3frp27zO1R15pmHJN4bTri1V5Mr+XNDZbtz9ZbWy2Mi3lmZJ591TkLUiXaIRem6/rmOHQi2fYDQIE3ppjfP3azZEtcQl/zp3lJSuzFVkSv5fsO2U6+lpD55Eoj8HsGbpp1xdnTtOK1QK/l3Qa3N01xiOv1Fu7nQBQsChjxo0lujKlRCsEgCueDj0AAeDpmR9SF2j7rAvI+G2eerHg7ekmzGa+OjjbIK6ozLz/IdOXn48yepMnV/DkCqaYeAg7xzWG66O7ojq9Z1DAykRzZkkvPer4ulg4IwsvBYBG95E27ylu6wi4cnD8b3u797RJM+WOHuvA0ZiOkm13feI2JzdDJNKIV718NdcKYPB0zNVdY/Z2KwUZLr91kf5mgvKmiQr6XI06YZ7Lz1UBNiXLs1b8YrrH6us8MiCQ8nNmp13x9MItvzt26hPur1miFS17dNq064p7agymVpsqV5o1Tes0hmKCMqZorvnPEoGU33/a3FtjlKaJSi/JLl6e9eWjB1p297LOBANnzF//7yG+hI+LeXwxb8o1hVJdlEhIiVa48aXl6nyZpcvRuqdXpBLkzknLn5++9YnjtR+FDXIX3Ddp/n2TAGCwYainxiCQ8tPKVZPW5+/7Z3A2hyKowUbLYKOlaEmGpkjRtL17qDM0BTOcpzXFdxSaHtr2bdrGmxiDMCcv60c/drc2W/fvddbXwYh6W4LcPHaRMCUQXwoAAJQnLOYLE8d0H7V7T2EIViycuVh+HQoYRZOnXLv7iTZuu2hwBQtoGDjSPexyI2urmfQlHG4IAAB+Z/QEIPWW3fnS6Qpcb/b2tNqOiXgykvbP0V1ToVzKQ/Ba8xbuC1iUrMo+9vrZPf+spSkaAHLnpF37/NLlj05r3tHjtoQFW5WtzvE6iFeu/MbWGwx3kOpETBueAFv/1AKBhP/lowcat3YHjBlVmuv+u/SyJ+e9dvU39oHQl+E0euq/6WSKBQvTowrWmt/OVufLDr9Uv/8/pwP/nr5SdcOrK1b+cnrHof5A1wkAipZmzr9vksfm+/yR/d3HDQEjgiKaIrnbGuyKdxwe6Dg8AAAyvUhTpDizqSPldE8BAPbqY8K8Avnc+WyjqLBYVFjst1ntx4/ajx5OKKKdBV8VFiCiv/EW/Y0jmWpDxfHShLR4TqCAFQqnAcAJ13YD0cVtEYMoYQ3DQnr8yaoVABAuX9TBKUWTrfZjNaavGq0H/LTPTphcfuu+/rdOmL7Z0/9GvzvesNRrJ/b+61RADgCg88hg0/ZuvohXupo7dSrRCrf94TijVgDgMIQ0qGxNjkwvatzWxagVAPSdMh17sxGX8KbfWMIYE0RTKC9YlDHU6WDUCgAGzgyd/rwN5aGTryhgWs66vQwA9jx9klErAKAp2tgUr2uZgk0xPl2FpXGt59DzcvW8XK71u4Lh0w+Nn3/CjhQNwJMrVMtX5T76WMZd94rLg06eREBF8YQmcZioiFg0eY43uo8CgI4XvkoxLsOcNCpe64hWV9BAuHwJOvL9tM/sDWlHLAYbhqjwjaY7jw6WXpKTPkl9EsKGXT4n0XUsivMoQM7sNABo2x/mxQSAtn19839YmTs3LMFAIgRe0nVskFGrAAEZ0leoAkWeAMucoqEpumFzok+YFJEU8qtImhgio3+/OixXiWoH/KFO8XcM68F9zrpa1apLZTNnc9c/I4i4tFxcWu7t7TFv/cZVfyasNhqoKBidP3oWyqK4gAKQ4PfThJ/2eShXtqBcxQubTdpv/4RdZHMeBQuAcEQXLBwVyfgaHhoWqppINANn3AcALqMHAMRq7odu7YkX+C5NEwGAvZ/rlQtY5OlJP3Nk6WIAmHJ14ZSrC7l1AAJ58EMQqwQoD3UaPYQrMmIlxdjgp71CNKY/5buB32YzfPLB0I6tioWL5bPmMvFQDILMrIzb73HWnTJ8+mHUGHQGBAvTBMJkjBZONTyE0SDFgg/mYUm85UgEy2cZqWA5o8yPpotKqtSXoICSdNjnkohgRQlGDcT+RjiiqYh9XyJBIuPWIwwJEjjTYMOQIdrIztJ17hcT+f+nGGt4CE7RI3E/XxAQXnJZQ9j4LUOmr74wb/lGOmWafM58YV4+p4FkUhWekdX30nNxHFuUO+yxPfj+24lPFHLA8KR9KcOSnGB9uPhFgChykCCEI4pglSoWNNsOt9ur48dfRCWyJyXVCQHAZeb2vOJj73MBgFTPfS7J9GIAsEX0vIbFMeAGgL5T5m1PHOfWsXCbPTRFi9UCvhAjPEm7Bb/noBAa/iCAsosBUARVoXo9L89JRXlsTExQQZQhSFLQBGE/ftR+/CiuT1csWiqbPpPtTuKr1em33tn97NN0jBwdpCvs147Gnuwblh5fPAf0yEhOsGhyVE+qvkNdnohgCCEm7XbWjUCtACCtXMm51QPeqP665JYpdBwamHxlQeHijNOfhc2tFi7OAICuaJFT8QlM6uXO1aM8lONlY0N4yIEzQ+mT1cUrs+u/Gv455veQAMATcO/M7yerJDczx8X4tGJ8WqgunDZi+ACfCQIq5D41R4xvoN/w8ftD2zZr1q6TTpvB2PGMTNmsObbDB1ltQ5AOO7vIVyU6WDs/jGSWcMTUv1Z94LGtBx7byjbaiEElnsG2JA5fxFv26HQUCw6s8ubqi5dnEW4/e7IvERq3dQ912EtWZJetCU1YpE9Wz7i5lPCQNe+HrU9KBGOztXlXjypXuuLn09n6gvHR4mVZAlmo23/sjbMAsPxn09InhU0nq/Nl7GYBAmPJgkUj/Li+Yxx0f9noO24i+wDAR3uclI3zZ6fMA/6O456tF8bjzh6IRHobYsDXxZzuHBl+q2XgvbdMmz5nG9n6xcHT0c4uCrIn1gRrcj2s8aDdfmKK+pIeV72DMLHdWH2uRlar6HQfN1Sszc1fkD5QP4SLeblz0hAU2fnUiUhnfHwoP/XFzw5c999l6/48f9ZtZUOdDqlWmD1TR1P0148dZgdDJM7m/zsqe040dWNRycqswbMWn5OQpok0RQqBlP/iZV957cGotLNbujKqNDNvLb35rVV9p03WbqdAxlfmSFV5sjev3zJ41sI+Z92X7XPurqhcl6cplJvbbTwhTyDlf3jvLnab7w92ashODbUTdSvEN3QQZ9qI09wWFxTK52Wc36ggsdwnKIrrk56STgTLvt2SqinCvIJAUcjJd8yCMBpIu51ZWS0qLgEEGbEXKA4ogiExOkxk7E3bLrxgVSqX0jSVKSqD8L5wIoJl7XVue7J68UNVubPTMBztrzMfebmheddIgiqNTdY3r98y9wcVhUsy08qUHhvRtL37yCsNA/VD3KaJ4bH63r1jx9Rri8ovzc2cqsX4qNPk6T1hbNrR42SFgAHArr+daD/YP3VjUWaVRl+h8rn8jkH38bcabX3c4bPT6Hn/rp2LHqrSV6h0pQqP1Tfify9Z5Ctm6n54JVMkBsydP346VH1BsVHJeQDOD5TbDQpl4Jiv1oTVxUBUUIgKuG7ZscLd3MQIFsLHEQyL5cZyNTbIZs4OHPMUSnFpuetsfXiTkSPFlMXCmRpeJg+J6a3bbHmZazrHhResHX0vcU0Jw8MxU4v1s5/s41awMLfZ/zbtA641Gg6De/uT1dufrOZWJEDUJxDpo6rfaap+Z3jXY/uB/vYD3CiwqBgaLZ8+tJdr/X7T7W+cOHtPMBAmI54eHLzzlCqeSh0npVQA2cw5XNPYgeAhgaC83lhqBQCWfbsZwQIA9eq17qazY7KsWoIq5ko3xNrZKBEuvGBFRSfMN3jaudYJiUgpAADCPZJYlRRjQr+/nWuaAHg6OySTqpiiYv7C+ImJhbl5sukzudaxAkHYyZTj5/Dz9fW6GhuYdKaCrGzN5RuMX34W1mhEFAqn8RC+j3a3eE7YSGOc/bpjEX0MecGZpFrBNU1ISlZlK3OkTqPH1jcSP1eK7zCuhjPsomLRUlFJKdvCRpCVnX77PYn75gEg/ZY7lIuXYhIptyISBNFcth5PC3nHnHXDTJsaP/+Y8oTCLRULl6RtvCnOeuYACIaJyyr0N93Gzt3MJpBNtMa5vdN7xuIfdJBDUf+4L2MxQXtY/PCo94nD4h9PKViUbut1+dx+RZYkc4oGAHb//eSIojLGF1QilK+YBQA0QVi/PcytTjHO+Ab63c2NouKgSCEomnHHD6z7dtsOHyDM58aGKCrMyZPNmCWbPRdBUQAgnY6ENAgA16dLJk/RrF3v6ep0NTZ4Otp9A32kPSwoAZPJRMWligWLhDl5jJFyu2PFNDAQJtPgR++l33IHY5HNmCWpnGyvPupqOksMDpIuJ9A0igtQiYSv0eJpacK8AmFBEYrjAOA4WcO8kI0AFRG01+If4FYkDFewpvxoLscyHtT+5/Ai/S00UPsH3lmVeR+3GgAbxSh3XDG32YqWZuTM1vFFPK+daN/ff+yNs4Goq4mGeEqx5pY1AEC5PCnBuiAYv/ws+8GfIPyg8wjBMOXSFcqlK0ink3K7EBzHxBJ2VCdhNg+89Wr2j3/KWIYHRYV5+UxQO+XzUm437fMBhmESSRQXPk0bPv2QE2wVFefpWsMnH2ivvDagpACACoWKBYsVCxaHN0wCgvZR4QtakoUrWOW3TONYxoPa/xw+Y9kZOEYRrMb0dXg9TNdcxrFwaN3Tm6ArfWyp+7K97st2rnVCIqoq4ppSnF98A/0D77+jv+EWTuoCTCLBJNzhld8y1PfKfwmjgXQ4IrcaTBAUF6B4zNEJ7fcPfvRe4ntw2Y4cIsxm/Y23Rv63I8PqN2j52Tgi8tFhE+WJc8F8WGZvj9nbAwAE5TF42jh/fjrKIp4USSGeUsw1pTjvOE/X9vz3WW/vMKE2jpM13f96mjAaAMDblVCY69COrb7+Pq41BjRFOU/Xdv39T44TyU2Cu5sbO//yxND2LZEZbKLi7e4yfPaRuyl6TFK7txYBpFw0FxnpMl1uD2u8IZw+e4eFbTk4GKWjlEgQVoo48NPVPJ2Sa01xIfB2dXY/8zdRSamkvFKYV8BTKFCRGBCEcrsJo8Hd2mKvOcbeP6Lv9YQCfew1x+01x/m6NFFhkSA7h6/S8FRqVCRE+XyEx6f9BOXx+u02X1+vt7vTcao2kWFgVCivx7z1W8vunaLiYnFphSArG5NKUYkUwTDa56M8bsJk8hkGvV0d7uZGv83GfT0Ls7//lGtPlXiJBFN0+87aySGSjrLXbhy/O1ewap+L7eyggfJTPpvHa/GU3zxNNz0YY0L6SEuj0d5h8Vo8hJugCJIn4uNygSxHqSrT4vJgB7VrW8uJZw+6B7mzaR4yyudYb9nNNaVIBlGqezXBcDc1xup3jAbCMEgYBmE4J/rooXxe55k655k6bkUyLJRdLcYUACDHtJUiLbf6HEkEjja8eYJj4YCgyMyfLw6olbPPfvrFYz272/zu6PEUCIro52RX/XCOqkybs6rI2WePJ4gpxg5xyoGVYuKReN6rWHAFa1hKNlYVbqgAAFPdwJ6ffB01xRUDTdH9h7oGjvYseOKSrCX55bdOc/TYWr8YszD/FNFBUdGkKIkDU6S4sGyzvsE1JUlygiVKk1T9cDYAkD7y0OPb46sVA01SR5/clTbjJr4Un/bwgt79HR5TaJVciXy+2dtt8nYBQKFsVpF8jttvPWH+1kHEzDE2HvAztdIFVaKKfH6WDpOKAEUoh4foM7obOhwHTvk6Elo3MyFAEPG0ElQSMZ89toQ7HjClVDq/SjSpAM/WYUoZKuBTbh/pcPkNFnd9u7u22dPYFfaCEcHTKSWzK0UVefwsHU8tRwV82k+SdjfRZ/Sc7XQeq/e29nJfMwowlUw6b/J4X9T3ijirmhMkOV99+S3TAoFa3btaOVlihmXOr5fnX1YKACefPXT2nZOMfVnGnSdM31h8/QpcP093Xe3QFiWeIeWpjho/Y9qMCcr1iwJxSQDgN1o7Hvhr4JinlmtuXyudOylOnLGrttn42tdEj4FbEY7y8gWa29YyRcrpab/vL7RvJF9S2gPXyJZMY4relp7ux54PVbNAhTieq8fzMwR56XheOp6rH1kSOOvXB42vc+NLGDiLn73tfd2/+A8AYDKx+oZLZMunc7OJh+Np7DS/u9V9pp1bkRiCgkz1xhXi6aVxviMA8Lb1mt/b7jqRqKuIfVGUy9N215OBRaGYTKy+8RLZsvG9qBQjILkeVubCYLys4UTSPQ7zmcGAYGUtyWcLFo6Knf4hAMiXTu91NfS5Gk2eriXptzMNxgOeVoEpJKTVKSzPS//ZTZhMzG0RjnhKcc4f7x987hPHwdPcOha23TXqGy9B+MFPFZUIpXMr7XtDF5sgCM6XzA6t/AIA267os9G5/3yEr1fFv43HA8rtBQBBfkb6z2/maRTc6giEpbmZv7nT9NZmy1cHuHXxQVHNjauU6xclco2CgsyM/73Vsa/W8OLnlCeh7j8DKhby0zVEn1FQmJn+6M08tZzbIoKkLgpXCMvunJ02N0+UJgUEfBaP5ezgkce+jlwjUXb3nOIbpp38y67urYkq73cGHoLzEdxNObgV50guDkuSEcyS4zUnHffFbF3BnCQAQXlwVCTAJHpRUYezNmBEkOT+sREgKMwSFmdnPHbbsGoVABHw9Q9vlC6cwq1gQTnczsNhK8hkK0aynFUyqxwVhcL/aMLv2B/8ZDjw09WJ3MljDuXy8LN0Gb++IxG1CoKimtvWypP5QBCcn/GLW5QbFid1jdJFU7J+9wNMkXTspaAoE89Oy/z1HYmoVZDELgrB0AXPXFlwzRRxhszZZ7M1m2iK4on5kWoFAPr5+ZiQr5sdM2XVeCPLU+Wsjb4YcLwpFE5dIr+ea2WRXA9LoBIFDrDks/RiwuB7CZTBkwTocTXM1F4BAEZvp803CABSvtpLxpTYsUIyq1w8vYwZPVFur/t0q7elh7Q5gaYxtVxUkS+aVBB2qyBI2v1X+boGfJ0x1+LYth+VLgqJmqgin69XEwPD5BXhwD4DADiPnKGcI9z4Y5xAMDT9JxvZWu83WFw1jcTgEGl1IAI+T6sUVxUJirJYLwIA0N5xuftMG9GfwAeCIOmPXC+ext3IwG+0OqvP+geHSKsDFQt5KpmoqkhQmMn+pvC89Mxf39Hz+IuBnmCCiKuKVVcuQSWh3+dYXZR2Zpa8UEN6iN33fOjoCAYZIVj0p/LAwXZpjrJvbxu34nyRf3VVxuLCrm8auBXjDw+G8WYkJ1g+u1eoFgGAPD/p6Ul5njJwwHHVN1kPOAgThvB7XcEPiIcKWu3H2G3GA/mqYMYfmiQtX+yzfLqH8ob9Y0MA/HR12kPXCYuzGSPC52nvWtf725hxIu4z7USvkZ95LsYEQWQrZprfTcLfh0pFnLvUtjP6eBAAOh78G9cEIJpcmHbfVUyRcnu7Hn2WVR+d5O7tacE1vQBADJiNr3wV6Tkyv7tVVJGf9uC1PG2oF4YI+Mp1iwwvfcFqGB3lZfPFM8rYFr/Ranj5S1f1WbYRAODdrfx0te7uDaIpoWAOPFevvWvd4L8/ZrUbBtmy6czx2F6UNEcFAOZT/YxaQewdEs6+fOTsy0e41vPIBezcDZsqK7rGx8I1GOz45KwqwvAkOlkoH8tdFfwxuQbCek800L2uhi7nKWYGYdDd2u0MG1iNIxQ1+MyH5ve2cdQqANFv7n38RffpVrZRVJEvXRDKcxSJbXuY2sqWTodzy0cTQTp/MtvX6zdaOf8AG7/BEvlHWsOjc2k6sk3kH+VIepgPAJ7m7u5f/Cfyxg7grm/v+c0LpD00KQwA0iVT2QPeqOBZOvWNl7At3va+rkefjaJWABD4pp54zfLFXrZRtmSadN4ktiVBxvyieCIeAPhdUX5jEw1xukyao+Razxdx0pAGSK6HNXCoS12uAwCxXjrtJwuOP7U36iA8kmkPzROnB11XA0e62VV6UfQQx0T2JRw91m8POQ7FC96lSar/6fdy//5jtk9EuX6R48ApVqsw7Ltr1DesYlzvPJVMPK0k1p0WiWzRVHbRvqs6ej7TCQA5ZO978vX4XTO/2WZ669u0+69mLKgAF5bkuGrjbe2hvmk18wECAGl19D35BuUaZlxsensLT6tkP060d65zHmug/TGza0YyVhclSpNO/9VKoVYq1El4Ij4AZCwt2rD3AabBvgc+MdeGFgMue/V6efG5jjlA/X8PNr0Vs2e95vM7KR+59bo3+DJB2Z2z0xcXCjViwuGzNRnr/rPf1hIKCUL5WPYlpTmXlUsyFbhS6LN5PQaHsbq7d0ez5Wxo1ltRoiu6YZqiWCvNUwKAUCdh/6sAsGnl85QviY8RAKZJVqbxc/t8LadcewKWOHtBBxChYQ7uSJITrM6tzeW3TQ9sX1p0ZaVIIz7xr0OObiu3HQtxumzaj+dlLwvGMdIU3bG5id2gShV6kKIIhiIYDZTVN3AeBIv2EuaPd3GtEVAOt2XTAc3NqxmLoDCTn6WLFeVA2l3OI2fY7nn5ipkJChZPqxCW5YbKNG3fXRMqTjBM72xJxLnm2H9Ke9tl7NAwQWk8weLplJKZYYNB8wc7SGtCbk3Tm99KZpYjguDIAlNKpQuq7HtOhDWKyxheFGH3Enavvc0kyVHKCzUeg3PoTGh63Re+g3rL+yekeWpcKUybkytKG37GQKCVCNTiRf++Wpwpd3QMOTqGJNkK3Zwc4i+hfhyCofP/vkEzLZOmaEeXxWNyitKkyvI0ZXkaysPYgsWX4pgAc3QNea1u7fQs0usfPNTB1AIAUEk/NTW8LATQNH4+QFCwzneku7VtqOWTuuJrJweKmYvzMxbmGU/1DxzptrVb3AYn6fHTFM0T8YUakbxAlTYzK216Btu52Pp5vbU1zDe5rTcsvEjEk1colgTiSMcb18mmBMdBtq1H1NevRHihkZps4RTzB9tZTcKwbTvGFizxjDJMIU3klpMumsp2HrvPtBODIa/HhIK0OBKM2KAJv6epi+2YwzNCXYlIFKvnsD8Ecshu23GcVR8Pv9lm23lccek8xqJYOz9xwRrDi3IPOo7++tvAcdGN0yf9aMHQmX7GEknXt8FH2szfrs5ayZ1qiATlofP+us7abNz3wCdeswsAUBxLm53jHrAzbfTzcjXTMl19tv0PfOo2BH9+Ip00Y2nhwKFOphkAGGt6jDU9AKCekrHo31cTNm+cfzVBTjp3aPiZJqKXbXSQlg7vabaFTZ5gshRTcq0skhMsAKh97rCiWKOblhEoIiiim5qhmxosxsdY23/y2UNcazhuv63eumee7roOR0K/m9HgPJ5QrwcAKLfX09AhmhzsJwKAsCI/VB2B+0wb2/WOYKhs6XSOhyUqsvD5QfvORG/U84/j0OnEx6q+7kH2vY1KQx2TSCSzKthF59F6SGYHBMfB02zBEhRmJj5RO34XNR4gCHL8t1sY5z3lI/v3t7MbCNRiALC1mBi1AgC3wdH6UfQombHF6O82+sP8PwDgpIa6fTHvOy0/J75gJeEMDuB3+/f+9OvunTHdwLHo2dO+55GvYy2TDoOmeegwvrcxIakFNxzPtyAvnV2MhNMpkC+fwS5GBc9Nx3P0TJFyex3hUV0TCnddEvPuHPcTKg6FDnBAJSJ+hoZtcSY2mmbwnO2knGEd57BRdlzG6aLGiY5NZ2JNNQYwn+6nKVq/IL/k1pk8yfm4p4bFR8V1Dg6XCC9pwQIAv9t/4Fdb9/1is7khuhOHg6XJdOCxLft/uTmqWmWIS9l/2ZJJUzVrh7xh3chxgaZ9MZxQUeE0RiXC+Amn7LuqaSKUDZafqRWW57HqoyBbHNa9cuw/NbJlPecHX9cA1xQb2heWGJc9uOYgLMnhhInGiXqLDk37ugbZhsQFa5wuapxwhKeWi8TeZq5//iDQdMW989Z8dsf0X63SzshKcj3eWDJAtA+R8XoJwwpW0kNCht697b172xWF6owFuaoyrbxQjctwvkSAIEA4fT6b19YxZK439B/qsjSF5iwiqVAsYRf9tM/qGzhr3c82jgeU05OUHBB93Kvg69V+g4VjZCDtLufRevaMlXzFTE9DuCOTDYJIF1w040GgqDhxkqMBzw31MQGAcnv9pnizOlHxdQ+yHw+C/IRcFuN3UeMEGa6YUWl+t2bgQHvxzTMyVxTnXFqWc2mZvdVc95/9g4fDfFjnhxPOmG7fAGZ/L4rE0/2RC1YAa6uZ40RPltFspDoayOHmyDmQNq7LHBUP47OwbTvKFizpvMnGV7+KNV8uKs9jxyL6egyeZu74f+JAeXyJ+3qSApOGDazIoZALOXH84a9CE1t9NX4XdWGxdwzVPLn99D/3Zl1SWnB1laxQPe+p9dV/2Nq9JXqg2QVkkOgcJOIp6UiGhN8Nhg3q4UB7uN2xOIGCAdx1bUSfkSkiAr50YUi/OEg54Vexo9snApR7mK77iOEkxkl2DXMAOvxVHBGMxfhd1ESAcPraPzu98/Z3m9+uBgTK75nLbXEx8P0VrGTjSigfwXn8DitYEMX1PpNdZEB4GDsmmyapxGfiLwi0f/jByMjg9FujrkAYFk43FhULE1k+PX4XNYGgof2z0wAg0suiOrMorx8A+DI8au0F5/srWAgvyWtHkIgf/fCSZ99Vww6zFhRnc3w0AcTTSlFWL8BV05hI0NZ3k/CnAsL9zBOD86rv4kAvEfKvmJSztpwvDT1ZMSGv6IbpAGBrMUX9/Tq6LJSfwoT8vPUjWdWUOCiCYQg/6h+3KYvR+rAuXhA8uVle9FzwNAPliu6NYkPanM4jZ8Jc78tnRubJk4bPD9pjZL/6PkCGR5kjwuS+pgBo+KtIp2eCa1b64kJFqZYvwXkSXF2VAQBZq0olWQrCRfgdXvOpfsOxkYRSqyal56wtBxq8Qy63wYnxMXGmHBPySI//9D+jRwX6XUT7p6cKr5s69dFlxTdO99k8fAnOkwq2XPkqt+mIkGLKYuFMDS8zzrLBJDahGBk8EU9VqhOoRLhCADT4bF7vkHuo0Rg1jmGCwKzeSJDI9rHc5xxs24+Fud4XTzW9vZnd7UJFAgkrLQFpdbqqJ5w39LzBWXswsuypHJlLZKnNhSX3svL0RQVsi7xIIy8KxqO1f143MsFq+7iWJinVpHSRXqYo0dJ+yjVgNx7vbnn/hDP2irq6Z/e7Dc7cteWSbIVIL/UOuYfq4sUiJI4EVcyVbhg2JUMcRiVYKB8ruLws//JSdbkuMrkPTVJDjaaObxvbNjX43RPOO4BJRYAgiT94I5O6Jei2d9e1EX0mJhgSk4klsyvYmUslcyoRPPQV2veeoMmQnH3fIO1OdpGnlif1NQXgpBWkHGGZFc4/Le/WtLxbw7WyOPK/3E53fDZfkVB/x3LWcOLPO7nW4aApeth/eGQUCqfxEL6Pdrd4TthIoz/5FO8jF6ysxfkzf75YqIk5YYxgqLpCp67QTbpn1olnDrZ/lVy88niD8Hk8tcxvsnErYsBPDwu/BgCiNzQDGA+atu04zl47LVs6nS1YnCymE3x+cLzhbCSBCPg8rSJOvFtU8Ow0dtHbPjYdhHGFn56m/+m9qERCORzdP3+CW/2dQM3LAIAa53aLP4kAXTbcblGCTPnR3IV/XhNHrdjgMsGcXy2b86tlgTQPEwe+nqtBccCzdOwiaXdxgn3iYN9VzR4DiqYUM8lqMLmEvUTR29zt6w6L0v6+4W3p4XQwBXmJhX0yoCieHfZleZpGMp46zxD9g92P/sH0xofciu8QAlRE0N4RqxWMTLAm3T2z/JZpHKPb4DSfGRw40j1wrMd8ZpC9kVeA/MvLpj+ykGO8sAy7VoYNW1YgyXWIpM3pPFrPFBEMZbxakjkV7NF0rM0mvj/QhN/bFsoSBQDi8FQzwyKqyOPERlwUgvV9gKB9o9zpK+khYcb8nEl3z2KK5npDyyd1Pfs6OMl9AECgFGYuzi++qlJVHnzcFV8zyXCyr2tbS3jDC4Z4esnQJ7u41migEpGgJIdtSWqVLASi3ucH0/IAgHTeJOs3BwFAMruSMdI+wrH/FFMcMXR47BLbQXZR4Nh/ip2WWjKr3PgylngSPsm80OcMAL4eQ6zMZRcFgoJcxRWrBXnZgGFEd5/53c98XcFRc/ZfHze/+5l81WI8L4scsg59+q3r2EkAQPg89fVXCCeXYRIxIsApj8d54Lj5vc8DLxl6/wvn0ROBM+T883emV993naiL9S5xTgUA8jVLZcsXYhKxr7PH/MGXvo5h1mZY/QYtPxtHRD46obROkSTXw0JQZOqD84MFGk786+C2ez5p++pspFoBgNfiafuyYds9n5589hAT8VH1wzlosgFQ44awJIfj7IiFYs1czqyCY/9JdnFY3HVhmxQIy3IxhRQV4uyOm/PImQQd+fHhTIohPAyTS9iWCY5953F2gDsml8hXz2HVx4OnkctZqdkBwPbtIXbxooN0ulxHTvT9/h+9v/ozYTBpbruWXau55WrrNzu6H/2Dfc9h7Z0bMZkEAAIS1vt/f+165P/cZxqdh2sYiYlFrHeJcyrpojnSBbMN/3m9+5dPuk836H9yDyod5mfW7q1FACkXzUVGGpaanHZkzM+VF6gCx6dfPtb4bm3U2DM2NEWffefk6ZeOBorSLHnGgkSXzo87CKK+cRXXGAEmlyguOyfTAADgaewiBobYluGhaduOY6EigoinFIkmF7KX+MfZbCIpIlcLiyrDpswnOJTby4lEU129LHKWNiqa29aye5SU2zvB1wwMi3/Q6DhwzG+2kHaHY88hfnYGOyzWcfC4u7aecrpsW3YDivKzMgAAz8/xNLbSXh/tJz31TXhmeuh0MYj1LnFOJV+z1PrVNl9nD+V0Wb/ZCQDiqnKmFgCkmIrz56U9je6jGXjRPNmGHEG5kqeXRbSJn5U0uSFhxsKg1rgNzoY3T4TVxaXhrROFGyrEeikAZMzP7dnTzm1xgZDMqlBdvXTok93cinMgGKb/yfWcvQsTScUXiX1Xtfr6lcwGE8LKAna6CL/BkuwwMxak3UX0GPisWQLlhkXOo8PkTppQmD/cIZk7iaeSBYqYTJzx2G09v305foZYzc2rpeHjQfM7W0a2GnHigMmkistXCMtLEKEAQREEw9hxHkTPOV8qTdM+AhUKAIAYMAhLChEej6YoYXGBrzvMJxiVWO8S61QID+OnabX33KS956bQSTRhWhMng7sc01aKtFzrOcYscFQzObispGdvO0Uk6lMAAIqgeva0l1w3GVgnmSCor1/Fz9Ca3vqWu9kMAF+vTvtx2DZfAOCubWF70BOHtDqdR+uZO0qQlw6saVP77ppko43i4KxpVLIES1CUlfajawwvfD6ypXnnH8rhNvznk4zHbmN6E3iOPuepB42vfuU8Wh/5QfH1Ku1d6znbo7lONlu3HGFbLkZ0999GuT0D/3iJtFgFRXnpv3iAXRs1RZLt6x3CR4qzn/o15fJ427ssn2/mtjgHwg/2RmO9S8xTIQgADD7ziudsc9ACMTcuG0OSEyzRuTgGa0vSKWWYlwR2NrzguE+1CMtyA8MH2ZJp0oVV7ro2z9lO0uKg/SRPLRdW5Imrijir0iivz/DqJrYlKWzbjoUEq4DVt6fpsZ0ftH59QLF2Hnu7MOmiKaKpxc7Ddd6OfsrlQVAUFeKoVIwppDy1jKdVWL7cH2croPOPq7Z56PO9qiuXMBaeWp7+0xv9JpvreENgc1NUJMCUMtHkQmFJNueb8ptshuc+YVsuRhA+T1CUF9ARAODrw8I1YoFpVDyVoufXf6Gc3Ml62uNFzi0e4GnVAY9EnHeJdSqa8PsNJjw7w326gW1ns836Btc0apITLL4suIoyqpc9PoQjuJCFOcmFxdvRb9t2VP/wxsCmgQiGiacUi6cUc9uxoElq8F8fJRovGg336VZiwMzXqwGAvVmhu64t2djI+PhNNvMHOzThW/thMjGzfWwknPV3EwHzu1sRHqZcFxYNw9PIh/XB+43W3j+8lnig3ISFJvyk3SEsK/I2tfKzMuRrl3NbRIP2EQjOz3n6twBAe33uukbjq+8F5o697Z3SxXM89U0AoL5+QyBZfpx3iXMqy6Zt6us3+PoGvE1tqEQsqihxHK5mz1CPMoIhKskJFmH3BnarZ6//ThC+NHg/EI4JMSrBFFLHoTqaej/tgWsSuVcpt3fw2Y+dx0YyGAwRiHoP1xEYO3c7G8tne/hapfySmAp1UWB681uix6C547LEFxW6apsHn/34okt3obl9o2hKBSoWIhiW88zvabfH+Mp7nrMtplffV994pXz1UqK33/T6h/r/uZf7ynBQoSD90fvMb3/iqq0HisJkUt39t8mXL7R+uxMAhj76WnP7dZm//Snl8Vi/2cnM60V9l/inch6qRnFcde3lPK2acrq9zW2Og8dZ/8i4kJxgeczugGAx+84nDrO7vcfM7aZeEAJ+dOeRM92d/drbL+Psis7BVdNofO2rMcmfa99Zrd64gj1Yo1we55EzrCZjhuGlLzyNneobVnHW1l1c2HYcd51qUW9cKV04JXLJKhtf9+DQx7sm1MA2cUyvf8A1AQCAu66x59d/YYqdP3qMOe7+2e+YYwDoevhxABCWFQHGcx49GTD6zRZiwIBKgs4c0mId/OdLzEvsO/YHDqK+C56XHedUAGDfc8i+57xGjSQnWOb6QUWRGgCyluaf/PchOuEceAiGZi0pCBybTg+GV14YmMyWRL+5789v4dlp0vmThZX5eKYOlYoAAcrpIXqN7oYOx/7apPdBiA1pdTiPNrDT9TkOjONmE/Y9Jxz7a8UzywOOHp5KjkqEgKKUy0M53aTDTfQYvR19vvY+b0swHDEqth3HE98cMBLLl/ssX+7jWhPGb7AM/vtj01ubpfMmiSYX4jlpmEqOCvg04SftLqLP5GnsclWfTTai/cJe1DjhN5hQkVA0tdJ9qgHFcdGUCvHUSYPPvsptlwBjeKoApaLZLtLe7Yvu9kIBzRVMclIWAxHze0xOsPoPdxesKwcASaa85LrJje8n+igrvb5Kkhmcou7d3xFeeWFg93EAwNc9aP5wB9syfnC6CeMxHmRDk5TzyJlx6sSdT0irw7r5sHXzYW5FChZ+s8X48ruqKy/V3Xsz7SOIfoPx1fc8Z0eyvGQMTxWgQDDF7O+PJVgUUCWimXbSPGaC1buvw21winQSAJj60Hyfw5dIDoaiqyqn/Ghu4Njeaek70Ble//2Csw+7r3vQO4E3m0hxMeI6Xus6Xsu1jogxPFUi+CiPGI0XIRzPIxAJ6fXXvRwM10ZQZM6vli19Zl3W0gJMEEX4eCJezsqi5f/ZMPPRxUyehpP/OnQegjUmMorVc9nzg9/zZDIpUrChgYqf3i+K0MSn9cuGtFlZuauC0//6WVn6WVk0Rds7LW6Di3D6EAR4Ylysl0qz5Zx8MvWvVU+Q8eCFAsH58hUzmSJN+O27a1j1KVJ8f+EhfAEqJul4EelJCxbQcOT3u/hinL0kEEEReb6KmQeMSuN7tadeCK4o/N6iWDOXvdmEY18taZ8Qc6YpUowTAlTMR0JRUDyEF3W1II4ICwRTUMAsZLxJueQFC4AiyL2PflN+87RJ98zC8DDXdVS8Fs/xp/Z272zlVnzPwJRS1VWhuG2gactXB0LFFCkmDAu2/Jw5thxrO/PYh6zK5CgUTM0VVDJFOaaNs8YQADq8dVwTi5EIFgAADQ1vnWjb1FB8zeTcS4pluVHCfGiKtjQa274627bpLOn1c6u/ZyAYpn/oOlQS6l7Z99X6usYsWiJFiolJm/eknRzS8jPVvEx2VysSJ2lp8Z4YJOJ5jUYqWAAA4LV46l4+VvfyMYFKpC7XCZRCvkwANO2zeT1ml7neMEGC2i84PI0i7f6r2KmvKI/P/P42VpMUKb6beChXt6+h29eAArpSebvVbzjujLIYm6JJGoafjhuVYDF4h9x9B7/XwQoBMLlEfd0KwjBEOT2Ul0B4KE8lFxRni6cWI/ywj9r09uaxXTyYIsUEhwLKQQ7RQI9mjeHYCFaKAIiAP+y6XABw7Dtpu/jTnqRIkSx20iSKG2Y1LCnBOt84j9UPPvcp15oixfeAVs9JHA0uiRsZKcE6f1Bu79Cnuy1f7IvMP5cixfcBF2VzUTauNRlSgjWWUC6PbcdxPFPL06lQsQAV8CkvQdpdvo5+9+kW+56TY7LHRIoU31uSFixpltzRMyqNvFCch7X1lNNj+O9nXGuKFCnGiOQEC+Wjl7x6jdvobP2yoeObRq8l0f7C3MeXp83MAgBbh2X3jzdxq1OkSJEiAZITLN30TL4U50vxaQ/Nl+epjv1pN7dFDAwn+vMuLQUAkU6iKFKPICV8UmhXr8P16b1vhhKVpYgPgiJ501Uli3T5szTyNIFEhQOCOExe24Cn5ZCxYddAX31C3WqpVvDLXasCx4fead/0ZDBqGUGRsiVplSv1WZOVygwRX4z5nH6XlRhotLcfN5/4ots5NJKQPalWUL40rXRJmjZPItUIBDK+2+pzmn3dpy3N+wxn9wz63PEWpqW46EhOsLRVoV3JunYkkRan/3AowU36nOzxFqwUSVG6WLf6kfL0Uu58szpbrM4W589Ur3ygtOWQ8Zun6vvPJiRbAXSF0sBB7lTVlb+bklYULAYQyvhCGV+dLa5YoV/149L9r7fteLaRSjglpEjBX35fydwb8zFe2AJ7qUYg1Qj0JbKZV+U4TN5d/20+8l5H4qdNEISHSssyFFNz5VU5uEbKl4t4ciFN0ZSHIKwuT5/V3WWy1/faTncTZu5WTPFBeKi8Kkc9r1hansFXSXCVGFDUb3d7uodsp7tNe886W+IttRsWUa5Gu7RcOTMf18pwtYTyUz6j3dnYbz7YbNrfSPuDoZs0ScVP7hoLYZZKu6RMXpUjytHwlWIEQwmbi7C4nE0DQ0daLcfaSPdInkwMyQmWqlwbOCC9fkPN8JudMbgGHK4BR2BfQk2VHt7lNkhxQUAxZMPjVbOuyeFWRFA0T/vAh4u+/kv9wbcS3TwxrVAKAJMuSd/41AyOrHDgC7Bl9xZnVSrefOAoRQ4vLlmTFLc9N0eiHibLu1QjWPfYpLIlae/9rNrrGJvFYSjO0182JWvjPFwbpr8AgACgOI8nF4lyNKo5hQAANNjre9v+vc3RdG73wDggkLZqcu5dS3AN98y4WoqrpfIpOdk3zbfVdrX/d2dCJwyHrxAV/GiVdnkF24jxMFG2WpSt1q6o9A7a2v69zXywGQD8Di9fkdzuVqIcTd4PlqrnFXPsgX9eUpiWtqbKb3N3v3uo/4vqpDYJZJOcYEkzgw/hoQZjsm9paxsKCJY0O8rCw1jIZ8wW5uTj2jRcl9b33uvaNev5KnXvmy97ejqF2XmaVZcKsnIQFPP29xo2feLt6+G+HkBcVJJx8139H7zlbKgDANXi5cp5i1GR2Nvbbfj6M29vN/cF3xswHnLzv2aXLg7bOYoi6cEWu8PkQ1FEqhXoCiRMjiAERS7/ZaU8TbD579EzRnKQpQkLZms2/mU6o1Z+H2VocTjMXoyHqrJFqqxQdnAAKFmkW/Xjsi1PD3PywjmaW56dhYvDfrpDPS5Lr5twkyIFnlYsFUhCtSWLdHe/Mu/FWw8S3uR+sZHIyjPKHr8S1wZz5w4PAtKydK9x+M17+Apx+f+7WlaZya2IQD4lp+pft3a9trf7vSSSqYsLdJP+fD1fGfaBcxCkycv/39Xdbx/ofH2f3+pKSrD0l00t+NFKFB9GT3hyUf4Pl2tXVNT/5uNk+54BhnkDDkJt8IJtHZawigRw9ga/NrEuuFFHgsimTO9+8VnVomWZt9zT88YLsinTlfMX9X/0Dul22WurBz59n/b7tZeu1191fed//s55rTAnL+PGOwc+eS+gVvKZc+Uz5vS+9bLfalHMnpd1xw87/vEn0jWSD+47wCU/KWerlcPk3f5s46lv+zz20MoJiQqfuj5rxf0lQlkwrdriu4oGmx01XyQk9Lc/PwfjowAw1OPe9kxD/Y4BtlNJmy9Z8z8VFStCG+suvK3g4FttdkNwR7hIZGnCG/42g1Er0k8ffKvt0Nvtlj430wbFkJKFutWPlOtLgsqSWalY/+tJn/xmVJkzdasmFT1yKcofPj0JG/PBZmJomB+YIE1e+aeNomw1twKAdPkQHsoRAgRFcu9agutkrf/ayrbHQpipnPTHjVHUiqb9Ti8mFrDz1mXfvIDy+n1DTlGuhtU0Htk3zc+9YzHXCkB5/RTh50mEEN69lpakT/nnrad/+o53MAkPQ4DkBIsnDP5qR7IvoTM4duWJ42UUjIQwGb39va6WJkF2rqezna9UK2bPBwDCZCBMhkAb69GD2Xc/wN7Cm/b7BemZmbfeM7jpE8fpkwGjavEK847NgY6Yefd25aLlkrJKW833MUtX4VzNwttDi7EHmuwv33XIFeH5dg75DrzRVrel/+7X5qmzg7/49b+Z3HliyNQ5zH0IADwBCgDtx81v3H/U5+IOyoztzncePnbNk9Omrc8KWDA+OvPqnF3/bQ5vGOLaJ6aKVcGRoM/lf/2+ox3VXH8oRdJn9wy2HjHd+u/ZhXODd92Mq3JqPu9pO2YKb5soylkFJY9ezrnxfEa7+VCL9USHz2AnrG4ERXgyoShHLS1NV0zPE+VoAGDgm+BvLxYozqt44jq2WlEEOfDVCePuBmfTAOXzAwBPKlRMz01bXaWaW8Q0S18/3dtv7flwuDVeCFL6v+v5alYvgaYHvj458E2ts2WQJilAEGGGQjW3KOu6OYHOY+6diwPvmwiaxWUctRo63DLw9UnbqW6/wwMACIpIivWaRaXpV8zARMHvTqCXl/5qw+mfvsN4zRIkOcGiz8kBgsVzSUSF2WKHk4Y08/GfB3aa9fX09j35NLsqAOXxAABN+imXCwBokgwsJMYkUvWyS8RFJahACAiCYBiCIMx/iOJ45m33OOpq7SeOBSwIhuEabfrGW9I33hI8NQBPGSWX2LiDoto7bhJPLieMZuMrbxH9o3Kjjozl95cwOyV7nf7Xf3gkUq0YrP3uN+478tCnSwLdJVyELfth8ce/GuZWDOAwed96IIpaBaBp2PTE6cqVeqbTVDBbE0uwCmZpiuYHvagA8Pn/OxWpVgyEh/zwlzWPfLWMOfPSe4tGJli4Vlbyi3VstSLdvs5X9/RvOkn7ucNMe33v4JbTACDK0agXlliOtXMacMj7wTJxXqgv4+42Nzz+ibs77Lr8Do9pb6Npb6N6YUnpL9ej5zKS59652FLT4WyOl6RIv3aKtCyDKVI+f8Pjn1iq20MtaNrTa+n79Pjgt6dKfnG5ekEJIAgqSKhXwVdLih5ezRRJt6/pj5vMh8K+PpqiHY39jsb+ga9PVjwZkmZZRWbOzQs6X9/HbjwsyU0E+GzBjhUuj5fXJirMS3z2mDdGVBgNYg4CZNx0J1+j7Xntv21P/a7vvdfZVQAgzC2wnzopmzpTkBF8ege2Mu9948Xm3/6c+RvavY39qvODuKpSMnMqIhDgWRmKS1dyq8efjAp5wazQTbL35Rbb4DBdZmO78+Db7UxxyuVZivSEfBzbn230xHV4exz+ht0hyc6aFNPFueC2Aua4r9528qt4+5IBgN3gPbkp1KZ4gU6WNpKFbPn3LGU7dAirq+5n7/V9Vh2pVmzcXaae9w7FX4YlKUrL2DCDKRJm55lfvM9RKzbm/U1n//A5nDslwsNKfnZZWItwEBTJuXUh29L6zJYwtWJBun2NT3zhaEzCnV9w73Ke/NwnQ0PjE19w1IqNp99a/5uPKVZqvIyrZmGS5JQkScGyBp0LyuJEx7cMsnN7rzKqNxoQHk+Um2/Zv9tvswIArg3zHAOAu73F+M3nQ3t3ZN58FyaWAADt9xNmI56eSfv9oT8quR7pmMBTh7p1PNUF6OJNWhV65NIUXf1ZQg6p4x+HYlMwHjLpklCMSywIL1n79TCyAgC9dVbmWCjjo9H677iYV7Y0jSnWfJnQ/9x0IOg0CFA4O4qfKD4CnUyztJxtafrTphFM0kUl46pZ7I5bxyu7vYZhPPRDh1sMO0M7tokLdcpZIR3noJiex55zdDYPBHp/saAIsuPFXVxrDHCNlP3JGHaeGToyTFZhT89Q/1cnmCImxvWXTQ1VJ0BygmVpMgYOlKVagTKJhxUm5GkmBX9tI3DYR0L7/aTTISosRjBMmJWjWrKK2wIAAMy7tnr7etJvuC2wUY1p51bV4uWS8kmoSMRXaxSz56P4MFPj44HfPMQcE4MXYDyYNzOkkn0NtmG7VwEMbQ5zl4sp5s8a/ubvrBnyOuN1rwJwokYZBz+bnKlKtpC1HkpocDfQFHb/Z09J+vGQvmEGOyLJsOOM5Xh7qHoU8OQi7bLQDe8dsA5urWPVx6Trzf3sYubVs9hFNtoVlexi36fH2cWoWE92enpDv8846C+fxv5kej8YzpsGAACGrWGKGYz/SJjkBMtwIhh7haBIycaq8Mp4FF1ZyWwFllQAVxz6P35XNnlq0eN/SrviusFP36P90W4Mmu7/6B2eXKFdsx4A7CeOmbZ8pb10Q+Evf5dz74/FxWWcYeb5wXXqjPP4Sdrr9ba2W75KaKJnbMmuUjLH/Y3DPNLZ9DfamOPcacPf/AOJnZz0hfVz0WhBW7lTQ29H02DscLAqY+K2heWKGzZ0KxJO/6X/i2p2cTQopuawp/9Mexvjjx8ZPD1DbL+VYnoe48zmIJ+UHSrQMGwPKMDQ4YSaqRcUM8feAZuzNaFHr6vNQHlDX4qsPBPhJTHxGvq8EqF3fydFUCgfBYDym6f27e801cVz+AWQ5Skn3TUzWKAhqY1UbdVHbdVHAcBeW2OvrQEAR91JR91JAHA1NbQ//UemZfNvf84cG7dsYo4pr6fjH39iitajB61HDzLFCwNFGV95i2s8XwikPL4g9BMZ6gl1moaF3cOSqAUoisQPIh/qDUUbjBJFeqhHjyDw2+NrWZWJIlFGv7FjgYlwcUHI2+AdsNrPDD/CTRBZ5TnvKgAAxHItRcVS3S4pDoaDIBgqLc+w1nSENwFMhAszlEzR1WkirAl914kMeDERLs4PfTL2uoRG6ABAU7SnzyrO1waKqIAnylG72sJG7nFIroflMbk6vm0MHKN8bPHf12YtyQ9rEYFuWsayZ9bxpcEfSu/+DnunJaxFivOLWBE24EoqBJzdGEFAFH6qSHwJjAcTRCQf5r0SgSdM4mEOANLyDPaktuPs8Hdy4sjKM9lFV3vQ35IIro6wxvJJYdoXQFygYzvIPD0xffkcEhkSSkvT2Z+Mu9cSqhsO0hkWZ8dn3PYJkFwPCwDOvFadvbwwIEC4TLDwT2uMpwbaNjUYT/Y7uq3B2AUEJOkyzWR93qWlGfNymE+NIqi6l46FzsUh3qM6xZjBF4V96UnFfxOesMYCKS/+omVO+9EgiObYGm8462+cLcOPJxKHz3KHUz6/L4GAeAZPT5im4DruOlAA4KuCcXMBPP1WdjEOicRzCtLDJnNzblmQc8sCtiVxePIkvOFJC5azz3749zsX/WkNI0PaKr22Sg8AQAPh8tEUzZfgnGCrACf+eWCoMfZj5EJM2H0P4XSp+Ml0OviisMbx4xXGFoIVIk94yOYDsX9IsRlsSUIUAIAnC3v4E2Mxwc3Ak4ZuVNIVT/cjIc+FYQfgyaLc8zxxWMQAp18TB8oT5viLStR3HBkonsSjKGnBAoDeve2Hfrt99mNLGT96EAT4kug+Apqia5873PxJvEkQxmvOT0+TzpstrCzlKZUIjpN2O9Hb7zpxynl0mMgXBgTniyrKhOUleE4WT6tGRSIAoDxe0mIlevpcp8+4T52hiYRuNkQgEE+bLJpUjmdmYAo5KhTQJEV5vaR5iOgf9La0uesb/aZhOtuqq9fJVy7lWgEAwPL519YtO7nWBOBpNeKpk4TFhfx0PSoRoyIh7fdTLrffZPb19Hlb2911DZQrigvJbQ2fkpMm8Rtgr9GjafBYh/9ljxUu1r/t91Fv/zh2V33sYGsKJHPPDw+C8FghSMnmMOC0jyofWPjNyA6Aig/pGb4l55M5byTxY2XTubXZ1j407eEFaTPCxuFRsTSbTj5zcOBYD7ciHNpHAIIo1q5Srl0ViEIIwFOreGqVaHKF/JLlpjfe9baHooEi4Wemy5cvlsyejvC5so1JeZhUgmdnSubO9Jstprc+8Jxt4rThIJ03S3nVOkzKWtYAgKAoxudhUgmemy2ZMwMAvK3tA8++RHvH7tccF55GpbrycvG0KvanBAAIjmM4jikVgqIC2ZIFtN/f/as/UA4nuw0A+Nykx04woQPq3LCri482L9TYNeSL73EfWxzG0McrkvN5AtTvHfcuOSfFyphG7dEANDDjFGbZQYIk2RyAG3cdh0S6BUj4mkq/w5tgDyASypfEY2+EggUAlibTrge/1EzW515SrJueoShUc4aBzl7bYHVv9662voOdifinKK9XddXlsXoiAMDX69Ie+uHgsy9627gTIgziyRXSBXO41gh4amXaj+4a+Od/va3t3LpzyC9Zprrycq41KggSX63cp+ppvx+TSlGpBJNIMIWMpwvOkiSLqKJMe+dNqCTMPREVT1NLpFoF6KgZKlsSDItLL5WFV8ZDz8qZ1XlieNfsGNJVa2EXsycr248P07EdPaQjbAzI7hONFhr8Di/TM8JE3OdrfDhxDP5oY1XOMJM7HopNInEGpD3sHduf2z4YHmA1TiR6DbEwnR4wnR4AAJSPCZRCXC5AMdRn93otHr87CeEEAGFxITp1MgC46xoc+w972zsplxuViIXFhYo1y/mZGQCACgW6e27t/f1TlCe6QNj3HpSvWYEKhX6zxX2qztPU6uvppewOmqR4KoWwolSxegWmkAMAwuOpN17Z9+d/Rg1+4Wk1qg3BiXPK4bRu3eU52+Q3mmmCQAQ4T6XEszOFpcXCyjJMJrXvHSZOwtPU4mlqYYr8zPTMX/2UVZ8ogvwc3X13ILzgt0aTpPtknaexmTCYKJcLxXGeVo3nZAsrSvj6NMf+mIF87cfMjGDpS+TKTJElgfiDtGKZKivk04mzjm88aD9qoigaPfdQLF2cdh4EK7B8l2Fsx0F+uyckWGIBIEnMO3FWtHD+zwAcwUJjxGpFEnWAyYGwhf1geMnkohkNoxUsBoog3Qan2xD9kZ4IgV6D5YtvrJt3MEbSYnUeq3GdqNX98E5RZRkAYEqFYu0lQ59uYtqwodwe8/ufkTab52wzR4mIAQMxYHBV12b84mFMqQAAPCeLn5FO9EYJZBXPmBIccNF0/z+eI/pC00O03+9zunzdvY5DxwBFReUlbDEaPxCcr/vB7YxaeVvbja++ww6aBwBoboVDxwCAn5nhHxgMq2Jx6tveSx4uCwSOIwjMvCpn+78buY0imHlVNnNMU/SZ7f2synHH4/C3HDSWLAzG/szemLv7xeZEwuhHA2EJC1xiRx6NHu+AVZipDByjfEyQJvcODD89F4CTiybqDCPnnxfqw+b14pCQYIXnzBGkJXryUZJcHNZ4421tZ6sVA+0nja+9E0jbAADS+bOZ+zYS55HjnoamqP0mACBtdss325iisDCPVRmCp1IGDiini61WXCjKfebsiEfvSSFbND+gswDgbe8a+OfzXLViQfT20WRMT4Sl1316c0imF91ZqMwc5gmpzZfMuymfKZ7ZPsAOIj0/7H6hmTkWyflX/DaJtRYjgxN4JSlNZxdHif1MmFdXnJeEl0AcnqzKXh8lnNXVHhaNGTXfVlQSackJoJVVZLCL48fEEizH/sNc0zkop8t5KLgSCpWIhRWl4fVJ4Kk/yxyj8ugeHMod7PGiUgmedZ6+jPjIlp6Lc6Fp05vvJeIZjcPO55uYCCy+ELv9+TlSTUwHjVwvvO1cKj4AIP30rheGma8YD9qPmxv3hLqNU9ZmXvunaYmEZYhV+PxbCjIrk+4F+MwOT5+FKYrzNImntRsW2+ludlE5s4BdjE9YY5qOKlh+h5fdZRPlaXjSmF8xG3ZwfywIq8vVYWKKkiI9XzG8X3X0TCzB8pwNPUIjcZ+uZ44FeTmsmuQgraH+MyqI/hV66kNDJN39d4lGoY9jAk+t4mmDt4rnbNPoU2gZWh1fndvSBgB0hdKHPlsy5/o8zsJjsRKff3P+Q58uYbL3AcDWfzQkuInOmPPRYyfZa4mmrcv66ebly+8ryaxUMO4tAEAQUGaKShbqlt9fcs9r83+xc9Xlv6yU6aJ/1/HhLHlJXzeNXRwNttPdfpYnSLO4NGr0YiSibLW4MKQptrqeWPEW7E4cgqHKWYWsypiw0wTGwXIk5AlBeGja2imsyvEi5sDq/EP7CL8lXjCuj+VsGk2vJ2xyOsYvxNPU6q5rEE0qBwCeSpn24A983b2OfYecx09EDW4abwSF+cxxfFlPnGMfd+kKpUzeUYkK3/CbyesemxTI6Y4ASLUCXZGULQQAcOLLnv2vJ7Q4djxwWXxvPXjsjv/OYTJbSTWClQ+WrnywlKJoj43weylcjOFiXtQcNSOg74tqdgqU9PXTB7ecjp8zL0Eor7//65PZN8wLFHGtLO3SKQNfnwxvFQVOTHnfZ8GRRySGHWfYu05kXD3LuCv01I+KKFstYyX8i0PfZ8czrpqF8IKdnqzr5hi2nvaZHOGtxpgJJFik3RHL8RSAtNqAogK+cDQ8NioSVCQUlpXgOZl8fRoqk2ISCSLAET4f4fMTjKw1vPyW9vYbxFMnB4p4dqb6hqtV117hrqt3HDzqrms4n6H5gZnNAL44PrUk+eapervBu+Z/yplnO4ohkft9Mex+sXnbM2fjfkvjzkCT/d8b99349My86Sq2HUURcZJrmxPB1WqwVLcrZ+QHigiGlv3mijO/eD/xlS5x6P+iOvPqWUzOhtw7F1ur2+OfWTW3SLu8kil6B2zm/TGH55ZjbYTVxQzWZOUZuhWVhh1nwluFkXfvslhPcQ5eg92w40za6uANwpMJSx9bX//rj5MIgmXlNE+QCTQkpH3DXyd1rk0geD0qeFaG7ge3Zf/5t7of3Ka4dJV4+hRhcSE/Q89TqzCZFBUKOPGWsaC9XsMLrw8+94qvM+RrQHiYeOrktPvuzP79Y/KVS5DEtG/0oJLQ9Y5tF2/fa63/uX5f65GQPyIqnSeHXrzt4NZ/XmC1CuAwel++/eDHj500tic0K23ucm175mxnTcw5ivi0/3cnO0xcmKGs+uct2qXlw9zYCMgqs/J+sIxrZ+EzOjpe2sUU+Qpx5Z+uj+N9Vy8oKfv1FaH3paHlH9/SZMwHJ01S3e8cZFuKHrlUMT36RBOCIgX3r4zcpysOHS/u8hlDXSp5Vc7kp2+SDjc1gaCIrDKz8KFLJv3lem7dcEygHlYiIExAcIz7RrZ0ofraDWxJogmCGDSQFhvlclFeH00QQFFxwlM5uE/Xu0/XC0sKpQvmiqdXMQH0mFKhunq9bNli8zsfuVle/HECQVgiG+PaR0xfve2Vuw5lVioqlusL52nlaUKpFqdJ2mH22QY8rYdNjXsHu09ZuC+7oFAUXfNF94lNPXnTVUXztPmz1HK9UKLCcQnP7yG9Dr+lz2Nsd/ScsbYeMg62jGqc4moztD67tfinaxkLXyUp/dWG7FsWDh1qtp3u9pkcfrsH5WOYCBeky0VZaml5hmxSNl8hGjaHZ99n1cpZhUweO2Gmcupzdwx8fcK4q8HR2B/YDAKTCBRTc9NWT1YvKAl/7fFhswn2f16tv3QK40dHBbxJf9rY/9XJwW/PbUIBgGukypn5mdfMDjSjfH7KQ4RyH8eGsLrO/uGzyX+9iRkYSgrTpjx7m6W63XKk1dHYT9jclJfAhDgmxgV6hShHLSnWK6bkBOLIEkyhxWYCCRYiGK4/jyDIuQShTIgDG/HUyeqNVwYLNO04eNRx4Ii3o4szdkNFosQFK4CnqdXT1Ip+8Kl4xlTpgrmC/KDLn6dWpj1wt+GVt13Vw7seRgN5btYSAFDR8GEyI6D3jLX3jDWRgKw40LyMV3+dJ9Jlozyc9LqsLhHAR9xGEdR+01v7Tdg8V96a26XZxY3vPkW44nn3aYpuP24eqwhSRWFV/to7ew98aajZyaka3HwKV0ty71jC7lWJ8zTiPE3W9XNDphHR+OQXk/58PbNVBMJD0zfMSN8wAwBIlw/Bom8JYdhe1/4C9/+MhKboxie/mPy3m0IChCDp66alr5sGNO13eDERzshNgLZnt0krM/WXJuREt5/pbfh/n5Y+tp4dfK+ckc8MoseWhAZH5wdMJou/ooqnUjANyGiLTpRXXsYcG15+y/T2h962jiiephHtwQ0AlNvj2H+4/6ln+v/6rKfpnOMZQTQ3XYuKh38cjQbKHuoj8PVprJoJBCYQ5V9+t1ifZ2k+MXB0y1BjtdsYFmqUOAgCFOGjEw/9Hn+63z109vefJeGgSRjS5av7+fumvVEeFZgYj6JWNPR+eKTpL1/FGQyycXWYzjz2YZRoeAThyYRhakVD+ws7B76tdTSEJriGZehwy6mH3+JkvBknJlIPi8/jadR+Y0xnSmB1TgCimxt4wtfr+GnBfq+nodFVUxteHwKLEXuVON62joF/Pq+9/QbJ7BkAgIqEoqpK5+GYkzWjx9veyRwLSwptO/awKicKYn0eTygZOLat//DX3Lokaf/2da5pAmDa12it7cq8dnYGa4u9OJBOb3wPNwPp9p39/WfaZRW5dy5mpwmNxHa6u/25HYkkBWXjaOyvueflwgcv0SyKGaDj6bO0/mur5VgbACQlWADgajfW/OBl/aVTsm9awEkiFhXC6jburB9208ZIJpBgAYCossy+5wDXeg7R5NAELfsGDoAplcyxtyNeRgdhSdBfMCpo2rJpS0CwAICfFtNROiYQfQOk3Y7JZAAgmlzBUyv9Zgu30YWGL1UCgM8+NgO0iYnf5u58ZU/Pu4fkU3IU03Jl5Zl8pZinEGFiAU2QpIcgzA5Pn8XVZrCd6rad7k58R1IAMO6qN+1pUM4sUC8olpZlCNIVmFhAuX2+IafPaLfWdJgPNieVmJQNYXae/d1n4gKddmm5YnoerpXhKjFNUj6jw9HYb9rfaN7fxHTZnK2DB1b/JfwEw0D7qf5NJwa+rZVVZCln5ssnZ/PVEr5CjEkElJcg3T6fwe7uNrtaDdaTnY6mgZG5YieWYMkWz7fvOxRlEAeASSXSOUF1IB1OTwN3KpcmQ78MTBIz6AHh8+QrlnCtI4I9rUl7x36kwMGx95DisksAAFBUc/PGgWdfHNlXPuaoSmekzbyEL1VguBAAcpZvzFm+MVDV9OHTrsHgw0NbtShrydWnX/oVLtdkzF8n1uciCOIZGuza9o5nKBiooSyZnrf61sAxAJx+6VekN8qUqCSzSD9zpTg9H8V4XqvBXH/UeHIPTQd/NrqpSzIXXVn3yuOqspmaSQtwmYpw2uzdjf0Hv/J72J4ERDd1sWbyQlymJpxWc/1ht5HbbY8F6faJ/PZ5l0jeu+7tsR220hQ9dLR16Og5h0MMEBRhdiZOClebobPNAK/tZSwjPlVUaD9lO9VlOxWvxzAaRujNGSf4memqq6JkdEF4mOaOm5BzUemO/YcjF8r5B4zMDSysKGXc82wQnK+76xYmZDwOirWrmAFmLOSrlzPHvq4ROmsSx7ZrHxPQICwvSbvvTkwWs++N8HnCkoTilUeP29RvOLm7d/8X5vojAGBuONq184PAn8/G7W3J8ycVX/UgRXiNtXuHGqt5IqnPYWFq7Z0NLZ/9p2Pz6x5zzCGJqnRG8ZU/wuVqc/1hw4ldpNeTuXBD3qW3Q3iUQd6a29LnrHX2tw/W7CQcQ5rKefmX381ukDHvssxFV9I0NVizw97ZoK1alD43NA+YCJT/gjnZbvhw3VhFxo7hqc4DE6iHRXk8qFAoX7FEkJdj27XP29pBOV2oWCQsLpCvWcmEtvvNQ9Zvt4e/FACAtNu9Le2C4gIA4GnUaffdMfTpV77u3oCKYXKZqKpSsXo5T6uhPF4gyfgppeQrlyrXrfH19Hrqzno7uoi+ftLhpL1ehMfDFHI8N0c6f7awLBixQgwMusco+jwOlNNlfOXttAfuDsw8iCZXZP3uMWf1SW9Ti980RHm9CM7H5DK+Pk1QkCcsLiDtjp7/+xP3LOOAx9TrMfUCAFCkumKOs6/NfOYQt9E5spdd17bpRUcP83EhwLrpSa87UKWumCtUR4m35gkl2cuuc/S2tH7xPLNiIfeSm1WlMxUFk6xtp5mWkvT8xg//EfzHAArX3yvLLZek5zv72wEAl6l0M5Z7hwabPnia8vsAYODYltKNSeT86T0++MENX3Gt5wVJmliZL+daR8QYnur8MIEEy/LpV/zsTNni+YKiAl1RAbcaAAAot8fw4huxQkyHPt2kf+T+QCIHYVlJxi9/Qvv9pM2BCnBGnmiCMLzwunTerECy0PjgWZl4VibXGk5AR6IOYwEA4fHkq5ahImHgDxEJUaGQ3TOSrVwqnj6Fcnsoj4dye2iPh3J73A2N3uY21mmCuOvPGl9/V3PzdYFwMATnS+fNks6bxW0XgDWxOHGwttSy1ArYapUIypLpKF9grN3LXl9laaxRlc6U5VeyBcvSfIJRKwCwtdXJcssFSl1AsOQFkxEENZ7eH1ArACCcNvPZY2nTQ73mWEjTJVe/tkaoEJA+8uWlHwSM5esL9VVaZb5CVSDf/PO98x+eLsuUfPPI7sE6EwDcuePa3U8cmX57paZENdRm3fX7Q4Z6MwCgPHTug9PKLi/Apfze44N7/nTE1h381rRlqjV/WfLVj3cu/795ugqN2+z++PbNXpvvqldXqwoUAHDvoRsDLf87912aovWTtbPvn5JWqUF5iLHRsu8vR41ng9N2d2y9Zu+fj065qVxXoXEOug49e6JlaweGY7FOFTiemEwgwfK0ttv3H6bsDvmaFQgWZQk+0TdgfP3dOIMvb3un4cU3tLfdwMgTwuPx1Eqmgd9kNr7ylre9i6/XxRcsoq+fvXwvFp6zzab3PvYPxvSDIny+cv0arpUFJpVwUjADACBIVMECAOfRGqK3X3X1emF5WAxhJGMbED9WuA2j8m6I0nIAIH/tndwKAL4obPLXbehmF/1eFwBggmD0iVClBwBPuNPKY4o5DmXj6He+cekneYuzVv1hIdtefGn+Z3dvmXZr5WX/WLbpoR0la/Krri/b/nhwEmnBIzO2PrbP3uOcfd+UNX9Z8s6Vn1MkPef+KXkLMzc9uMNt9ky7rXLdsyveu24TRQS1WJImmv+TGQeerrZ02HQVapfRDQAf3fyNvkp79WtrXpj3LkWGxMVj8zZ/277rd4dIgpr/8PRlv5n30S3fMLVLfzV3++MHBmqNFVcWrfh/83uP9buHvLFONZGZKIJFud1E3wDQtOWrLc5jNdJ5s4WTynlKBSLASbuD6Olz1dQ6j9ZEuq44uE/X9/zuL7KFc0WV5fwMPSoSUl4f5XD4untdtWdc1ScDW13ESbIcoP9v/8bzckQVpXheDl+rxhQKBOcjPB5NEJTLTQwYfB1dzhOnfHGnI8cJX0/fwL9ewHOyRFWVwuJCnk6DisUozqf9ftLh9BvNvs5uT0OTe7iM9ReEcLd30gT8+oYTu/1ubv/Raw17bBAubgM2KC4AAJLwso1UeDFZrF12U5Ol+0h/2mTNQK1RnimtvDr0UGn4vGWg1ggAB/9RXb792qzZ6T3HB6puLN/6v/sCXaGD/6guXpNXvDqv8avgswrDsdp3GgZOGQGg+/AwcQzWTru1M5iG5MwnzVe8sIo92m74srVjbw8AnHizfs6PpqqLVT1HhznhxOTCC1bv77izp8SAYejzr+HzEcbyUA6ndfOOqIkAGXxdPR0PPMq1huPr6Bq9HlFu97BvNDJ8XT2+rh4r1/wdJ6Ap1tZaZ1/0HiiLeF0GivABAE8UNmuBYBEhmsngcxAAQBKk1+oDAMpPYYLQpJa1K6gmPifhNLjl2VJ7n5MnwExNwYEbRdLmFqu6SMm8BABMjcHaYRGphTPvnpw1Ox2X8hEEUB6KogjTbzK3WAIHNEX7PSQuGdWVXkAm1ixhihTxCQRJSLNGOwHqHRoAAKE6bJmuUJXGLiYL4/2Juj8Nyg4oRwDONQstjwWIzIdFEsMMKRgu/esSRY5s04M73rzs0y2/3Mep9Sewc9dFQUqwUlxMWBqrSZ9HO3UpLg+LTeGJZQiWxHDB2lYHNK2ZvIDxamECkapsZnirsUSRG3Sx4VK+RCeydjnsPQ7C5deUqAJ2FENUBfKh1uE7zYF+E8KKRcBwLH2K7uTb9c5BFwAoz73XsESeaoKTxHecIsW4gqCoWJ+H4UIUF/KlCgBQFk/zu+ykz+O1GAinFQD8Hmfntrfz19xedsPPhppqCIeFJ5IKVXpJVlHDm08mHmTvs5kMJ/fopi0tue4RW9tpBMUUhVVeq5Gjg2NIxRVFXQf7rJ322fdNcQy4eo720xRd8/qZuQ9Otfc5XEbPtNsrSS/VvKWd+8oIbN12yk8Vr85v3dEpkOGOARfpI11md9YsfW/1oKZENf3OSdzXxCDyVNwWE4yUYKWYKGC4qPjqh9iW7GXXBQ4Gjm7uP7I5cGxrq2v88Om0GSvl+ZU8oYT0uLw2U/+hb/zuoJMoQXr3f0G4bJpJ87VViwmn1Xhqn6nu4OR7nuC2i2DRo7OKV+cJZDjKR+/Ze73P4dv9xBFuowhOvd+44JEZ2lKVudW65ed7A+PH6ldO84TYumdX4FJ+X41h04M7SF/0+Bg2Xptvzx+PzPnR1CX/O9va5QiEg+34v4OLfz572q2VphbLrt8dWv/cKu7LohH1VClSpPhec+eOa4tW5XKtKZIn5cNKkSLFRUNKsFKkSJEiRYoUKVKkSJEiRYoUKVKkSJEiRYoUKVKk+L7x/wEE3LVkzfNwowAAAABJRU5ErkJggg==",
         "type": "image",
         "xaxis": "x",
         "yaxis": "y"
        }
       ],
       "layout": {
        "autosize": true,
        "margin": {
         "t": 60
        },
        "template": {
         "data": {
          "bar": [
           {
            "error_x": {
             "color": "#2a3f5f"
            },
            "error_y": {
             "color": "#2a3f5f"
            },
            "marker": {
             "line": {
              "color": "#E5ECF6",
              "width": 0.5
             },
             "pattern": {
              "fillmode": "overlay",
              "size": 10,
              "solidity": 0.2
             }
            },
            "type": "bar"
           }
          ],
          "barpolar": [
           {
            "marker": {
             "line": {
              "color": "#E5ECF6",
              "width": 0.5
             },
             "pattern": {
              "fillmode": "overlay",
              "size": 10,
              "solidity": 0.2
             }
            },
            "type": "barpolar"
           }
          ],
          "carpet": [
           {
            "aaxis": {
             "endlinecolor": "#2a3f5f",
             "gridcolor": "white",
             "linecolor": "white",
             "minorgridcolor": "white",
             "startlinecolor": "#2a3f5f"
            },
            "baxis": {
             "endlinecolor": "#2a3f5f",
             "gridcolor": "white",
             "linecolor": "white",
             "minorgridcolor": "white",
             "startlinecolor": "#2a3f5f"
            },
            "type": "carpet"
           }
          ],
          "choropleth": [
           {
            "colorbar": {
             "outlinewidth": 0,
             "ticks": ""
            },
            "type": "choropleth"
           }
          ],
          "contour": [
           {
            "colorbar": {
             "outlinewidth": 0,
             "ticks": ""
            },
            "colorscale": [
             [
              0,
              "#0d0887"
             ],
             [
              0.1111111111111111,
              "#46039f"
             ],
             [
              0.2222222222222222,
              "#7201a8"
             ],
             [
              0.3333333333333333,
              "#9c179e"
             ],
             [
              0.4444444444444444,
              "#bd3786"
             ],
             [
              0.5555555555555556,
              "#d8576b"
             ],
             [
              0.6666666666666666,
              "#ed7953"
             ],
             [
              0.7777777777777778,
              "#fb9f3a"
             ],
             [
              0.8888888888888888,
              "#fdca26"
             ],
             [
              1,
              "#f0f921"
             ]
            ],
            "type": "contour"
           }
          ],
          "contourcarpet": [
           {
            "colorbar": {
             "outlinewidth": 0,
             "ticks": ""
            },
            "type": "contourcarpet"
           }
          ],
          "heatmap": [
           {
            "colorbar": {
             "outlinewidth": 0,
             "ticks": ""
            },
            "colorscale": [
             [
              0,
              "#0d0887"
             ],
             [
              0.1111111111111111,
              "#46039f"
             ],
             [
              0.2222222222222222,
              "#7201a8"
             ],
             [
              0.3333333333333333,
              "#9c179e"
             ],
             [
              0.4444444444444444,
              "#bd3786"
             ],
             [
              0.5555555555555556,
              "#d8576b"
             ],
             [
              0.6666666666666666,
              "#ed7953"
             ],
             [
              0.7777777777777778,
              "#fb9f3a"
             ],
             [
              0.8888888888888888,
              "#fdca26"
             ],
             [
              1,
              "#f0f921"
             ]
            ],
            "type": "heatmap"
           }
          ],
          "heatmapgl": [
           {
            "colorbar": {
             "outlinewidth": 0,
             "ticks": ""
            },
            "colorscale": [
             [
              0,
              "#0d0887"
             ],
             [
              0.1111111111111111,
              "#46039f"
             ],
             [
              0.2222222222222222,
              "#7201a8"
             ],
             [
              0.3333333333333333,
              "#9c179e"
             ],
             [
              0.4444444444444444,
              "#bd3786"
             ],
             [
              0.5555555555555556,
              "#d8576b"
             ],
             [
              0.6666666666666666,
              "#ed7953"
             ],
             [
              0.7777777777777778,
              "#fb9f3a"
             ],
             [
              0.8888888888888888,
              "#fdca26"
             ],
             [
              1,
              "#f0f921"
             ]
            ],
            "type": "heatmapgl"
           }
          ],
          "histogram": [
           {
            "marker": {
             "pattern": {
              "fillmode": "overlay",
              "size": 10,
              "solidity": 0.2
             }
            },
            "type": "histogram"
           }
          ],
          "histogram2d": [
           {
            "colorbar": {
             "outlinewidth": 0,
             "ticks": ""
            },
            "colorscale": [
             [
              0,
              "#0d0887"
             ],
             [
              0.1111111111111111,
              "#46039f"
             ],
             [
              0.2222222222222222,
              "#7201a8"
             ],
             [
              0.3333333333333333,
              "#9c179e"
             ],
             [
              0.4444444444444444,
              "#bd3786"
             ],
             [
              0.5555555555555556,
              "#d8576b"
             ],
             [
              0.6666666666666666,
              "#ed7953"
             ],
             [
              0.7777777777777778,
              "#fb9f3a"
             ],
             [
              0.8888888888888888,
              "#fdca26"
             ],
             [
              1,
              "#f0f921"
             ]
            ],
            "type": "histogram2d"
           }
          ],
          "histogram2dcontour": [
           {
            "colorbar": {
             "outlinewidth": 0,
             "ticks": ""
            },
            "colorscale": [
             [
              0,
              "#0d0887"
             ],
             [
              0.1111111111111111,
              "#46039f"
             ],
             [
              0.2222222222222222,
              "#7201a8"
             ],
             [
              0.3333333333333333,
              "#9c179e"
             ],
             [
              0.4444444444444444,
              "#bd3786"
             ],
             [
              0.5555555555555556,
              "#d8576b"
             ],
             [
              0.6666666666666666,
              "#ed7953"
             ],
             [
              0.7777777777777778,
              "#fb9f3a"
             ],
             [
              0.8888888888888888,
              "#fdca26"
             ],
             [
              1,
              "#f0f921"
             ]
            ],
            "type": "histogram2dcontour"
           }
          ],
          "mesh3d": [
           {
            "colorbar": {
             "outlinewidth": 0,
             "ticks": ""
            },
            "type": "mesh3d"
           }
          ],
          "parcoords": [
           {
            "line": {
             "colorbar": {
              "outlinewidth": 0,
              "ticks": ""
             }
            },
            "type": "parcoords"
           }
          ],
          "pie": [
           {
            "automargin": true,
            "type": "pie"
           }
          ],
          "scatter": [
           {
            "fillpattern": {
             "fillmode": "overlay",
             "size": 10,
             "solidity": 0.2
            },
            "type": "scatter"
           }
          ],
          "scatter3d": [
           {
            "line": {
             "colorbar": {
              "outlinewidth": 0,
              "ticks": ""
             }
            },
            "marker": {
             "colorbar": {
              "outlinewidth": 0,
              "ticks": ""
             }
            },
            "type": "scatter3d"
           }
          ],
          "scattercarpet": [
           {
            "marker": {
             "colorbar": {
              "outlinewidth": 0,
              "ticks": ""
             }
            },
            "type": "scattercarpet"
           }
          ],
          "scattergeo": [
           {
            "marker": {
             "colorbar": {
              "outlinewidth": 0,
              "ticks": ""
             }
            },
            "type": "scattergeo"
           }
          ],
          "scattergl": [
           {
            "marker": {
             "colorbar": {
              "outlinewidth": 0,
              "ticks": ""
             }
            },
            "type": "scattergl"
           }
          ],
          "scattermapbox": [
           {
            "marker": {
             "colorbar": {
              "outlinewidth": 0,
              "ticks": ""
             }
            },
            "type": "scattermapbox"
           }
          ],
          "scatterpolar": [
           {
            "marker": {
             "colorbar": {
              "outlinewidth": 0,
              "ticks": ""
             }
            },
            "type": "scatterpolar"
           }
          ],
          "scatterpolargl": [
           {
            "marker": {
             "colorbar": {
              "outlinewidth": 0,
              "ticks": ""
             }
            },
            "type": "scatterpolargl"
           }
          ],
          "scatterternary": [
           {
            "marker": {
             "colorbar": {
              "outlinewidth": 0,
              "ticks": ""
             }
            },
            "type": "scatterternary"
           }
          ],
          "surface": [
           {
            "colorbar": {
             "outlinewidth": 0,
             "ticks": ""
            },
            "colorscale": [
             [
              0,
              "#0d0887"
             ],
             [
              0.1111111111111111,
              "#46039f"
             ],
             [
              0.2222222222222222,
              "#7201a8"
             ],
             [
              0.3333333333333333,
              "#9c179e"
             ],
             [
              0.4444444444444444,
              "#bd3786"
             ],
             [
              0.5555555555555556,
              "#d8576b"
             ],
             [
              0.6666666666666666,
              "#ed7953"
             ],
             [
              0.7777777777777778,
              "#fb9f3a"
             ],
             [
              0.8888888888888888,
              "#fdca26"
             ],
             [
              1,
              "#f0f921"
             ]
            ],
            "type": "surface"
           }
          ],
          "table": [
           {
            "cells": {
             "fill": {
              "color": "#EBF0F8"
             },
             "line": {
              "color": "white"
             }
            },
            "header": {
             "fill": {
              "color": "#C8D4E3"
             },
             "line": {
              "color": "white"
             }
            },
            "type": "table"
           }
          ]
         },
         "layout": {
          "annotationdefaults": {
           "arrowcolor": "#2a3f5f",
           "arrowhead": 0,
           "arrowwidth": 1
          },
          "autotypenumbers": "strict",
          "coloraxis": {
           "colorbar": {
            "outlinewidth": 0,
            "ticks": ""
           }
          },
          "colorscale": {
           "diverging": [
            [
             0,
             "#8e0152"
            ],
            [
             0.1,
             "#c51b7d"
            ],
            [
             0.2,
             "#de77ae"
            ],
            [
             0.3,
             "#f1b6da"
            ],
            [
             0.4,
             "#fde0ef"
            ],
            [
             0.5,
             "#f7f7f7"
            ],
            [
             0.6,
             "#e6f5d0"
            ],
            [
             0.7,
             "#b8e186"
            ],
            [
             0.8,
             "#7fbc41"
            ],
            [
             0.9,
             "#4d9221"
            ],
            [
             1,
             "#276419"
            ]
           ],
           "sequential": [
            [
             0,
             "#0d0887"
            ],
            [
             0.1111111111111111,
             "#46039f"
            ],
            [
             0.2222222222222222,
             "#7201a8"
            ],
            [
             0.3333333333333333,
             "#9c179e"
            ],
            [
             0.4444444444444444,
             "#bd3786"
            ],
            [
             0.5555555555555556,
             "#d8576b"
            ],
            [
             0.6666666666666666,
             "#ed7953"
            ],
            [
             0.7777777777777778,
             "#fb9f3a"
            ],
            [
             0.8888888888888888,
             "#fdca26"
            ],
            [
             1,
             "#f0f921"
            ]
           ],
           "sequentialminus": [
            [
             0,
             "#0d0887"
            ],
            [
             0.1111111111111111,
             "#46039f"
            ],
            [
             0.2222222222222222,
             "#7201a8"
            ],
            [
             0.3333333333333333,
             "#9c179e"
            ],
            [
             0.4444444444444444,
             "#bd3786"
            ],
            [
             0.5555555555555556,
             "#d8576b"
            ],
            [
             0.6666666666666666,
             "#ed7953"
            ],
            [
             0.7777777777777778,
             "#fb9f3a"
            ],
            [
             0.8888888888888888,
             "#fdca26"
            ],
            [
             1,
             "#f0f921"
            ]
           ]
          },
          "colorway": [
           "#636efa",
           "#EF553B",
           "#00cc96",
           "#ab63fa",
           "#FFA15A",
           "#19d3f3",
           "#FF6692",
           "#B6E880",
           "#FF97FF",
           "#FECB52"
          ],
          "font": {
           "color": "#2a3f5f"
          },
          "geo": {
           "bgcolor": "white",
           "lakecolor": "white",
           "landcolor": "#E5ECF6",
           "showlakes": true,
           "showland": true,
           "subunitcolor": "white"
          },
          "hoverlabel": {
           "align": "left"
          },
          "hovermode": "closest",
          "mapbox": {
           "style": "light"
          },
          "paper_bgcolor": "white",
          "plot_bgcolor": "#E5ECF6",
          "polar": {
           "angularaxis": {
            "gridcolor": "white",
            "linecolor": "white",
            "ticks": ""
           },
           "bgcolor": "#E5ECF6",
           "radialaxis": {
            "gridcolor": "white",
            "linecolor": "white",
            "ticks": ""
           }
          },
          "scene": {
           "xaxis": {
            "backgroundcolor": "#E5ECF6",
            "gridcolor": "white",
            "gridwidth": 2,
            "linecolor": "white",
            "showbackground": true,
            "ticks": "",
            "zerolinecolor": "white"
           },
           "yaxis": {
            "backgroundcolor": "#E5ECF6",
            "gridcolor": "white",
            "gridwidth": 2,
            "linecolor": "white",
            "showbackground": true,
            "ticks": "",
            "zerolinecolor": "white"
           },
           "zaxis": {
            "backgroundcolor": "#E5ECF6",
            "gridcolor": "white",
            "gridwidth": 2,
            "linecolor": "white",
            "showbackground": true,
            "ticks": "",
            "zerolinecolor": "white"
           }
          },
          "shapedefaults": {
           "line": {
            "color": "#2a3f5f"
           }
          },
          "ternary": {
           "aaxis": {
            "gridcolor": "white",
            "linecolor": "white",
            "ticks": ""
           },
           "baxis": {
            "gridcolor": "white",
            "linecolor": "white",
            "ticks": ""
           },
           "bgcolor": "#E5ECF6",
           "caxis": {
            "gridcolor": "white",
            "linecolor": "white",
            "ticks": ""
           }
          },
          "title": {
           "x": 0.05
          },
          "xaxis": {
           "automargin": true,
           "gridcolor": "white",
           "linecolor": "white",
           "ticks": "",
           "title": {
            "standoff": 15
           },
           "zerolinecolor": "white",
           "zerolinewidth": 2
          },
          "yaxis": {
           "automargin": true,
           "gridcolor": "white",
           "linecolor": "white",
           "ticks": "",
           "title": {
            "standoff": 15
           },
           "zerolinecolor": "white",
           "zerolinewidth": 2
          }
         }
        },
        "xaxis": {
         "anchor": "y",
         "autorange": true,
         "domain": [
          0.32272360999194194,
          0.6772763900080581
         ],
         "range": [
          -0.5,
          399.5
         ],
         "showticklabels": false
        },
        "yaxis": {
         "anchor": "x",
         "autorange": true,
         "domain": [
          0,
          1
         ],
         "range": [
          199.5,
          -0.5
         ],
         "showticklabels": false
        }
       }
      },
      "image/png": "[encoded data removed]",
      "text/html": [
       "<div>                            <div id=\"b98608e1-4bc1-4203-837d-295694ec913d\" class=\"plotly-graph-div\" style=\"height:525px; width:100%;\"></div>            <script type=\"text/javascript\">                require([\"plotly\"], function(Plotly) {                    window.PLOTLYENV=window.PLOTLYENV || {};                                    if (document.getElementById(\"b98608e1-4bc1-4203-837d-295694ec913d\")) {                    Plotly.newPlot(                        \"b98608e1-4bc1-4203-837d-295694ec913d\",                        [{\"name\":\"0\",\"source\":\"data:image/png;base64,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\",\"type\":\"image\",\"xaxis\":\"x\",\"yaxis\":\"y\",\"hovertemplate\":\"x: %{x}<br>y: %{y}<br>color: [%{z[0]}, %{z[1]}, %{z[2]}]<extra></extra>\"}],                        {\"template\":{\"data\":{\"histogram2dcontour\":[{\"type\":\"histogram2dcontour\",\"colorbar\":{\"outlinewidth\":0,\"ticks\":\"\"},\"colorscale\":[[0.0,\"#0d0887\"],[0.1111111111111111,\"#46039f\"],[0.2222222222222222,\"#7201a8\"],[0.3333333333333333,\"#9c179e\"],[0.4444444444444444,\"#bd3786\"],[0.5555555555555556,\"#d8576b\"],[0.6666666666666666,\"#ed7953\"],[0.7777777777777778,\"#fb9f3a\"],[0.8888888888888888,\"#fdca26\"],[1.0,\"#f0f921\"]]}],\"choropleth\":[{\"type\":\"choropleth\",\"colorbar\":{\"outlinewidth\":0,\"ticks\":\"\"}}],\"histogram2d\":[{\"type\":\"histogram2d\",\"colorbar\":{\"outlinewidth\":0,\"ticks\":\"\"},\"colorscale\":[[0.0,\"#0d0887\"],[0.1111111111111111,\"#46039f\"],[0.2222222222222222,\"#7201a8\"],[0.3333333333333333,\"#9c179e\"],[0.4444444444444444,\"#bd3786\"],[0.5555555555555556,\"#d8576b\"],[0.6666666666666666,\"#ed7953\"],[0.7777777777777778,\"#fb9f3a\"],[0.8888888888888888,\"#fdca26\"],[1.0,\"#f0f921\"]]}],\"heatmap\":[{\"type\":\"heatmap\",\"colorbar\":{\"outlinewidth\":0,\"ticks\":\"\"},\"colorscale\":[[0.0,\"#0d0887\"],[0.1111111111111111,\"#46039f\"],[0.2222222222222222,\"#7201a8\"],[0.3333333333333333,\"#9c179e\"],[0.4444444444444444,\"#bd3786\"],[0.5555555555555556,\"#d8576b\"],[0.6666666666666666,\"#ed7953\"],[0.7777777777777778,\"#fb9f3a\"],[0.8888888888888888,\"#fdca26\"],[1.0,\"#f0f921\"]]}],\"heatmapgl\":[{\"type\":\"heatmapgl\",\"colorbar\":{\"outlinewidth\":0,\"ticks\":\"\"},\"colorscale\":[[0.0,\"#0d0887\"],[0.1111111111111111,\"#46039f\"],[0.2222222222222222,\"#7201a8\"],[0.3333333333333333,\"#9c179e\"],[0.4444444444444444,\"#bd3786\"],[0.5555555555555556,\"#d8576b\"],[0.6666666666666666,\"#ed7953\"],[0.7777777777777778,\"#fb9f3a\"],[0.8888888888888888,\"#fdca26\"],[1.0,\"#f0f921\"]]}],\"contourcarpet\":[{\"type\":\"contourcarpet\",\"colorbar\":{\"outlinewidth\":0,\"ticks\":\"\"}}],\"contour\":[{\"type\":\"contour\",\"colorbar\":{\"outlinewidth\":0,\"ticks\":\"\"},\"colorscale\":[[0.0,\"#0d0887\"],[0.1111111111111111,\"#46039f\"],[0.2222222222222222,\"#7201a8\"],[0.3333333333333333,\"#9c179e\"],[0.4444444444444444,\"#bd3786\"],[0.5555555555555556,\"#d8576b\"],[0.6666666666666666,\"#ed7953\"],[0.7777777777777778,\"#fb9f3a\"],[0.8888888888888888,\"#fdca26\"],[1.0,\"#f0f921\"]]}],\"surface\":[{\"type\":\"surface\",\"colorbar\":{\"outlinewidth\":0,\"ticks\":\"\"},\"colorscale\":[[0.0,\"#0d0887\"],[0.1111111111111111,\"#46039f\"],[0.2222222222222222,\"#7201a8\"],[0.3333333333333333,\"#9c179e\"],[0.4444444444444444,\"#bd3786\"],[0.5555555555555556,\"#d8576b\"],[0.6666666666666666,\"#ed7953\"],[0.7777777777777778,\"#fb9f3a\"],[0.8888888888888888,\"#fdca26\"],[1.0,\"#f0f921\"]]}],\"mesh3d\":[{\"type\":\"mesh3d\",\"colorbar\":{\"outlinewidth\":0,\"ticks\":\"\"}}],\"scatter\":[{\"fillpattern\":{\"fillmode\":\"overlay\",\"size\":10,\"solidity\":0.2},\"type\":\"scatter\"}],\"parcoords\":[{\"type\":\"parcoords\",\"line\":{\"colorbar\":{\"outlinewidth\":0,\"ticks\":\"\"}}}],\"scatterpolargl\":[{\"type\":\"scatterpolargl\",\"marker\":{\"colorbar\":{\"outlinewidth\":0,\"ticks\":\"\"}}}],\"bar\":[{\"error_x\":{\"color\":\"#2a3f5f\"},\"error_y\":{\"color\":\"#2a3f5f\"},\"marker\":{\"line\":{\"color\":\"#E5ECF6\",\"width\":0.5},\"pattern\":{\"fillmode\":\"overlay\",\"size\":10,\"solidity\":0.2}},\"type\":\"bar\"}],\"scattergeo\":[{\"type\":\"scattergeo\",\"marker\":{\"colorbar\":{\"outlinewidth\":0,\"ticks\":\"\"}}}],\"scatterpolar\":[{\"type\":\"scatterpolar\",\"marker\":{\"colorbar\":{\"outlinewidth\":0,\"ticks\":\"\"}}}],\"histogram\":[{\"marker\":{\"pattern\":{\"fillmode\":\"overlay\",\"size\":10,\"solidity\":0.2}},\"type\":\"histogram\"}],\"scattergl\":[{\"type\":\"scattergl\",\"marker\":{\"colorbar\":{\"outlinewidth\":0,\"ticks\":\"\"}}}],\"scatter3d\":[{\"type\":\"scatter3d\",\"line\":{\"colorbar\":{\"outlinewidth\":0,\"ticks\":\"\"}},\"marker\":{\"colorbar\":{\"outlinewidth\":0,\"ticks\":\"\"}}}],\"scattermapbox\":[{\"type\":\"scattermapbox\",\"marker\":{\"colorbar\":{\"outlinewidth\":0,\"ticks\":\"\"}}}],\"scatterternary\":[{\"type\":\"scatterternary\",\"marker\":{\"colorbar\":{\"outlinewidth\":0,\"ticks\":\"\"}}}],\"scattercarpet\":[{\"type\":\"scattercarpet\",\"marker\":{\"colorbar\":{\"outlinewidth\":0,\"ticks\":\"\"}}}],\"carpet\":[{\"aaxis\":{\"endlinecolor\":\"#2a3f5f\",\"gridcolor\":\"white\",\"linecolor\":\"white\",\"minorgridcolor\":\"white\",\"startlinecolor\":\"#2a3f5f\"},\"baxis\":{\"endlinecolor\":\"#2a3f5f\",\"gridcolor\":\"white\",\"linecolor\":\"white\",\"minorgridcolor\":\"white\",\"startlinecolor\":\"#2a3f5f\"},\"type\":\"carpet\"}],\"table\":[{\"cells\":{\"fill\":{\"color\":\"#EBF0F8\"},\"line\":{\"color\":\"white\"}},\"header\":{\"fill\":{\"color\":\"#C8D4E3\"},\"line\":{\"color\":\"white\"}},\"type\":\"table\"}],\"barpolar\":[{\"marker\":{\"line\":{\"color\":\"#E5ECF6\",\"width\":0.5},\"pattern\":{\"fillmode\":\"overlay\",\"size\":10,\"solidity\":0.2}},\"type\":\"barpolar\"}],\"pie\":[{\"automargin\":true,\"type\":\"pie\"}]},\"layout\":{\"autotypenumbers\":\"strict\",\"colorway\":[\"#636efa\",\"#EF553B\",\"#00cc96\",\"#ab63fa\",\"#FFA15A\",\"#19d3f3\",\"#FF6692\",\"#B6E880\",\"#FF97FF\",\"#FECB52\"],\"font\":{\"color\":\"#2a3f5f\"},\"hovermode\":\"closest\",\"hoverlabel\":{\"align\":\"left\"},\"paper_bgcolor\":\"white\",\"plot_bgcolor\":\"#E5ECF6\",\"polar\":{\"bgcolor\":\"#E5ECF6\",\"angularaxis\":{\"gridcolor\":\"white\",\"linecolor\":\"white\",\"ticks\":\"\"},\"radialaxis\":{\"gridcolor\":\"white\",\"linecolor\":\"white\",\"ticks\":\"\"}},\"ternary\":{\"bgcolor\":\"#E5ECF6\",\"aaxis\":{\"gridcolor\":\"white\",\"linecolor\":\"white\",\"ticks\":\"\"},\"baxis\":{\"gridcolor\":\"white\",\"linecolor\":\"white\",\"ticks\":\"\"},\"caxis\":{\"gridcolor\":\"white\",\"linecolor\":\"white\",\"ticks\":\"\"}},\"coloraxis\":{\"colorbar\":{\"outlinewidth\":0,\"ticks\":\"\"}},\"colorscale\":{\"sequential\":[[0.0,\"#0d0887\"],[0.1111111111111111,\"#46039f\"],[0.2222222222222222,\"#7201a8\"],[0.3333333333333333,\"#9c179e\"],[0.4444444444444444,\"#bd3786\"],[0.5555555555555556,\"#d8576b\"],[0.6666666666666666,\"#ed7953\"],[0.7777777777777778,\"#fb9f3a\"],[0.8888888888888888,\"#fdca26\"],[1.0,\"#f0f921\"]],\"sequentialminus\":[[0.0,\"#0d0887\"],[0.1111111111111111,\"#46039f\"],[0.2222222222222222,\"#7201a8\"],[0.3333333333333333,\"#9c179e\"],[0.4444444444444444,\"#bd3786\"],[0.5555555555555556,\"#d8576b\"],[0.6666666666666666,\"#ed7953\"],[0.7777777777777778,\"#fb9f3a\"],[0.8888888888888888,\"#fdca26\"],[1.0,\"#f0f921\"]],\"diverging\":[[0,\"#8e0152\"],[0.1,\"#c51b7d\"],[0.2,\"#de77ae\"],[0.3,\"#f1b6da\"],[0.4,\"#fde0ef\"],[0.5,\"#f7f7f7\"],[0.6,\"#e6f5d0\"],[0.7,\"#b8e186\"],[0.8,\"#7fbc41\"],[0.9,\"#4d9221\"],[1,\"#276419\"]]},\"xaxis\":{\"gridcolor\":\"white\",\"linecolor\":\"white\",\"ticks\":\"\",\"title\":{\"standoff\":15},\"zerolinecolor\":\"white\",\"automargin\":true,\"zerolinewidth\":2},\"yaxis\":{\"gridcolor\":\"white\",\"linecolor\":\"white\",\"ticks\":\"\",\"title\":{\"standoff\":15},\"zerolinecolor\":\"white\",\"automargin\":true,\"zerolinewidth\":2},\"scene\":{\"xaxis\":{\"backgroundcolor\":\"#E5ECF6\",\"gridcolor\":\"white\",\"linecolor\":\"white\",\"showbackground\":true,\"ticks\":\"\",\"zerolinecolor\":\"white\",\"gridwidth\":2},\"yaxis\":{\"backgroundcolor\":\"#E5ECF6\",\"gridcolor\":\"white\",\"linecolor\":\"white\",\"showbackground\":true,\"ticks\":\"\",\"zerolinecolor\":\"white\",\"gridwidth\":2},\"zaxis\":{\"backgroundcolor\":\"#E5ECF6\",\"gridcolor\":\"white\",\"linecolor\":\"white\",\"showbackground\":true,\"ticks\":\"\",\"zerolinecolor\":\"white\",\"gridwidth\":2}},\"shapedefaults\":{\"line\":{\"color\":\"#2a3f5f\"}},\"annotationdefaults\":{\"arrowcolor\":\"#2a3f5f\",\"arrowhead\":0,\"arrowwidth\":1},\"geo\":{\"bgcolor\":\"white\",\"landcolor\":\"#E5ECF6\",\"subunitcolor\":\"white\",\"showland\":true,\"showlakes\":true,\"lakecolor\":\"white\"},\"title\":{\"x\":0.05},\"mapbox\":{\"style\":\"light\"}}},\"xaxis\":{\"anchor\":\"y\",\"domain\":[0.0,1.0],\"showticklabels\":false},\"yaxis\":{\"anchor\":\"x\",\"domain\":[0.0,1.0],\"showticklabels\":false},\"margin\":{\"t\":60}},                        {\"responsive\": true}                    ).then(function(){\n",
       "                            \n",
       "var gd = document.getElementById('b98608e1-4bc1-4203-837d-295694ec913d');\n",
       "var x = new MutationObserver(function (mutations, observer) {{\n",
       "        var display = window.getComputedStyle(gd).display;\n",
       "        if (!display || display === 'none') {{\n",
       "            console.log([gd, 'removed!']);\n",
       "            Plotly.purge(gd);\n",
       "            observer.disconnect();\n",
       "        }}\n",
       "}});\n",
       "\n",
       "// Listen for the removal of the full notebook cells\n",
       "var notebookContainer = gd.closest('#notebook-container');\n",
       "if (notebookContainer) {{\n",
       "    x.observe(notebookContainer, {childList: true});\n",
       "}}\n",
       "\n",
       "// Listen for the clearing of the current output cell\n",
       "var outputEl = gd.closest('.output');\n",
       "if (outputEl) {{\n",
       "    x.observe(outputEl, {childList: true});\n",
       "}}\n",
       "\n",
       "                        })                };                });            </script>        </div>"
      ]
     },
     "metadata": {},
     "output_type": "display_data"
    }
   ],
   "source": [
    "# Word cloud plot\n",
    "wordcloud = WordCloud(background_color='black', stopwords = stopwords, max_words = 20,\n",
    "                      colormap='viridis', collocations=False).generate(all_words)\n",
    "\n",
    "wordcloud_plot = px.imshow(wordcloud) \n",
    "# Remove labels on axes\n",
    "wordcloud_plot.update_xaxes(showticklabels=False)\n",
    "wordcloud_plot.update_yaxes(showticklabels=False)\n",
    "wordcloud_plot"
   ]
  },
  {
   "cell_type": "code",
   "execution_count": 102,
   "id": "c9c12424-e2aa-48b3-ae2f-1a8c1c3a47d7",
   "metadata": {},
   "outputs": [],
   "source": [
    "# Create interactive slider\n",
    "class Controller(param.Parameterized):\n",
    "    word_slider = param.Integer(30, bounds=(5, 50), step=5)\n",
    "\n",
    "controller = Controller()\n",
    "\n",
    "@pn.depends(controller.param.word_slider, watch=True)\n",
    "def update_wordcloud(num_words):\n",
    "    # Word cloud plot\n",
    "    wordcloud = WordCloud(background_color='black', stopwords = stopwords, max_words = num_words,\n",
    "                          colormap='viridis', collocations=False).generate(all_words)\n",
    "\n",
    "    wordcloud_plot = px.imshow(wordcloud) \n",
    "    # Remove labels on axes\n",
    "    wordcloud_plot.update_xaxes(showticklabels=False)\n",
    "    wordcloud_plot.update_yaxes(showticklabels=False)\n",
    "    return wordcloud_plot"
   ]
  },
  {
   "cell_type": "markdown",
   "id": "269224c2-3e18-4c7d-9057-d506ef6b5482",
   "metadata": {},
   "source": [
    "### 3) Auto chapter summary"
   ]
  },
  {
   "cell_type": "code",
   "execution_count": 103,
   "id": "15be9a4d-a1c2-446b-837d-a6b454eae3a6",
   "metadata": {
    "collapsed": true,
    "jupyter": {
     "outputs_hidden": true
    },
    "tags": []
   },
   "outputs": [
    {
     "data": {
      "text/plain": [
       "[{'summary': \"A friend offered to coach me in exchange for teaching him how to code. It's been almost ten years since I wrote my first line of code. This video is about the detailed plan that I wrote for him to teach me the basics of coding for data science.\",\n",
       "  'headline': 'A friend offered to coach me in exchange for teaching him how to code.',\n",
       "  'gist': 'How to start coding from nothing.',\n",
       "  'start': 250,\n",
       "  'end': 57666},\n",
       " {'summary': \"Python is more popular than R. For data scientists, it's more intuitive and flexible than R. It will be a more valuable skill to have for the job market in general and for the data science industry in particular. It is growing and will be more popular from 2020 to 2021.\",\n",
       "  'headline': 'Python is growing and will be more popular from 2020 to 2021.',\n",
       "  'gist': 'Python vs r for data scientists.',\n",
       "  'start': 57728,\n",
       "  'end': 128946},\n",
       " {'summary': 'After choosing Python as a programming language, the first thing to do is to choose the right environment for his friend to learn Python on. The most common ides for Python are Vs, code, jupyter, notebook, PyCharm and Spider. The video from Precocamp shows how to set up the PyCharm environment.',\n",
       "  'headline': 'After choosing python as a programming language, the first thing to do is to choose the right environment for his friend to learn. Python on.',\n",
       "  'gist': 'What coding skills should my friend learn first.',\n",
       "  'start': 129008,\n",
       "  'end': 272382},\n",
       " {'summary': \"There's a common misconception that learning to code is supposed to be really hard and scary. Coding languages, particularly Python, are designed to be as easy to use as possible while creating good results. At the most basic level, beginner coding can be broken down into seven concepts: data, types, variables, functions, lists, dictionaries, tuples, loops and libraries. This is a simple project, but it's relevant and useful to our work and our jujitsu training.\",\n",
       "  'headline': 'Coding languages, particularly Python, are designed to be as easy to use as possible while creating good results.',\n",
       "  'gist': 'Coding basics.',\n",
       "  'start': 272516,\n",
       "  'end': 522378},\n",
       " {'summary': 'After learning the basics of Python, you should do a datarelated project on Kagglecom to learn more about data. Anaconda is a software package that lumps together all the relevant Python libraries and ideas for data science in one go. Google and Stack overflow are the most important tools to learn Python.',\n",
       "  'headline': 'Anaconda is a software package that lumps together all the relevant Python libraries and ideas for data science.',\n",
       "  'gist': 'Now what to do.',\n",
       "  'start': 522464,\n",
       "  'end': 647470}]"
      ]
     },
     "execution_count": 103,
     "metadata": {},
     "output_type": "execute_result"
    }
   ],
   "source": [
    "chapters = data[\"chapters\"]\n",
    "chapters"
   ]
  },
  {
   "cell_type": "code",
   "execution_count": 104,
   "id": "bbf1a832-bea7-4bac-bd2c-ea2030397306",
   "metadata": {},
   "outputs": [
    {
     "data": {},
     "metadata": {},
     "output_type": "display_data"
    },
    {
     "data": {
      "application/vnd.holoviews_exec.v0+json": "",
      "text/html": [
       "<div id='5963'>\n",
       "  <div class=\"bk-root\" id=\"0c544526-d517-4682-bedf-7b65d657fc51\" data-root-id=\"5963\"></div>\n",
       "</div>\n",
       "<script type=\"application/javascript\">(function(root) {\n",
       "  function embed_document(root) {\n",
       "    var docs_json = {\"2dc8429e-b586-4a4a-ad6e-7dd764753d24\":{\"defs\":[{\"extends\":null,\"module\":null,\"name\":\"ReactiveHTML1\",\"overrides\":[],\"properties\":[]},{\"extends\":null,\"module\":null,\"name\":\"FlexBox1\",\"overrides\":[],\"properties\":[{\"default\":\"flex-start\",\"kind\":null,\"name\":\"align_content\"},{\"default\":\"flex-start\",\"kind\":null,\"name\":\"align_items\"},{\"default\":\"row\",\"kind\":null,\"name\":\"flex_direction\"},{\"default\":\"wrap\",\"kind\":null,\"name\":\"flex_wrap\"},{\"default\":\"flex-start\",\"kind\":null,\"name\":\"justify_content\"}]},{\"extends\":null,\"module\":null,\"name\":\"GridStack1\",\"overrides\":[],\"properties\":[{\"default\":\"warn\",\"kind\":null,\"name\":\"mode\"},{\"default\":null,\"kind\":null,\"name\":\"ncols\"},{\"default\":null,\"kind\":null,\"name\":\"nrows\"},{\"default\":true,\"kind\":null,\"name\":\"allow_resize\"},{\"default\":true,\"kind\":null,\"name\":\"allow_drag\"},{\"default\":[],\"kind\":null,\"name\":\"state\"}]},{\"extends\":null,\"module\":null,\"name\":\"click1\",\"overrides\":[],\"properties\":[{\"default\":\"\",\"kind\":null,\"name\":\"terminal_output\"},{\"default\":\"\",\"kind\":null,\"name\":\"debug_name\"},{\"default\":0,\"kind\":null,\"name\":\"clears\"}]},{\"extends\":null,\"module\":null,\"name\":\"NotificationAreaBase1\",\"overrides\":[],\"properties\":[{\"default\":\"bottom-right\",\"kind\":null,\"name\":\"position\"},{\"default\":0,\"kind\":null,\"name\":\"_clear\"}]},{\"extends\":null,\"module\":null,\"name\":\"NotificationArea1\",\"overrides\":[],\"properties\":[{\"default\":[],\"kind\":null,\"name\":\"notifications\"},{\"default\":\"bottom-right\",\"kind\":null,\"name\":\"position\"},{\"default\":0,\"kind\":null,\"name\":\"_clear\"},{\"default\":[{\"background\":\"#ffc107\",\"icon\":{\"className\":\"fas fa-exclamation-triangle\",\"color\":\"white\",\"tagName\":\"i\"},\"type\":\"warning\"},{\"background\":\"#007bff\",\"icon\":{\"className\":\"fas fa-info-circle\",\"color\":\"white\",\"tagName\":\"i\"},\"type\":\"info\"}],\"kind\":null,\"name\":\"types\"}]},{\"extends\":null,\"module\":null,\"name\":\"Notification\",\"overrides\":[],\"properties\":[{\"default\":null,\"kind\":null,\"name\":\"background\"},{\"default\":3000,\"kind\":null,\"name\":\"duration\"},{\"default\":null,\"kind\":null,\"name\":\"icon\"},{\"default\":\"\",\"kind\":null,\"name\":\"message\"},{\"default\":null,\"kind\":null,\"name\":\"notification_type\"},{\"default\":false,\"kind\":null,\"name\":\"_destroyed\"}]},{\"extends\":null,\"module\":null,\"name\":\"TemplateActions1\",\"overrides\":[],\"properties\":[{\"default\":0,\"kind\":null,\"name\":\"open_modal\"},{\"default\":0,\"kind\":null,\"name\":\"close_modal\"}]},{\"extends\":null,\"module\":null,\"name\":\"MaterialTemplateActions1\",\"overrides\":[],\"properties\":[{\"default\":0,\"kind\":null,\"name\":\"open_modal\"},{\"default\":0,\"kind\":null,\"name\":\"close_modal\"}]}],\"roots\":{\"references\":[{\"attributes\":{\"client_comm_id\":\"b4d171403e42448a92a794ae25b535f5\",\"comm_id\":\"77ee1c82898e40b1a0bbb78d842315af\",\"plot_id\":\"5963\"},\"id\":\"5964\",\"type\":\"panel.models.comm_manager.CommManager\"},{\"attributes\":{\"height_policy\":\"fit\",\"margin\":[5,10,5,10],\"name\":\"\",\"text\":\"A friend offered to coach me in exchange for teaching him how to code. It's been almost ten years since I wrote my first line of code. This video is about the detailed plan that I wrote for him to teach me the basics of coding for data science.\",\"width\":1000},\"id\":\"5963\",\"type\":\"Div\"}],\"root_ids\":[\"5963\",\"5964\"]},\"title\":\"Bokeh Application\",\"version\":\"2.4.3\"}};\n",
       "    var render_items = [{\"docid\":\"2dc8429e-b586-4a4a-ad6e-7dd764753d24\",\"root_ids\":[\"5963\"],\"roots\":{\"5963\":\"0c544526-d517-4682-bedf-7b65d657fc51\"}}];\n",
       "    root.Bokeh.embed.embed_items_notebook(docs_json, render_items);\n",
       "  }\n",
       "  if (root.Bokeh !== undefined && root.Bokeh.Panel !== undefined) {\n",
       "    embed_document(root);\n",
       "  } else {\n",
       "    var attempts = 0;\n",
       "    var timer = setInterval(function(root) {\n",
       "      if (root.Bokeh !== undefined && root.Bokeh.Panel !== undefined) {\n",
       "        clearInterval(timer);\n",
       "        embed_document(root);\n",
       "      } else if (document.readyState == \"complete\") {\n",
       "        attempts++;\n",
       "        if (attempts > 200) {\n",
       "          clearInterval(timer);\n",
       "          console.log(\"Bokeh: ERROR: Unable to run BokehJS code because BokehJS library is missing\");\n",
       "        }\n",
       "      }\n",
       "    }, 25, root)\n",
       "  }\n",
       "})(window);</script>"
      ],
      "text/plain": [
       "StaticText(height_policy='fit', value=\"A friend offered t..., width=1000)"
      ]
     },
     "execution_count": 104,
     "metadata": {
      "application/vnd.holoviews_exec.v0+json": {
       "id": "5963"
      }
     },
     "output_type": "execute_result"
    }
   ],
   "source": [
    "chapter_summary = pn.widgets.StaticText(value=chapters[0][\"summary\"], \n",
    "                                        width=1000, \n",
    "                                        height_policy = \"fit\")\n",
    "chapter_summary"
   ]
  },
  {
   "cell_type": "code",
   "execution_count": 105,
   "id": "e478acce-1b1b-49c2-b66d-859ee20c94d3",
   "metadata": {},
   "outputs": [
    {
     "data": {},
     "metadata": {},
     "output_type": "display_data"
    },
    {
     "data": {
      "application/vnd.holoviews_exec.v0+json": "",
      "text/html": [
       "<div id='5965'>\n",
       "  <div class=\"bk-root\" id=\"78392752-5aaa-4fb2-82c1-5241715945c7\" data-root-id=\"5965\"></div>\n",
       "</div>\n",
       "<script type=\"application/javascript\">(function(root) {\n",
       "  function embed_document(root) {\n",
       "    var docs_json = {\"40d77380-164b-444c-926f-5bf102bcd718\":{\"defs\":[{\"extends\":null,\"module\":null,\"name\":\"ReactiveHTML1\",\"overrides\":[],\"properties\":[]},{\"extends\":null,\"module\":null,\"name\":\"FlexBox1\",\"overrides\":[],\"properties\":[{\"default\":\"flex-start\",\"kind\":null,\"name\":\"align_content\"},{\"default\":\"flex-start\",\"kind\":null,\"name\":\"align_items\"},{\"default\":\"row\",\"kind\":null,\"name\":\"flex_direction\"},{\"default\":\"wrap\",\"kind\":null,\"name\":\"flex_wrap\"},{\"default\":\"flex-start\",\"kind\":null,\"name\":\"justify_content\"}]},{\"extends\":null,\"module\":null,\"name\":\"GridStack1\",\"overrides\":[],\"properties\":[{\"default\":\"warn\",\"kind\":null,\"name\":\"mode\"},{\"default\":null,\"kind\":null,\"name\":\"ncols\"},{\"default\":null,\"kind\":null,\"name\":\"nrows\"},{\"default\":true,\"kind\":null,\"name\":\"allow_resize\"},{\"default\":true,\"kind\":null,\"name\":\"allow_drag\"},{\"default\":[],\"kind\":null,\"name\":\"state\"}]},{\"extends\":null,\"module\":null,\"name\":\"click1\",\"overrides\":[],\"properties\":[{\"default\":\"\",\"kind\":null,\"name\":\"terminal_output\"},{\"default\":\"\",\"kind\":null,\"name\":\"debug_name\"},{\"default\":0,\"kind\":null,\"name\":\"clears\"}]},{\"extends\":null,\"module\":null,\"name\":\"NotificationAreaBase1\",\"overrides\":[],\"properties\":[{\"default\":\"bottom-right\",\"kind\":null,\"name\":\"position\"},{\"default\":0,\"kind\":null,\"name\":\"_clear\"}]},{\"extends\":null,\"module\":null,\"name\":\"NotificationArea1\",\"overrides\":[],\"properties\":[{\"default\":[],\"kind\":null,\"name\":\"notifications\"},{\"default\":\"bottom-right\",\"kind\":null,\"name\":\"position\"},{\"default\":0,\"kind\":null,\"name\":\"_clear\"},{\"default\":[{\"background\":\"#ffc107\",\"icon\":{\"className\":\"fas fa-exclamation-triangle\",\"color\":\"white\",\"tagName\":\"i\"},\"type\":\"warning\"},{\"background\":\"#007bff\",\"icon\":{\"className\":\"fas fa-info-circle\",\"color\":\"white\",\"tagName\":\"i\"},\"type\":\"info\"}],\"kind\":null,\"name\":\"types\"}]},{\"extends\":null,\"module\":null,\"name\":\"Notification\",\"overrides\":[],\"properties\":[{\"default\":null,\"kind\":null,\"name\":\"background\"},{\"default\":3000,\"kind\":null,\"name\":\"duration\"},{\"default\":null,\"kind\":null,\"name\":\"icon\"},{\"default\":\"\",\"kind\":null,\"name\":\"message\"},{\"default\":null,\"kind\":null,\"name\":\"notification_type\"},{\"default\":false,\"kind\":null,\"name\":\"_destroyed\"}]},{\"extends\":null,\"module\":null,\"name\":\"TemplateActions1\",\"overrides\":[],\"properties\":[{\"default\":0,\"kind\":null,\"name\":\"open_modal\"},{\"default\":0,\"kind\":null,\"name\":\"close_modal\"}]},{\"extends\":null,\"module\":null,\"name\":\"MaterialTemplateActions1\",\"overrides\":[],\"properties\":[{\"default\":0,\"kind\":null,\"name\":\"open_modal\"},{\"default\":0,\"kind\":null,\"name\":\"close_modal\"}]}],\"roots\":{\"references\":[{\"attributes\":{\"client_comm_id\":\"8fe19904ab3f416392d6e9af83def1ed\",\"comm_id\":\"120b799aa03b41aebecaa06c226d01e3\",\"plot_id\":\"5965\"},\"id\":\"5966\",\"type\":\"panel.models.comm_manager.CommManager\"},{\"attributes\":{\"button_type\":\"primary\",\"icon\":null,\"label\":\"0\",\"margin\":[5,10,5,10],\"subscribed_events\":[\"button_click\"]},\"id\":\"5965\",\"type\":\"Button\"}],\"root_ids\":[\"5965\",\"5966\"]},\"title\":\"Bokeh Application\",\"version\":\"2.4.3\"}};\n",
       "    var render_items = [{\"docid\":\"40d77380-164b-444c-926f-5bf102bcd718\",\"root_ids\":[\"5965\"],\"roots\":{\"5965\":\"78392752-5aaa-4fb2-82c1-5241715945c7\"}}];\n",
       "    root.Bokeh.embed.embed_items_notebook(docs_json, render_items);\n",
       "  }\n",
       "  if (root.Bokeh !== undefined && root.Bokeh.Panel !== undefined) {\n",
       "    embed_document(root);\n",
       "  } else {\n",
       "    var attempts = 0;\n",
       "    var timer = setInterval(function(root) {\n",
       "      if (root.Bokeh !== undefined && root.Bokeh.Panel !== undefined) {\n",
       "        clearInterval(timer);\n",
       "        embed_document(root);\n",
       "      } else if (document.readyState == \"complete\") {\n",
       "        attempts++;\n",
       "        if (attempts > 200) {\n",
       "          clearInterval(timer);\n",
       "          console.log(\"Bokeh: ERROR: Unable to run BokehJS code because BokehJS library is missing\");\n",
       "        }\n",
       "      }\n",
       "    }, 25, root)\n",
       "  }\n",
       "})(window);</script>"
      ],
      "text/plain": [
       "Button(button_type='primary', name='0')"
      ]
     },
     "execution_count": 105,
     "metadata": {
      "application/vnd.holoviews_exec.v0+json": {
       "id": "5965"
      }
     },
     "output_type": "execute_result"
    }
   ],
   "source": [
    "button = pn.widgets.Button(name=str(int(chapters[0][\"start\"]/1000)), button_type='primary')\n",
    "button"
   ]
  },
  {
   "cell_type": "code",
   "execution_count": 106,
   "id": "83a2a566-0215-432e-b551-4586cb17eb91",
   "metadata": {},
   "outputs": [
    {
     "data": {},
     "metadata": {},
     "output_type": "display_data"
    },
    {
     "data": {
      "application/vnd.holoviews_exec.v0+json": "",
      "text/html": [
       "<div id='5967'>\n",
       "  <div class=\"bk-root\" id=\"a2b43a60-6328-4e69-bdc6-11324ce6bd00\" data-root-id=\"5967\"></div>\n",
       "</div>\n",
       "<script type=\"application/javascript\">(function(root) {\n",
       "  function embed_document(root) {\n",
       "    var docs_json = {\"00c22bea-529a-434f-8279-8fb266279e77\":{\"defs\":[{\"extends\":null,\"module\":null,\"name\":\"ReactiveHTML1\",\"overrides\":[],\"properties\":[]},{\"extends\":null,\"module\":null,\"name\":\"FlexBox1\",\"overrides\":[],\"properties\":[{\"default\":\"flex-start\",\"kind\":null,\"name\":\"align_content\"},{\"default\":\"flex-start\",\"kind\":null,\"name\":\"align_items\"},{\"default\":\"row\",\"kind\":null,\"name\":\"flex_direction\"},{\"default\":\"wrap\",\"kind\":null,\"name\":\"flex_wrap\"},{\"default\":\"flex-start\",\"kind\":null,\"name\":\"justify_content\"}]},{\"extends\":null,\"module\":null,\"name\":\"GridStack1\",\"overrides\":[],\"properties\":[{\"default\":\"warn\",\"kind\":null,\"name\":\"mode\"},{\"default\":null,\"kind\":null,\"name\":\"ncols\"},{\"default\":null,\"kind\":null,\"name\":\"nrows\"},{\"default\":true,\"kind\":null,\"name\":\"allow_resize\"},{\"default\":true,\"kind\":null,\"name\":\"allow_drag\"},{\"default\":[],\"kind\":null,\"name\":\"state\"}]},{\"extends\":null,\"module\":null,\"name\":\"click1\",\"overrides\":[],\"properties\":[{\"default\":\"\",\"kind\":null,\"name\":\"terminal_output\"},{\"default\":\"\",\"kind\":null,\"name\":\"debug_name\"},{\"default\":0,\"kind\":null,\"name\":\"clears\"}]},{\"extends\":null,\"module\":null,\"name\":\"NotificationAreaBase1\",\"overrides\":[],\"properties\":[{\"default\":\"bottom-right\",\"kind\":null,\"name\":\"position\"},{\"default\":0,\"kind\":null,\"name\":\"_clear\"}]},{\"extends\":null,\"module\":null,\"name\":\"NotificationArea1\",\"overrides\":[],\"properties\":[{\"default\":[],\"kind\":null,\"name\":\"notifications\"},{\"default\":\"bottom-right\",\"kind\":null,\"name\":\"position\"},{\"default\":0,\"kind\":null,\"name\":\"_clear\"},{\"default\":[{\"background\":\"#ffc107\",\"icon\":{\"className\":\"fas fa-exclamation-triangle\",\"color\":\"white\",\"tagName\":\"i\"},\"type\":\"warning\"},{\"background\":\"#007bff\",\"icon\":{\"className\":\"fas fa-info-circle\",\"color\":\"white\",\"tagName\":\"i\"},\"type\":\"info\"}],\"kind\":null,\"name\":\"types\"}]},{\"extends\":null,\"module\":null,\"name\":\"Notification\",\"overrides\":[],\"properties\":[{\"default\":null,\"kind\":null,\"name\":\"background\"},{\"default\":3000,\"kind\":null,\"name\":\"duration\"},{\"default\":null,\"kind\":null,\"name\":\"icon\"},{\"default\":\"\",\"kind\":null,\"name\":\"message\"},{\"default\":null,\"kind\":null,\"name\":\"notification_type\"},{\"default\":false,\"kind\":null,\"name\":\"_destroyed\"}]},{\"extends\":null,\"module\":null,\"name\":\"TemplateActions1\",\"overrides\":[],\"properties\":[{\"default\":0,\"kind\":null,\"name\":\"open_modal\"},{\"default\":0,\"kind\":null,\"name\":\"close_modal\"}]},{\"extends\":null,\"module\":null,\"name\":\"MaterialTemplateActions1\",\"overrides\":[],\"properties\":[{\"default\":0,\"kind\":null,\"name\":\"open_modal\"},{\"default\":0,\"kind\":null,\"name\":\"close_modal\"}]}],\"roots\":{\"references\":[{\"attributes\":{\"margin\":[5,5,5,5],\"paused\":true,\"value\":\"https://github.com/thu-vu92/audio_analyzer_assemblyai/blob/main/How_I_Would_Learn_to_Code.mp3?raw=true\"},\"id\":\"5967\",\"type\":\"panel.models.widgets.Audio\"},{\"attributes\":{\"client_comm_id\":\"9c7d14ee66024ed2b85c843d48ba8752\",\"comm_id\":\"fa269414e11048ebb64fa5d88d89b626\",\"plot_id\":\"5967\"},\"id\":\"5968\",\"type\":\"panel.models.comm_manager.CommManager\"}],\"root_ids\":[\"5967\",\"5968\"]},\"title\":\"Bokeh Application\",\"version\":\"2.4.3\"}};\n",
       "    var render_items = [{\"docid\":\"00c22bea-529a-434f-8279-8fb266279e77\",\"root_ids\":[\"5967\"],\"roots\":{\"5967\":\"a2b43a60-6328-4e69-bdc6-11324ce6bd00\"}}];\n",
       "    root.Bokeh.embed.embed_items_notebook(docs_json, render_items);\n",
       "  }\n",
       "  if (root.Bokeh !== undefined && root.Bokeh.Panel !== undefined) {\n",
       "    embed_document(root);\n",
       "  } else {\n",
       "    var attempts = 0;\n",
       "    var timer = setInterval(function(root) {\n",
       "      if (root.Bokeh !== undefined && root.Bokeh.Panel !== undefined) {\n",
       "        clearInterval(timer);\n",
       "        embed_document(root);\n",
       "      } else if (document.readyState == \"complete\") {\n",
       "        attempts++;\n",
       "        if (attempts > 200) {\n",
       "          clearInterval(timer);\n",
       "          console.log(\"Bokeh: ERROR: Unable to run BokehJS code because BokehJS library is missing\");\n",
       "        }\n",
       "      }\n",
       "    }, 25, root)\n",
       "  }\n",
       "})(window);</script>"
      ],
      "text/plain": [
       "Audio(str)"
      ]
     },
     "execution_count": 106,
     "metadata": {
      "application/vnd.holoviews_exec.v0+json": {
       "id": "5967"
      }
     },
     "output_type": "execute_result"
    }
   ],
   "source": [
    "chapter_audio = pn.pane.Audio(audio_url, name='Audio', time = round(chapters[0][\"start\"]/1000))\n",
    "chapter_audio"
   ]
  },
  {
   "cell_type": "code",
   "execution_count": 107,
   "id": "f471ed4d-30e8-4093-9755-be08ea5787e5",
   "metadata": {},
   "outputs": [
    {
     "data": {},
     "metadata": {},
     "output_type": "display_data"
    },
    {
     "data": {
      "application/vnd.holoviews_exec.v0+json": "",
      "text/html": [
       "<div id='5969'>\n",
       "  <div class=\"bk-root\" id=\"6b6e51f6-b9a6-468a-b811-06acc66f5039\" data-root-id=\"5969\"></div>\n",
       "</div>\n",
       "<script type=\"application/javascript\">(function(root) {\n",
       "  function embed_document(root) {\n",
       "    var docs_json = {\"e957176e-9eef-425f-b219-78a935848f0c\":{\"defs\":[{\"extends\":null,\"module\":null,\"name\":\"ReactiveHTML1\",\"overrides\":[],\"properties\":[]},{\"extends\":null,\"module\":null,\"name\":\"FlexBox1\",\"overrides\":[],\"properties\":[{\"default\":\"flex-start\",\"kind\":null,\"name\":\"align_content\"},{\"default\":\"flex-start\",\"kind\":null,\"name\":\"align_items\"},{\"default\":\"row\",\"kind\":null,\"name\":\"flex_direction\"},{\"default\":\"wrap\",\"kind\":null,\"name\":\"flex_wrap\"},{\"default\":\"flex-start\",\"kind\":null,\"name\":\"justify_content\"}]},{\"extends\":null,\"module\":null,\"name\":\"GridStack1\",\"overrides\":[],\"properties\":[{\"default\":\"warn\",\"kind\":null,\"name\":\"mode\"},{\"default\":null,\"kind\":null,\"name\":\"ncols\"},{\"default\":null,\"kind\":null,\"name\":\"nrows\"},{\"default\":true,\"kind\":null,\"name\":\"allow_resize\"},{\"default\":true,\"kind\":null,\"name\":\"allow_drag\"},{\"default\":[],\"kind\":null,\"name\":\"state\"}]},{\"extends\":null,\"module\":null,\"name\":\"click1\",\"overrides\":[],\"properties\":[{\"default\":\"\",\"kind\":null,\"name\":\"terminal_output\"},{\"default\":\"\",\"kind\":null,\"name\":\"debug_name\"},{\"default\":0,\"kind\":null,\"name\":\"clears\"}]},{\"extends\":null,\"module\":null,\"name\":\"NotificationAreaBase1\",\"overrides\":[],\"properties\":[{\"default\":\"bottom-right\",\"kind\":null,\"name\":\"position\"},{\"default\":0,\"kind\":null,\"name\":\"_clear\"}]},{\"extends\":null,\"module\":null,\"name\":\"NotificationArea1\",\"overrides\":[],\"properties\":[{\"default\":[],\"kind\":null,\"name\":\"notifications\"},{\"default\":\"bottom-right\",\"kind\":null,\"name\":\"position\"},{\"default\":0,\"kind\":null,\"name\":\"_clear\"},{\"default\":[{\"background\":\"#ffc107\",\"icon\":{\"className\":\"fas fa-exclamation-triangle\",\"color\":\"white\",\"tagName\":\"i\"},\"type\":\"warning\"},{\"background\":\"#007bff\",\"icon\":{\"className\":\"fas fa-info-circle\",\"color\":\"white\",\"tagName\":\"i\"},\"type\":\"info\"}],\"kind\":null,\"name\":\"types\"}]},{\"extends\":null,\"module\":null,\"name\":\"Notification\",\"overrides\":[],\"properties\":[{\"default\":null,\"kind\":null,\"name\":\"background\"},{\"default\":3000,\"kind\":null,\"name\":\"duration\"},{\"default\":null,\"kind\":null,\"name\":\"icon\"},{\"default\":\"\",\"kind\":null,\"name\":\"message\"},{\"default\":null,\"kind\":null,\"name\":\"notification_type\"},{\"default\":false,\"kind\":null,\"name\":\"_destroyed\"}]},{\"extends\":null,\"module\":null,\"name\":\"TemplateActions1\",\"overrides\":[],\"properties\":[{\"default\":0,\"kind\":null,\"name\":\"open_modal\"},{\"default\":0,\"kind\":null,\"name\":\"close_modal\"}]},{\"extends\":null,\"module\":null,\"name\":\"MaterialTemplateActions1\",\"overrides\":[],\"properties\":[{\"default\":0,\"kind\":null,\"name\":\"open_modal\"},{\"default\":0,\"kind\":null,\"name\":\"close_modal\"}]}],\"roots\":{\"references\":[{\"attributes\":{\"children\":[{\"id\":\"6001\"}],\"margin\":[0,0,0,0],\"name\":\"Column02276\"},\"id\":\"6000\",\"type\":\"Column\"},{\"attributes\":{\"children\":[{\"id\":\"5982\"}],\"margin\":[0,0,0,0],\"name\":\"Column02253\"},\"id\":\"5981\",\"type\":\"Column\"},{\"attributes\":{\"button_type\":\"primary\",\"icon\":null,\"label\":\"522\",\"margin\":[5,10,5,10],\"min_width\":60,\"subscribed_events\":[\"button_click\"],\"width\":60},\"id\":\"6001\",\"type\":\"Button\"},{\"attributes\":{\"height_policy\":\"fit\",\"margin\":[5,10,5,10],\"name\":\"\",\"text\":\"Python is more popular than R. For data scientists, it's more intuitive and flexible than R. It will be a more valuable skill to have for the job market in general and for the data science industry in particular. It is growing and will be more popular from 2020 to 2021.\",\"width\":1000},\"id\":\"5984\",\"type\":\"Div\"},{\"attributes\":{\"children\":[{\"id\":\"5984\"}],\"margin\":[0,0,0,0],\"name\":\"Column02254\"},\"id\":\"5983\",\"type\":\"Column\"},{\"attributes\":{\"children\":[{\"id\":\"5987\"}],\"margin\":[0,0,0,0],\"name\":\"Column02260\"},\"id\":\"5986\",\"type\":\"Column\"},{\"attributes\":{\"button_type\":\"primary\",\"icon\":null,\"label\":\"129\",\"margin\":[5,10,5,10],\"min_width\":60,\"subscribed_events\":[\"button_click\"],\"width\":60},\"id\":\"5987\",\"type\":\"Button\"},{\"attributes\":{\"children\":[{\"id\":\"6003\"}],\"margin\":[0,0,0,0],\"name\":\"Column02277\"},\"id\":\"6002\",\"type\":\"Column\"},{\"attributes\":{\"children\":[{\"id\":\"5986\"},{\"id\":\"5988\"},{\"id\":\"5990\"}],\"margin\":[0,0,0,0],\"name\":\"Row02263\"},\"id\":\"5985\",\"type\":\"Row\"},{\"attributes\":{\"height_policy\":\"fit\",\"margin\":[5,10,5,10],\"name\":\"\",\"text\":\"After learning the basics of Python, you should do a datarelated project on Kagglecom to learn more about data. Anaconda is a software package that lumps together all the relevant Python libraries and ideas for data science in one go. Google and Stack overflow are the most important tools to learn Python.\",\"width\":1000},\"id\":\"6005\",\"type\":\"Div\"},{\"attributes\":{\"children\":[{\"id\":\"6005\"}],\"margin\":[0,0,0,0],\"name\":\"Column02278\"},\"id\":\"6004\",\"type\":\"Column\"},{\"attributes\":{\"children\":[{\"id\":\"5972\"},{\"id\":\"5974\"},{\"id\":\"5976\"}],\"margin\":[0,0,0,0],\"name\":\"Row02247\"},\"id\":\"5971\",\"type\":\"Row\"},{\"attributes\":{\"children\":[{\"id\":\"5989\"}],\"margin\":[0,0,0,0],\"name\":\"Column02261\"},\"id\":\"5988\",\"type\":\"Column\"},{\"attributes\":{\"margin\":[5,5,5,5],\"paused\":true,\"time\":129,\"value\":\"https://github.com/thu-vu92/audio_analyzer_assemblyai/blob/main/How_I_Would_Learn_to_Code.mp3?raw=true\"},\"id\":\"5989\",\"type\":\"panel.models.widgets.Audio\"},{\"attributes\":{\"children\":[{\"id\":\"5973\"}],\"margin\":[0,0,0,0],\"name\":\"Column02244\"},\"id\":\"5972\",\"type\":\"Column\"},{\"attributes\":{\"margin\":[5,5,5,5],\"paused\":true,\"time\":273,\"value\":\"https://github.com/thu-vu92/audio_analyzer_assemblyai/blob/main/How_I_Would_Learn_to_Code.mp3?raw=true\"},\"id\":\"5996\",\"type\":\"panel.models.widgets.Audio\"},{\"attributes\":{\"margin\":[5,5,5,5],\"paused\":true,\"time\":58,\"value\":\"https://github.com/thu-vu92/audio_analyzer_assemblyai/blob/main/How_I_Would_Learn_to_Code.mp3?raw=true\"},\"id\":\"5982\",\"type\":\"panel.models.widgets.Audio\"},{\"attributes\":{\"children\":[{\"id\":\"6000\"},{\"id\":\"6002\"},{\"id\":\"6004\"}],\"margin\":[0,0,0,0],\"name\":\"Row02279\"},\"id\":\"5999\",\"type\":\"Row\"},{\"attributes\":{\"height_policy\":\"fit\",\"margin\":[5,10,5,10],\"name\":\"\",\"text\":\"After choosing Python as a programming language, the first thing to do is to choose the right environment for his friend to learn Python on. The most common ides for Python are Vs, code, jupyter, notebook, PyCharm and Spider. The video from Precocamp shows how to set up the PyCharm environment.\",\"width\":1000},\"id\":\"5991\",\"type\":\"Div\"},{\"attributes\":{\"button_type\":\"primary\",\"icon\":null,\"label\":\"0\",\"margin\":[5,10,5,10],\"min_width\":60,\"subscribed_events\":[\"button_click\"],\"width\":60},\"id\":\"5973\",\"type\":\"Button\"},{\"attributes\":{\"children\":[{\"id\":\"5991\"}],\"margin\":[0,0,0,0],\"name\":\"Column02262\"},\"id\":\"5990\",\"type\":\"Column\"},{\"attributes\":{\"children\":[{\"id\":\"5994\"}],\"margin\":[0,0,0,0],\"name\":\"Column02268\"},\"id\":\"5993\",\"type\":\"Column\"},{\"attributes\":{\"button_type\":\"primary\",\"icon\":null,\"label\":\"272\",\"margin\":[5,10,5,10],\"min_width\":60,\"subscribed_events\":[\"button_click\"],\"width\":60},\"id\":\"5994\",\"type\":\"Button\"},{\"attributes\":{\"children\":[{\"id\":\"5993\"},{\"id\":\"5995\"},{\"id\":\"5997\"}],\"margin\":[0,0,0,0],\"name\":\"Row02271\"},\"id\":\"5992\",\"type\":\"Row\"},{\"attributes\":{\"children\":[{\"id\":\"5975\"}],\"margin\":[0,0,0,0],\"name\":\"Column02245\"},\"id\":\"5974\",\"type\":\"Column\"},{\"attributes\":{\"client_comm_id\":\"389fba4df17a42bfaff29b822ad26097\",\"comm_id\":\"fecda04452764217bd9c8734b455e32f\",\"plot_id\":\"5969\"},\"id\":\"6006\",\"type\":\"panel.models.comm_manager.CommManager\"},{\"attributes\":{\"children\":[{\"id\":\"5977\"}],\"margin\":[0,0,0,0],\"name\":\"Column02246\"},\"id\":\"5976\",\"type\":\"Column\"},{\"attributes\":{\"margin\":[5,5,5,5],\"paused\":true,\"time\":522,\"value\":\"https://github.com/thu-vu92/audio_analyzer_assemblyai/blob/main/How_I_Would_Learn_to_Code.mp3?raw=true\"},\"id\":\"6003\",\"type\":\"panel.models.widgets.Audio\"},{\"attributes\":{\"height_policy\":\"fit\",\"margin\":[5,10,5,10],\"name\":\"\",\"text\":\"A friend offered to coach me in exchange for teaching him how to code. It's been almost ten years since I wrote my first line of code. This video is about the detailed plan that I wrote for him to teach me the basics of coding for data science.\",\"width\":1000},\"id\":\"5977\",\"type\":\"Div\"},{\"attributes\":{\"css_classes\":[\"markdown\"],\"margin\":[5,5,5,5],\"name\":\"Markdown02237\",\"text\":\"&lt;h3&gt;Auto Chapter Summary&lt;/h3&gt;\"},\"id\":\"5970\",\"type\":\"panel.models.markup.HTML\"},{\"attributes\":{\"children\":[{\"id\":\"5980\"}],\"margin\":[0,0,0,0],\"name\":\"Column02252\"},\"id\":\"5979\",\"type\":\"Column\"},{\"attributes\":{\"children\":[{\"id\":\"5996\"}],\"margin\":[0,0,0,0],\"name\":\"Column02269\"},\"id\":\"5995\",\"type\":\"Column\"},{\"attributes\":{\"button_type\":\"primary\",\"icon\":null,\"label\":\"57\",\"margin\":[5,10,5,10],\"min_width\":60,\"subscribed_events\":[\"button_click\"],\"width\":60},\"id\":\"5980\",\"type\":\"Button\"},{\"attributes\":{\"children\":[{\"id\":\"5979\"},{\"id\":\"5981\"},{\"id\":\"5983\"}],\"margin\":[0,0,0,0],\"name\":\"Row02255\"},\"id\":\"5978\",\"type\":\"Row\"},{\"attributes\":{\"height_policy\":\"fit\",\"margin\":[5,10,5,10],\"name\":\"\",\"text\":\"There's a common misconception that learning to code is supposed to be really hard and scary. Coding languages, particularly Python, are designed to be as easy to use as possible while creating good results. At the most basic level, beginner coding can be broken down into seven concepts: data, types, variables, functions, lists, dictionaries, tuples, loops and libraries. This is a simple project, but it's relevant and useful to our work and our jujitsu training.\",\"width\":1000},\"id\":\"5998\",\"type\":\"Div\"},{\"attributes\":{\"children\":[{\"id\":\"5970\"},{\"id\":\"5971\"},{\"id\":\"5978\"},{\"id\":\"5985\"},{\"id\":\"5992\"},{\"id\":\"5999\"}],\"margin\":[0,0,0,0],\"name\":\"Column02239\"},\"id\":\"5969\",\"type\":\"Column\"},{\"attributes\":{\"children\":[{\"id\":\"5998\"}],\"margin\":[0,0,0,0],\"name\":\"Column02270\"},\"id\":\"5997\",\"type\":\"Column\"},{\"attributes\":{\"margin\":[5,5,5,5],\"paused\":true,\"value\":\"https://github.com/thu-vu92/audio_analyzer_assemblyai/blob/main/How_I_Would_Learn_to_Code.mp3?raw=true\"},\"id\":\"5975\",\"type\":\"panel.models.widgets.Audio\"}],\"root_ids\":[\"5969\",\"6006\"]},\"title\":\"Bokeh Application\",\"version\":\"2.4.3\"}};\n",
       "    var render_items = [{\"docid\":\"e957176e-9eef-425f-b219-78a935848f0c\",\"root_ids\":[\"5969\"],\"roots\":{\"5969\":\"6b6e51f6-b9a6-468a-b811-06acc66f5039\"}}];\n",
       "    root.Bokeh.embed.embed_items_notebook(docs_json, render_items);\n",
       "  }\n",
       "  if (root.Bokeh !== undefined && root.Bokeh.Panel !== undefined) {\n",
       "    embed_document(root);\n",
       "  } else {\n",
       "    var attempts = 0;\n",
       "    var timer = setInterval(function(root) {\n",
       "      if (root.Bokeh !== undefined && root.Bokeh.Panel !== undefined) {\n",
       "        clearInterval(timer);\n",
       "        embed_document(root);\n",
       "      } else if (document.readyState == \"complete\") {\n",
       "        attempts++;\n",
       "        if (attempts > 200) {\n",
       "          clearInterval(timer);\n",
       "          console.log(\"Bokeh: ERROR: Unable to run BokehJS code because BokehJS library is missing\");\n",
       "        }\n",
       "      }\n",
       "    }, 25, root)\n",
       "  }\n",
       "})(window);</script>"
      ],
      "text/plain": [
       "Column\n",
       "    [0] Markdown(str)\n",
       "    [1] Row\n",
       "        [0] Column\n",
       "            [0] Button(button_type='primary', name='0', width=60)\n",
       "        [1] Column\n",
       "            [0] Audio(str)\n",
       "        [2] Column\n",
       "            [0] StaticText(height_policy='fit', value=\"A friend offered t..., width=1000)\n",
       "    [2] Row\n",
       "        [0] Column\n",
       "            [0] Button(button_type='primary', name='57', width=60)\n",
       "        [1] Column\n",
       "            [0] Audio(str, time=58)\n",
       "        [2] Column\n",
       "            [0] StaticText(height_policy='fit', value=\"Python is more popular th..., width=1000)\n",
       "    [3] Row\n",
       "        [0] Column\n",
       "            [0] Button(button_type='primary', name='129', width=60)\n",
       "        [1] Column\n",
       "            [0] Audio(str, time=129)\n",
       "        [2] Column\n",
       "            [0] StaticText(height_policy='fit', value='After choosing Python as ..., width=1000)\n",
       "    [4] Row\n",
       "        [0] Column\n",
       "            [0] Button(button_type='primary', name='272', width=60)\n",
       "        [1] Column\n",
       "            [0] Audio(str, time=273)\n",
       "        [2] Column\n",
       "            [0] StaticText(height_policy='fit', value=\"There's a common misconce..., width=1000)\n",
       "    [5] Row\n",
       "        [0] Column\n",
       "            [0] Button(button_type='primary', name='522', width=60)\n",
       "        [1] Column\n",
       "            [0] Audio(str, time=522)\n",
       "        [2] Column\n",
       "            [0] StaticText(height_policy='fit', value='After learning the basics..., width=1000)"
      ]
     },
     "execution_count": 107,
     "metadata": {
      "application/vnd.holoviews_exec.v0+json": {
       "id": "5969"
      }
     },
     "output_type": "execute_result"
    }
   ],
   "source": [
    "# Create chapter summary layout\n",
    "chapters_layout = pn.Column(pn.pane.Markdown(\"### Auto Chapter Summary\"))\n",
    "\n",
    "class ButtonAudio():\n",
    "    def __init__(self, start_time):\n",
    "        self.start_time = start_time\n",
    "        self.button = pn.widgets.Button(name=str(int(self.start_time/1000)), button_type='primary', width=60)\n",
    "        self.chapter_audio = pn.pane.Audio(audio_url, name='Audio', time = round(self.start_time/1000))\n",
    "        self.button.on_click(self.move_audio_head)\n",
    "\n",
    "    def move_audio_head(self, event):\n",
    "        self.chapter_audio.time = self.start_time/1000\n",
    "        \n",
    "for chapter in chapters:\n",
    "    chapter_summary = pn.widgets.StaticText(value=chapter[\"summary\"], width=1000, height_policy = \"fit\")\n",
    "    button_audio = ButtonAudio(chapter[\"start\"])\n",
    "    button = button_audio.button\n",
    "    chapter_audio = button_audio.chapter_audio\n",
    "    chapters_layout.append(pn.Row(pn.Column(button), pn.Column(chapter_audio), pn.Column(chapter_summary)))\n",
    "    \n",
    "chapters_layout"
   ]
  },
  {
   "cell_type": "markdown",
   "id": "fa0e091d-0488-4a4d-bc00-4beee0e2fd85",
   "metadata": {},
   "source": [
    "### 4) Auto highlights"
   ]
  },
  {
   "cell_type": "code",
   "execution_count": 108,
   "id": "df787a6f-85a7-47cf-a03f-36c2d0e86a92",
   "metadata": {
    "tags": []
   },
   "outputs": [
    {
     "data": {
      "text/html": [
       "<div>\n",
       "<style scoped>\n",
       "    .dataframe tbody tr th:only-of-type {\n",
       "        vertical-align: middle;\n",
       "    }\n",
       "\n",
       "    .dataframe tbody tr th {\n",
       "        vertical-align: top;\n",
       "    }\n",
       "\n",
       "    .dataframe thead th {\n",
       "        text-align: right;\n",
       "    }\n",
       "</style>\n",
       "<table border=\"1\" class=\"dataframe\">\n",
       "  <thead>\n",
       "    <tr style=\"text-align: right;\">\n",
       "      <th></th>\n",
       "      <th>count</th>\n",
       "      <th>rank</th>\n",
       "      <th>text</th>\n",
       "      <th>timestamps</th>\n",
       "    </tr>\n",
       "  </thead>\n",
       "  <tbody>\n",
       "    <tr>\n",
       "      <th>0</th>\n",
       "      <td>1</td>\n",
       "      <td>0.07</td>\n",
       "      <td>Python code</td>\n",
       "      <td>[{'start': 270164, 'end': 270870}]</td>\n",
       "    </tr>\n",
       "    <tr>\n",
       "      <th>1</th>\n",
       "      <td>7</td>\n",
       "      <td>0.06</td>\n",
       "      <td>data science</td>\n",
       "      <td>[{'start': 33404, 'end': 33934}, {'start': 679...</td>\n",
       "    </tr>\n",
       "    <tr>\n",
       "      <th>2</th>\n",
       "      <td>1</td>\n",
       "      <td>0.06</td>\n",
       "      <td>data science learning</td>\n",
       "      <td>[{'start': 88916, 'end': 89730}]</td>\n",
       "    </tr>\n",
       "    <tr>\n",
       "      <th>3</th>\n",
       "      <td>1</td>\n",
       "      <td>0.06</td>\n",
       "      <td>tangible data science skills</td>\n",
       "      <td>[{'start': 470132, 'end': 471394}]</td>\n",
       "    </tr>\n",
       "    <tr>\n",
       "      <th>4</th>\n",
       "      <td>1</td>\n",
       "      <td>0.05</td>\n",
       "      <td>different data structures</td>\n",
       "      <td>[{'start': 329504, 'end': 330478}]</td>\n",
       "    </tr>\n",
       "    <tr>\n",
       "      <th>5</th>\n",
       "      <td>1</td>\n",
       "      <td>0.05</td>\n",
       "      <td>other great videos</td>\n",
       "      <td>[{'start': 38756, 'end': 39522}]</td>\n",
       "    </tr>\n",
       "    <tr>\n",
       "      <th>6</th>\n",
       "      <td>1</td>\n",
       "      <td>0.05</td>\n",
       "      <td>data types</td>\n",
       "      <td>[{'start': 323264, 'end': 323986}]</td>\n",
       "    </tr>\n",
       "    <tr>\n",
       "      <th>7</th>\n",
       "      <td>1</td>\n",
       "      <td>0.05</td>\n",
       "      <td>data frames</td>\n",
       "      <td>[{'start': 412388, 'end': 412930}]</td>\n",
       "    </tr>\n",
       "    <tr>\n",
       "      <th>8</th>\n",
       "      <td>2</td>\n",
       "      <td>0.05</td>\n",
       "      <td>Data scientists</td>\n",
       "      <td>[{'start': 100412, 'end': 101146}, {'start': 1...</td>\n",
       "    </tr>\n",
       "    <tr>\n",
       "      <th>9</th>\n",
       "      <td>2</td>\n",
       "      <td>0.05</td>\n",
       "      <td>other people</td>\n",
       "      <td>[{'start': 540032, 'end': 540414}, {'start': 5...</td>\n",
       "    </tr>\n",
       "    <tr>\n",
       "      <th>10</th>\n",
       "      <td>2</td>\n",
       "      <td>0.05</td>\n",
       "      <td>many people</td>\n",
       "      <td>[{'start': 543082, 'end': 543690}, {'start': 5...</td>\n",
       "    </tr>\n",
       "    <tr>\n",
       "      <th>11</th>\n",
       "      <td>1</td>\n",
       "      <td>0.05</td>\n",
       "      <td>good coding</td>\n",
       "      <td>[{'start': 378884, 'end': 379474}]</td>\n",
       "    </tr>\n",
       "    <tr>\n",
       "      <th>12</th>\n",
       "      <td>1</td>\n",
       "      <td>0.05</td>\n",
       "      <td>Coding languages</td>\n",
       "      <td>[{'start': 290554, 'end': 291358}]</td>\n",
       "    </tr>\n",
       "    <tr>\n",
       "      <th>13</th>\n",
       "      <td>3</td>\n",
       "      <td>0.04</td>\n",
       "      <td>object oriented programming</td>\n",
       "      <td>[{'start': 433352, 'end': 434782}, {'start': 4...</td>\n",
       "    </tr>\n",
       "    <tr>\n",
       "      <th>14</th>\n",
       "      <td>6</td>\n",
       "      <td>0.04</td>\n",
       "      <td>projects</td>\n",
       "      <td>[{'start': 89984, 'end': 90562}, {'start': 237...</td>\n",
       "    </tr>\n",
       "  </tbody>\n",
       "</table>\n",
       "</div>"
      ],
      "text/plain": [
       "    count  rank                          text  \\\n",
       "0       1  0.07                   Python code   \n",
       "1       7  0.06                  data science   \n",
       "2       1  0.06         data science learning   \n",
       "3       1  0.06  tangible data science skills   \n",
       "4       1  0.05     different data structures   \n",
       "5       1  0.05            other great videos   \n",
       "6       1  0.05                    data types   \n",
       "7       1  0.05                   data frames   \n",
       "8       2  0.05               Data scientists   \n",
       "9       2  0.05                  other people   \n",
       "10      2  0.05                   many people   \n",
       "11      1  0.05                   good coding   \n",
       "12      1  0.05              Coding languages   \n",
       "13      3  0.04   object oriented programming   \n",
       "14      6  0.04                      projects   \n",
       "\n",
       "                                           timestamps  \n",
       "0                  [{'start': 270164, 'end': 270870}]  \n",
       "1   [{'start': 33404, 'end': 33934}, {'start': 679...  \n",
       "2                    [{'start': 88916, 'end': 89730}]  \n",
       "3                  [{'start': 470132, 'end': 471394}]  \n",
       "4                  [{'start': 329504, 'end': 330478}]  \n",
       "5                    [{'start': 38756, 'end': 39522}]  \n",
       "6                  [{'start': 323264, 'end': 323986}]  \n",
       "7                  [{'start': 412388, 'end': 412930}]  \n",
       "8   [{'start': 100412, 'end': 101146}, {'start': 1...  \n",
       "9   [{'start': 540032, 'end': 540414}, {'start': 5...  \n",
       "10  [{'start': 543082, 'end': 543690}, {'start': 5...  \n",
       "11                 [{'start': 378884, 'end': 379474}]  \n",
       "12                 [{'start': 290554, 'end': 291358}]  \n",
       "13  [{'start': 433352, 'end': 434782}, {'start': 4...  \n",
       "14  [{'start': 89984, 'end': 90562}, {'start': 237...  "
      ]
     },
     "execution_count": 108,
     "metadata": {},
     "output_type": "execute_result"
    }
   ],
   "source": [
    "highlights = data[\"auto_highlights_result\"][\"results\"]\n",
    "highlights_df = pd.DataFrame(highlights)\n",
    "highlights_df"
   ]
  },
  {
   "cell_type": "markdown",
   "id": "47dc2a3a-dd73-4179-9777-b82f1d84146e",
   "metadata": {},
   "source": [
    "## Dashboard"
   ]
  },
  {
   "cell_type": "code",
   "execution_count": 109,
   "id": "0dd7f1a0-9242-4fca-8590-72c3c15f467d",
   "metadata": {
    "tags": []
   },
   "outputs": [
    {
     "name": "stderr",
     "output_type": "stream",
     "text": [
      "WARNING:param.ParamFunction02301: The function supplied for Panel to display was declared with `watch=True`, which will cause the function to be called twice for any change in a dependent Parameter. `watch` should be False when Panel is responsible for displaying the result of the function call, while `watch=True` should be reserved for functions that work via side-effects, e.g. by modifying internal state of a class or global state in an application's namespace.\n",
      "WARNING:param.Row02308: Setting non-parameter attribute title=WordCloud of Speech Content using a mechanism intended only for parameters\n",
      "WARNING:param.Row02317: Setting non-parameter attribute title=Automatic Highlights using a mechanism intended only for parameters\n"
     ]
    },
    {
     "name": "stdout",
     "output_type": "stream",
     "text": [
      "Launching server at http://localhost:57140\n"
     ]
    },
    {
     "data": {
      "text/plain": [
       "<bokeh.server.server.Server at 0x1510e8df0>"
      ]
     },
     "execution_count": 109,
     "metadata": {},
     "output_type": "execute_result"
    }
   ],
   "source": [
    "# Dashboard template\n",
    "template = pn.template.FastListTemplate(\n",
    "    title='Audio Content Explorer', \n",
    "    sidebar=[pn.pane.Markdown(\"# Explore audio content\"), \n",
    "             pn.pane.Markdown(\"#### This app analyzes the content of your audio file, including sentiment, wordcloud, automatic content summary and highlights using AssemblyAI API.\"),\n",
    "             pn.pane.Markdown(\"#### This example is based on the audio content of Ken Jee's Youtube video on how to learn to code.\"),\n",
    "             pn.pane.PNG(\"kenjee_thumbnail.png\", sizing_mode=\"scale_both\"),\n",
    "             pn.pane.Markdown(\"### [Link to video!](https://www.youtube.com/watch?v=EBjYqC3aNTA&t=311s)\"),\n",
    "             pn.pane.Markdown(\"### Download transcript:\"),\n",
    "             transcript_download\n",
    "             ],\n",
    "    main=[pn.Row(pn.Column(sentiment_tabs), pn.Column(pn.Row(controller.param.word_slider), \n",
    "                                                      pn.Row(update_wordcloud, title = \"WordCloud of Speech Content\"))\n",
    "                ),\n",
    "          pn.Row(chapters_layout),\n",
    "          pn.Row(highlights_plot, title = \"Automatic Highlights\")],\n",
    "    accent_base_color=\"#88d8b0\",\n",
    "    header_background=\"#c0b9dd\",\n",
    ")\n",
    "\n",
    "template.show()"
   ]
  },
  {
   "cell_type": "code",
   "execution_count": 111,
   "id": "4ee49608-0b35-4f08-9d51-5333fed2aa8e",
   "metadata": {},
   "outputs": [],
   "source": [
    "# Get requirements\n",
    "!pip3 freeze > requirements.txt"
   ]
  }
 ],
 "metadata": {
  "kernelspec": {
   "display_name": "Python 3 (ipykernel)",
   "language": "python",
   "name": "python3"
  },
  "language_info": {
   "codemirror_mode": {
    "name": "ipython",
    "version": 3
   },
   "file_extension": ".py",
   "mimetype": "text/x-python",
   "name": "python",
   "nbconvert_exporter": "python",
   "pygments_lexer": "ipython3",
   "version": "3.9.10"
  }
 },
 "nbformat": 4,
 "nbformat_minor": 5
}
